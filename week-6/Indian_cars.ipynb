{
  "nbformat": 4,
  "nbformat_minor": 0,
  "metadata": {
    "colab": {
      "provenance": []
    },
    "kernelspec": {
      "name": "python3",
      "display_name": "Python 3"
    },
    "language_info": {
      "name": "python"
    }
  },
  "cells": [
    {
      "cell_type": "markdown",
      "source": [
        "# Indian Cars: Data Analysis and Visualization"
      ],
      "metadata": {
        "id": "EVJdIkGBuNZ-"
      }
    },
    {
      "cell_type": "markdown",
      "source": [
        "* Around 3.34 Lakh passenger cars were sold in the Indian market in May 2023. The sales increased by over 13% when compared to May last year. The Top 25 Selling Cars constituted over 75% of the cars sold in April 2023.\n",
        "\n",
        "* This dataset consists of 141 columns. Perform Exploratory Data analysis on this dataset. Document the findings and insights using proper graphs to represent the data."
      ],
      "metadata": {
        "id": "O3d13HfruUXQ"
      }
    },
    {
      "cell_type": "code",
      "execution_count": 176,
      "metadata": {
        "id": "khXcrQNIJFF-"
      },
      "outputs": [],
      "source": [
        "import numpy as np\n",
        "import pandas as pd\n",
        "import seaborn as sns\n",
        "import matplotlib.pyplot as plt\n",
        "%matplotlib inline\n",
        "sns.set(style=\"whitegrid\")"
      ]
    },
    {
      "cell_type": "markdown",
      "source": [
        "## Basic Cleanning"
      ],
      "metadata": {
        "id": "XYnolAJ4t6Xo"
      }
    },
    {
      "cell_type": "code",
      "source": [
        "data = pd.read_csv('https://raw.githubusercontent.com/rajvalvi/Prepinsta-Winter-Internship-in-Data-Analytics/main/week-6/cars_ds_final.csv',index_col=0)"
      ],
      "metadata": {
        "id": "6w7bFGgGJRIF"
      },
      "execution_count": 214,
      "outputs": []
    },
    {
      "cell_type": "code",
      "source": [
        "data.info(verbose=True,null_counts=True)"
      ],
      "metadata": {
        "colab": {
          "base_uri": "https://localhost:8080/"
        },
        "id": "ioRj6dJIxXOb",
        "outputId": "36b8125f-7efd-4054-9d32-fde2cef47dfc"
      },
      "execution_count": 215,
      "outputs": [
        {
          "output_type": "stream",
          "name": "stdout",
          "text": [
            "<class 'pandas.core.frame.DataFrame'>\n",
            "Int64Index: 1276 entries, 0 to 1275\n",
            "Data columns (total 140 columns):\n",
            " #    Column                                     Non-Null Count  Dtype  \n",
            "---   ------                                     --------------  -----  \n",
            " 0    Make                                       1201 non-null   object \n",
            " 1    Model                                      1276 non-null   object \n",
            " 2    Variant                                    1276 non-null   object \n",
            " 3    Ex-Showroom_Price                          1276 non-null   object \n",
            " 4    Displacement                               1264 non-null   object \n",
            " 5    Cylinders                                  1210 non-null   float64\n",
            " 6    Valves_Per_Cylinder                        1174 non-null   float64\n",
            " 7    Drivetrain                                 1269 non-null   object \n",
            " 8    Cylinder_Configuration                     1263 non-null   object \n",
            " 9    Emission_Norm                              1265 non-null   object \n",
            " 10   Engine_Location                            1233 non-null   object \n",
            " 11   Fuel_System                                1268 non-null   object \n",
            " 12   Fuel_Tank_Capacity                         1207 non-null   object \n",
            " 13   Fuel_Type                                  1276 non-null   object \n",
            " 14   Height                                     1275 non-null   object \n",
            " 15   Length                                     1276 non-null   object \n",
            " 16   Width                                      1264 non-null   object \n",
            " 17   Body_Type                                  1270 non-null   object \n",
            " 18   Doors                                      1272 non-null   float64\n",
            " 19   City_Mileage                               721 non-null    object \n",
            " 20   Highway_Mileage                            476 non-null    object \n",
            " 21   ARAI_Certified_Mileage                     1162 non-null   object \n",
            " 22   ARAI_Certified_Mileage_for_CNG             27 non-null     object \n",
            " 23   Kerb_Weight                                911 non-null    object \n",
            " 24   Gears                                      1171 non-null   object \n",
            " 25   Ground_Clearance                           987 non-null    object \n",
            " 26   Front_Brakes                               1251 non-null   object \n",
            " 27   Rear_Brakes                                1251 non-null   object \n",
            " 28   Front_Suspension                           1217 non-null   object \n",
            " 29   Rear_Suspension                            1230 non-null   object \n",
            " 30   Front_Track                                609 non-null    object \n",
            " 31   Rear_Track                                 600 non-null    object \n",
            " 32   Front_Tyre_&_Rim                           1227 non-null   object \n",
            " 33   Rear_Tyre_&_Rim                            1228 non-null   object \n",
            " 34   Power_Steering                             1219 non-null   object \n",
            " 35   Power_Windows                              1179 non-null   object \n",
            " 36   Power_Seats                                383 non-null    object \n",
            " 37   Keyless_Entry                              1002 non-null   object \n",
            " 38   Power                                      1276 non-null   object \n",
            " 39   Torque                                     1274 non-null   object \n",
            " 40   Odometer                                   1233 non-null   object \n",
            " 41   Speedometer                                1231 non-null   object \n",
            " 42   Tachometer                                 1263 non-null   object \n",
            " 43   Tripmeter                                  1216 non-null   object \n",
            " 44   Seating_Capacity                           1270 non-null   float64\n",
            " 45   Seats_Material                             1264 non-null   object \n",
            " 46   Type                                       1275 non-null   object \n",
            " 47   Wheelbase                                  1256 non-null   object \n",
            " 48   Wheels_Size                                1220 non-null   object \n",
            " 49   Start_/_Stop_Button                        598 non-null    object \n",
            " 50   12v_Power_Outlet                           1122 non-null   object \n",
            " 51   Audiosystem                                1232 non-null   object \n",
            " 52   Aux-in_Compatibility                       992 non-null    object \n",
            " 53   Average_Fuel_Consumption                   931 non-null    object \n",
            " 54   Basic_Warranty                             836 non-null    object \n",
            " 55   Bluetooth                                  984 non-null    object \n",
            " 56   Boot-lid_Opener                            1262 non-null   object \n",
            " 57   Boot_Space                                 1027 non-null   object \n",
            " 58   CD_/_MP3_/_DVD_Player                      967 non-null    object \n",
            " 59   Central_Locking                            1127 non-null   object \n",
            " 60   Child_Safety_Locks                         1201 non-null   object \n",
            " 61   Clock                                      1142 non-null   object \n",
            " 62   Cup_Holders                                1235 non-null   object \n",
            " 63   Distance_to_Empty                          1033 non-null   object \n",
            " 64   Door_Pockets                               1159 non-null   object \n",
            " 65   Engine_Malfunction_Light                   1159 non-null   object \n",
            " 66   Extended_Warranty                          615 non-null    object \n",
            " 67   FM_Radio                                   1027 non-null   object \n",
            " 68   Fuel-lid_Opener                            1262 non-null   object \n",
            " 69   Fuel_Gauge                                 1237 non-null   object \n",
            " 70   Handbrake                                  1219 non-null   object \n",
            " 71   Instrument_Console                         1262 non-null   object \n",
            " 72   Low_Fuel_Warning                           1240 non-null   object \n",
            " 73   Minimum_Turning_Radius                     895 non-null    object \n",
            " 74   Multifunction_Display                      1187 non-null   object \n",
            " 75   Sun_Visor                                  1214 non-null   object \n",
            " 76   Third_Row_AC_Vents                         910 non-null    object \n",
            " 77   Ventilation_System                         1241 non-null   object \n",
            " 78   Auto-Dimming_Rear-View_Mirror              656 non-null    object \n",
            " 79   Hill_Assist                                480 non-null    object \n",
            " 80   Gear_Indicator                             777 non-null    object \n",
            " 81   3_Point_Seat-Belt_in_Middle_Rear_Seat      51 non-null     object \n",
            " 82   Ambient_Lightning                          56 non-null     object \n",
            " 83   Cargo/Boot_Lights                          121 non-null    object \n",
            " 84   Drive_Modes                                195 non-null    object \n",
            " 85   Engine_Immobilizer                         1216 non-null   object \n",
            " 86   High_Speed_Alert_System                    208 non-null    object \n",
            " 87   Lane_Watch_Camera/_Side_Mirror_Camera      66 non-null     object \n",
            " 88   Passenger_Side_Seat-Belt_Reminder          171 non-null    object \n",
            " 89   Seat_Back_Pockets                          833 non-null    object \n",
            " 90   Voice_Recognition                          132 non-null    object \n",
            " 91   Walk_Away_Auto_Car_Lock                    103 non-null    object \n",
            " 92   ABS_(Anti-lock_Braking_System)             1144 non-null   object \n",
            " 93   Headlight_Reminder                         1018 non-null   object \n",
            " 94   Adjustable_Headrests                       1026 non-null   object \n",
            " 95   Gross_Vehicle_Weight                       681 non-null    object \n",
            " 96   Airbags                                    1144 non-null   object \n",
            " 97   Door_Ajar_Warning                          1133 non-null   object \n",
            " 98   EBD_(Electronic_Brake-force_Distribution)  1075 non-null   object \n",
            " 99   Fasten_Seat_Belt_Warning                   1086 non-null   object \n",
            " 100  Gear_Shift_Reminder                        733 non-null    object \n",
            " 101  Number_of_Airbags                          1141 non-null   float64\n",
            " 102  Compression_Ratio                          359 non-null    object \n",
            " 103  Adjustable_Steering_Column                 1085 non-null   object \n",
            " 104  Other_Specs                                10 non-null     object \n",
            " 105  Other_specs                                63 non-null     object \n",
            " 106  Parking_Assistance                         986 non-null    object \n",
            " 107  Key_Off_Reminder                           936 non-null    object \n",
            " 108  USB_Compatibility                          1009 non-null   object \n",
            " 109  Android_Auto                               173 non-null    object \n",
            " 110  Apple_CarPlay                              173 non-null    object \n",
            " 111  Cigarette_Lighter                          594 non-null    object \n",
            " 112  Infotainment_Screen                        814 non-null    object \n",
            " 113  Multifunction_Steering_Wheel               925 non-null    object \n",
            " 114  Average_Speed                              764 non-null    object \n",
            " 115  EBA_(Electronic_Brake_Assist)              586 non-null    object \n",
            " 116  Seat_Height_Adjustment                     950 non-null    object \n",
            " 117  Navigation_System                          683 non-null    object \n",
            " 118  Second_Row_AC_Vents                        674 non-null    object \n",
            " 119  Tyre_Pressure_Monitoring_System            340 non-null    object \n",
            " 120  Rear_Center_Armrest                        717 non-null    object \n",
            " 121  iPod_Compatibility                         613 non-null    object \n",
            " 122  ESP_(Electronic_Stability_Program)         497 non-null    object \n",
            " 123  Cooled_Glove_Box                           631 non-null    object \n",
            " 124  Recommended_Tyre_Pressure                  10 non-null     object \n",
            " 125  Heated_Seats                               266 non-null    object \n",
            " 126  Turbocharger                               658 non-null    object \n",
            " 127  ISOFIX_(Child-Seat_Mount)                  610 non-null    object \n",
            " 128  Rain_Sensing_Wipers                        478 non-null    object \n",
            " 129  Paddle_Shifters                            304 non-null    object \n",
            " 130  Leather_Wrapped_Steering                   587 non-null    object \n",
            " 131  Automatic_Headlamps                        502 non-null    object \n",
            " 132  Engine_Type                                34 non-null     object \n",
            " 133  ASR_/_Traction_Control                     442 non-null    object \n",
            " 134  Cruise_Control                             549 non-null    object \n",
            " 135  USB_Ports                                  29 non-null     float64\n",
            " 136  Heads-Up_Display                           51 non-null     object \n",
            " 137  Welcome_Lights                             69 non-null     object \n",
            " 138  Battery                                    13 non-null     object \n",
            " 139  Electric_Range                             17 non-null     object \n",
            "dtypes: float64(6), object(134)\n",
            "memory usage: 1.4+ MB\n"
          ]
        },
        {
          "output_type": "stream",
          "name": "stderr",
          "text": [
            "<ipython-input-215-83ed814146b6>:1: FutureWarning: null_counts is deprecated. Use show_counts instead\n",
            "  data.info(verbose=True,null_counts=True)\n"
          ]
        }
      ]
    },
    {
      "cell_type": "code",
      "source": [
        "data.shape"
      ],
      "metadata": {
        "colab": {
          "base_uri": "https://localhost:8080/"
        },
        "id": "pQPJKuLUJYd7",
        "outputId": "625abc7a-98e3-4021-cd47-73c4cf507a8f"
      },
      "execution_count": 216,
      "outputs": [
        {
          "output_type": "execute_result",
          "data": {
            "text/plain": [
              "(1276, 140)"
            ]
          },
          "metadata": {},
          "execution_count": 216
        }
      ]
    },
    {
      "cell_type": "code",
      "source": [
        "data.sample(5)"
      ],
      "metadata": {
        "id": "O0VbI7IVJdYx",
        "outputId": "6c7cd643-f023-4e55-d593-40c02f3804b2",
        "colab": {
          "base_uri": "https://localhost:8080/",
          "height": 0
        }
      },
      "execution_count": 217,
      "outputs": [
        {
          "output_type": "execute_result",
          "data": {
            "text/plain": [
              "               Make          Model                   Variant  \\\n",
              "1134        Hyundai          Creta     Sports Edition Petrol   \n",
              "325        Maserati        Levante                    Diesel   \n",
              "963         Renault         Captur  Platine Petrol Dual Tone   \n",
              "542   Maruti Suzuki  Vitara Brezza            Zdi+ Dual Tone   \n",
              "762          Toyota       Fortuner                2.8 4X2 Mt   \n",
              "\n",
              "     Ex-Showroom_Price Displacement  Cylinders  Valves_Per_Cylinder  \\\n",
              "1134     Rs. 12,79,983      1591 cc        4.0                  4.0   \n",
              "325    Rs. 1,45,12,054      2987 cc        6.0                  4.0   \n",
              "963      Rs. 11,99,999      1498 cc        4.0                  4.0   \n",
              "542      Rs. 10,03,552      1248 cc        4.0                  4.0   \n",
              "762      Rs. 30,19,000      2755 cc        4.0                  4.0   \n",
              "\n",
              "                   Drivetrain Cylinder_Configuration Emission_Norm  ...  \\\n",
              "1134  FWD (Front Wheel Drive)                In-line         BS IV  ...   \n",
              "325     AWD (All Wheel Drive)                      V         BS IV  ...   \n",
              "963   FWD (Front Wheel Drive)                In-line         BS IV  ...   \n",
              "542   FWD (Front Wheel Drive)                In-line         BS IV  ...   \n",
              "762    RWD (Rear Wheel Drive)                In-line         BS IV  ...   \n",
              "\n",
              "     Leather_Wrapped_Steering Automatic_Headlamps Engine_Type  \\\n",
              "1134                      Yes                 NaN         NaN   \n",
              "325                       Yes                 Yes         NaN   \n",
              "963                       Yes                 Yes         NaN   \n",
              "542                       NaN                 Yes         NaN   \n",
              "762                       Yes                 Yes         NaN   \n",
              "\n",
              "     ASR_/_Traction_Control Cruise_Control USB_Ports Heads-Up_Display  \\\n",
              "1134                    NaN            NaN       NaN              NaN   \n",
              "325                     Yes            Yes       NaN              NaN   \n",
              "963                     Yes            Yes       NaN              NaN   \n",
              "542                     NaN            Yes       NaN              NaN   \n",
              "762                     NaN            NaN       NaN              NaN   \n",
              "\n",
              "     Welcome_Lights  Battery Electric_Range  \n",
              "1134            NaN      NaN            NaN  \n",
              "325             NaN      NaN            NaN  \n",
              "963             NaN      NaN            NaN  \n",
              "542             NaN      NaN            NaN  \n",
              "762             NaN      NaN            NaN  \n",
              "\n",
              "[5 rows x 140 columns]"
            ],
            "text/html": [
              "\n",
              "  <div id=\"df-43386ff3-762e-4843-9a91-3525241f54f4\" class=\"colab-df-container\">\n",
              "    <div>\n",
              "<style scoped>\n",
              "    .dataframe tbody tr th:only-of-type {\n",
              "        vertical-align: middle;\n",
              "    }\n",
              "\n",
              "    .dataframe tbody tr th {\n",
              "        vertical-align: top;\n",
              "    }\n",
              "\n",
              "    .dataframe thead th {\n",
              "        text-align: right;\n",
              "    }\n",
              "</style>\n",
              "<table border=\"1\" class=\"dataframe\">\n",
              "  <thead>\n",
              "    <tr style=\"text-align: right;\">\n",
              "      <th></th>\n",
              "      <th>Make</th>\n",
              "      <th>Model</th>\n",
              "      <th>Variant</th>\n",
              "      <th>Ex-Showroom_Price</th>\n",
              "      <th>Displacement</th>\n",
              "      <th>Cylinders</th>\n",
              "      <th>Valves_Per_Cylinder</th>\n",
              "      <th>Drivetrain</th>\n",
              "      <th>Cylinder_Configuration</th>\n",
              "      <th>Emission_Norm</th>\n",
              "      <th>...</th>\n",
              "      <th>Leather_Wrapped_Steering</th>\n",
              "      <th>Automatic_Headlamps</th>\n",
              "      <th>Engine_Type</th>\n",
              "      <th>ASR_/_Traction_Control</th>\n",
              "      <th>Cruise_Control</th>\n",
              "      <th>USB_Ports</th>\n",
              "      <th>Heads-Up_Display</th>\n",
              "      <th>Welcome_Lights</th>\n",
              "      <th>Battery</th>\n",
              "      <th>Electric_Range</th>\n",
              "    </tr>\n",
              "  </thead>\n",
              "  <tbody>\n",
              "    <tr>\n",
              "      <th>1134</th>\n",
              "      <td>Hyundai</td>\n",
              "      <td>Creta</td>\n",
              "      <td>Sports Edition Petrol</td>\n",
              "      <td>Rs. 12,79,983</td>\n",
              "      <td>1591 cc</td>\n",
              "      <td>4.0</td>\n",
              "      <td>4.0</td>\n",
              "      <td>FWD (Front Wheel Drive)</td>\n",
              "      <td>In-line</td>\n",
              "      <td>BS IV</td>\n",
              "      <td>...</td>\n",
              "      <td>Yes</td>\n",
              "      <td>NaN</td>\n",
              "      <td>NaN</td>\n",
              "      <td>NaN</td>\n",
              "      <td>NaN</td>\n",
              "      <td>NaN</td>\n",
              "      <td>NaN</td>\n",
              "      <td>NaN</td>\n",
              "      <td>NaN</td>\n",
              "      <td>NaN</td>\n",
              "    </tr>\n",
              "    <tr>\n",
              "      <th>325</th>\n",
              "      <td>Maserati</td>\n",
              "      <td>Levante</td>\n",
              "      <td>Diesel</td>\n",
              "      <td>Rs. 1,45,12,054</td>\n",
              "      <td>2987 cc</td>\n",
              "      <td>6.0</td>\n",
              "      <td>4.0</td>\n",
              "      <td>AWD (All Wheel Drive)</td>\n",
              "      <td>V</td>\n",
              "      <td>BS IV</td>\n",
              "      <td>...</td>\n",
              "      <td>Yes</td>\n",
              "      <td>Yes</td>\n",
              "      <td>NaN</td>\n",
              "      <td>Yes</td>\n",
              "      <td>Yes</td>\n",
              "      <td>NaN</td>\n",
              "      <td>NaN</td>\n",
              "      <td>NaN</td>\n",
              "      <td>NaN</td>\n",
              "      <td>NaN</td>\n",
              "    </tr>\n",
              "    <tr>\n",
              "      <th>963</th>\n",
              "      <td>Renault</td>\n",
              "      <td>Captur</td>\n",
              "      <td>Platine Petrol Dual Tone</td>\n",
              "      <td>Rs. 11,99,999</td>\n",
              "      <td>1498 cc</td>\n",
              "      <td>4.0</td>\n",
              "      <td>4.0</td>\n",
              "      <td>FWD (Front Wheel Drive)</td>\n",
              "      <td>In-line</td>\n",
              "      <td>BS IV</td>\n",
              "      <td>...</td>\n",
              "      <td>Yes</td>\n",
              "      <td>Yes</td>\n",
              "      <td>NaN</td>\n",
              "      <td>Yes</td>\n",
              "      <td>Yes</td>\n",
              "      <td>NaN</td>\n",
              "      <td>NaN</td>\n",
              "      <td>NaN</td>\n",
              "      <td>NaN</td>\n",
              "      <td>NaN</td>\n",
              "    </tr>\n",
              "    <tr>\n",
              "      <th>542</th>\n",
              "      <td>Maruti Suzuki</td>\n",
              "      <td>Vitara Brezza</td>\n",
              "      <td>Zdi+ Dual Tone</td>\n",
              "      <td>Rs. 10,03,552</td>\n",
              "      <td>1248 cc</td>\n",
              "      <td>4.0</td>\n",
              "      <td>4.0</td>\n",
              "      <td>FWD (Front Wheel Drive)</td>\n",
              "      <td>In-line</td>\n",
              "      <td>BS IV</td>\n",
              "      <td>...</td>\n",
              "      <td>NaN</td>\n",
              "      <td>Yes</td>\n",
              "      <td>NaN</td>\n",
              "      <td>NaN</td>\n",
              "      <td>Yes</td>\n",
              "      <td>NaN</td>\n",
              "      <td>NaN</td>\n",
              "      <td>NaN</td>\n",
              "      <td>NaN</td>\n",
              "      <td>NaN</td>\n",
              "    </tr>\n",
              "    <tr>\n",
              "      <th>762</th>\n",
              "      <td>Toyota</td>\n",
              "      <td>Fortuner</td>\n",
              "      <td>2.8 4X2 Mt</td>\n",
              "      <td>Rs. 30,19,000</td>\n",
              "      <td>2755 cc</td>\n",
              "      <td>4.0</td>\n",
              "      <td>4.0</td>\n",
              "      <td>RWD (Rear Wheel Drive)</td>\n",
              "      <td>In-line</td>\n",
              "      <td>BS IV</td>\n",
              "      <td>...</td>\n",
              "      <td>Yes</td>\n",
              "      <td>Yes</td>\n",
              "      <td>NaN</td>\n",
              "      <td>NaN</td>\n",
              "      <td>NaN</td>\n",
              "      <td>NaN</td>\n",
              "      <td>NaN</td>\n",
              "      <td>NaN</td>\n",
              "      <td>NaN</td>\n",
              "      <td>NaN</td>\n",
              "    </tr>\n",
              "  </tbody>\n",
              "</table>\n",
              "<p>5 rows × 140 columns</p>\n",
              "</div>\n",
              "    <div class=\"colab-df-buttons\">\n",
              "\n",
              "  <div class=\"colab-df-container\">\n",
              "    <button class=\"colab-df-convert\" onclick=\"convertToInteractive('df-43386ff3-762e-4843-9a91-3525241f54f4')\"\n",
              "            title=\"Convert this dataframe to an interactive table.\"\n",
              "            style=\"display:none;\">\n",
              "\n",
              "  <svg xmlns=\"http://www.w3.org/2000/svg\" height=\"24px\" viewBox=\"0 -960 960 960\">\n",
              "    <path d=\"M120-120v-720h720v720H120Zm60-500h600v-160H180v160Zm220 220h160v-160H400v160Zm0 220h160v-160H400v160ZM180-400h160v-160H180v160Zm440 0h160v-160H620v160ZM180-180h160v-160H180v160Zm440 0h160v-160H620v160Z\"/>\n",
              "  </svg>\n",
              "    </button>\n",
              "\n",
              "  <style>\n",
              "    .colab-df-container {\n",
              "      display:flex;\n",
              "      gap: 12px;\n",
              "    }\n",
              "\n",
              "    .colab-df-convert {\n",
              "      background-color: #E8F0FE;\n",
              "      border: none;\n",
              "      border-radius: 50%;\n",
              "      cursor: pointer;\n",
              "      display: none;\n",
              "      fill: #1967D2;\n",
              "      height: 32px;\n",
              "      padding: 0 0 0 0;\n",
              "      width: 32px;\n",
              "    }\n",
              "\n",
              "    .colab-df-convert:hover {\n",
              "      background-color: #E2EBFA;\n",
              "      box-shadow: 0px 1px 2px rgba(60, 64, 67, 0.3), 0px 1px 3px 1px rgba(60, 64, 67, 0.15);\n",
              "      fill: #174EA6;\n",
              "    }\n",
              "\n",
              "    .colab-df-buttons div {\n",
              "      margin-bottom: 4px;\n",
              "    }\n",
              "\n",
              "    [theme=dark] .colab-df-convert {\n",
              "      background-color: #3B4455;\n",
              "      fill: #D2E3FC;\n",
              "    }\n",
              "\n",
              "    [theme=dark] .colab-df-convert:hover {\n",
              "      background-color: #434B5C;\n",
              "      box-shadow: 0px 1px 3px 1px rgba(0, 0, 0, 0.15);\n",
              "      filter: drop-shadow(0px 1px 2px rgba(0, 0, 0, 0.3));\n",
              "      fill: #FFFFFF;\n",
              "    }\n",
              "  </style>\n",
              "\n",
              "    <script>\n",
              "      const buttonEl =\n",
              "        document.querySelector('#df-43386ff3-762e-4843-9a91-3525241f54f4 button.colab-df-convert');\n",
              "      buttonEl.style.display =\n",
              "        google.colab.kernel.accessAllowed ? 'block' : 'none';\n",
              "\n",
              "      async function convertToInteractive(key) {\n",
              "        const element = document.querySelector('#df-43386ff3-762e-4843-9a91-3525241f54f4');\n",
              "        const dataTable =\n",
              "          await google.colab.kernel.invokeFunction('convertToInteractive',\n",
              "                                                    [key], {});\n",
              "        if (!dataTable) return;\n",
              "\n",
              "        const docLinkHtml = 'Like what you see? Visit the ' +\n",
              "          '<a target=\"_blank\" href=https://colab.research.google.com/notebooks/data_table.ipynb>data table notebook</a>'\n",
              "          + ' to learn more about interactive tables.';\n",
              "        element.innerHTML = '';\n",
              "        dataTable['output_type'] = 'display_data';\n",
              "        await google.colab.output.renderOutput(dataTable, element);\n",
              "        const docLink = document.createElement('div');\n",
              "        docLink.innerHTML = docLinkHtml;\n",
              "        element.appendChild(docLink);\n",
              "      }\n",
              "    </script>\n",
              "  </div>\n",
              "\n",
              "\n",
              "<div id=\"df-c53b67cd-6cc9-4e88-9d3a-d95a0d774c7e\">\n",
              "  <button class=\"colab-df-quickchart\" onclick=\"quickchart('df-c53b67cd-6cc9-4e88-9d3a-d95a0d774c7e')\"\n",
              "            title=\"Suggest charts\"\n",
              "            style=\"display:none;\">\n",
              "\n",
              "<svg xmlns=\"http://www.w3.org/2000/svg\" height=\"24px\"viewBox=\"0 0 24 24\"\n",
              "     width=\"24px\">\n",
              "    <g>\n",
              "        <path d=\"M19 3H5c-1.1 0-2 .9-2 2v14c0 1.1.9 2 2 2h14c1.1 0 2-.9 2-2V5c0-1.1-.9-2-2-2zM9 17H7v-7h2v7zm4 0h-2V7h2v10zm4 0h-2v-4h2v4z\"/>\n",
              "    </g>\n",
              "</svg>\n",
              "  </button>\n",
              "\n",
              "<style>\n",
              "  .colab-df-quickchart {\n",
              "      --bg-color: #E8F0FE;\n",
              "      --fill-color: #1967D2;\n",
              "      --hover-bg-color: #E2EBFA;\n",
              "      --hover-fill-color: #174EA6;\n",
              "      --disabled-fill-color: #AAA;\n",
              "      --disabled-bg-color: #DDD;\n",
              "  }\n",
              "\n",
              "  [theme=dark] .colab-df-quickchart {\n",
              "      --bg-color: #3B4455;\n",
              "      --fill-color: #D2E3FC;\n",
              "      --hover-bg-color: #434B5C;\n",
              "      --hover-fill-color: #FFFFFF;\n",
              "      --disabled-bg-color: #3B4455;\n",
              "      --disabled-fill-color: #666;\n",
              "  }\n",
              "\n",
              "  .colab-df-quickchart {\n",
              "    background-color: var(--bg-color);\n",
              "    border: none;\n",
              "    border-radius: 50%;\n",
              "    cursor: pointer;\n",
              "    display: none;\n",
              "    fill: var(--fill-color);\n",
              "    height: 32px;\n",
              "    padding: 0;\n",
              "    width: 32px;\n",
              "  }\n",
              "\n",
              "  .colab-df-quickchart:hover {\n",
              "    background-color: var(--hover-bg-color);\n",
              "    box-shadow: 0 1px 2px rgba(60, 64, 67, 0.3), 0 1px 3px 1px rgba(60, 64, 67, 0.15);\n",
              "    fill: var(--button-hover-fill-color);\n",
              "  }\n",
              "\n",
              "  .colab-df-quickchart-complete:disabled,\n",
              "  .colab-df-quickchart-complete:disabled:hover {\n",
              "    background-color: var(--disabled-bg-color);\n",
              "    fill: var(--disabled-fill-color);\n",
              "    box-shadow: none;\n",
              "  }\n",
              "\n",
              "  .colab-df-spinner {\n",
              "    border: 2px solid var(--fill-color);\n",
              "    border-color: transparent;\n",
              "    border-bottom-color: var(--fill-color);\n",
              "    animation:\n",
              "      spin 1s steps(1) infinite;\n",
              "  }\n",
              "\n",
              "  @keyframes spin {\n",
              "    0% {\n",
              "      border-color: transparent;\n",
              "      border-bottom-color: var(--fill-color);\n",
              "      border-left-color: var(--fill-color);\n",
              "    }\n",
              "    20% {\n",
              "      border-color: transparent;\n",
              "      border-left-color: var(--fill-color);\n",
              "      border-top-color: var(--fill-color);\n",
              "    }\n",
              "    30% {\n",
              "      border-color: transparent;\n",
              "      border-left-color: var(--fill-color);\n",
              "      border-top-color: var(--fill-color);\n",
              "      border-right-color: var(--fill-color);\n",
              "    }\n",
              "    40% {\n",
              "      border-color: transparent;\n",
              "      border-right-color: var(--fill-color);\n",
              "      border-top-color: var(--fill-color);\n",
              "    }\n",
              "    60% {\n",
              "      border-color: transparent;\n",
              "      border-right-color: var(--fill-color);\n",
              "    }\n",
              "    80% {\n",
              "      border-color: transparent;\n",
              "      border-right-color: var(--fill-color);\n",
              "      border-bottom-color: var(--fill-color);\n",
              "    }\n",
              "    90% {\n",
              "      border-color: transparent;\n",
              "      border-bottom-color: var(--fill-color);\n",
              "    }\n",
              "  }\n",
              "</style>\n",
              "\n",
              "  <script>\n",
              "    async function quickchart(key) {\n",
              "      const quickchartButtonEl =\n",
              "        document.querySelector('#' + key + ' button');\n",
              "      quickchartButtonEl.disabled = true;  // To prevent multiple clicks.\n",
              "      quickchartButtonEl.classList.add('colab-df-spinner');\n",
              "      try {\n",
              "        const charts = await google.colab.kernel.invokeFunction(\n",
              "            'suggestCharts', [key], {});\n",
              "      } catch (error) {\n",
              "        console.error('Error during call to suggestCharts:', error);\n",
              "      }\n",
              "      quickchartButtonEl.classList.remove('colab-df-spinner');\n",
              "      quickchartButtonEl.classList.add('colab-df-quickchart-complete');\n",
              "    }\n",
              "    (() => {\n",
              "      let quickchartButtonEl =\n",
              "        document.querySelector('#df-c53b67cd-6cc9-4e88-9d3a-d95a0d774c7e button');\n",
              "      quickchartButtonEl.style.display =\n",
              "        google.colab.kernel.accessAllowed ? 'block' : 'none';\n",
              "    })();\n",
              "  </script>\n",
              "</div>\n",
              "\n",
              "    </div>\n",
              "  </div>\n"
            ]
          },
          "metadata": {},
          "execution_count": 217
        }
      ]
    },
    {
      "cell_type": "markdown",
      "source": [
        "### Handling Missing values"
      ],
      "metadata": {
        "id": "z_OqYhxJdugq"
      }
    },
    {
      "cell_type": "markdown",
      "source": [
        "\n",
        "\n",
        "*   Following data is so huge so wo removing columns who has less than 70% data\n",
        "\n"
      ],
      "metadata": {
        "id": "PplS0KoBj7XH"
      }
    },
    {
      "cell_type": "code",
      "source": [
        "def rem_col(total,cols):\n",
        "    for col in cols:\n",
        "        nan_vals = data[col].isna().sum()  # calculating null values of each column\n",
        "        per = nan_vals / total * 100       # calculating percentage\n",
        "        if(per>=70):                       # if null values are less than 70 %\n",
        "            del data[col]                  # removing columns who has less than 70% vales\n",
        "    print(\"Shape of the data : \",data.shape)\n",
        "cols = data.columns    # Columns present the data\n",
        "total = data.shape[0]  # total values\n",
        "rem_col(total,cols)"
      ],
      "metadata": {
        "colab": {
          "base_uri": "https://localhost:8080/"
        },
        "id": "puwhYaj4g1wx",
        "outputId": "91744cef-68d8-4e8d-91a1-8b16e810f4d9"
      },
      "execution_count": 218,
      "outputs": [
        {
          "output_type": "stream",
          "name": "stdout",
          "text": [
            "Shape of the data :  (1276, 115)\n"
          ]
        }
      ]
    },
    {
      "cell_type": "markdown",
      "source": [
        "After performing above operation shape of the data is changed this (1276, 140) to this (1276, 115)"
      ],
      "metadata": {
        "id": "h2Rhs3ySkyuf"
      }
    },
    {
      "cell_type": "markdown",
      "source": [
        "### Duplicates"
      ],
      "metadata": {
        "id": "-3hG-s8FlJ6k"
      }
    },
    {
      "cell_type": "code",
      "source": [
        "data.duplicated().sum() # Cheking duplicated"
      ],
      "metadata": {
        "colab": {
          "base_uri": "https://localhost:8080/"
        },
        "id": "o7X87g3olBv9",
        "outputId": "d1008120-2076-487c-ab99-25d402908c1d"
      },
      "execution_count": 219,
      "outputs": [
        {
          "output_type": "execute_result",
          "data": {
            "text/plain": [
              "9"
            ]
          },
          "metadata": {},
          "execution_count": 219
        }
      ]
    },
    {
      "cell_type": "markdown",
      "source": [
        "There are 9 duplicate values so we are going to remove it."
      ],
      "metadata": {
        "id": "RVV-YSptlWEM"
      }
    },
    {
      "cell_type": "code",
      "source": [
        "data.drop_duplicates(inplace = True) # removing duplicates\n",
        "data.duplicated().sum()              # cheking duplicates for confirmation"
      ],
      "metadata": {
        "colab": {
          "base_uri": "https://localhost:8080/"
        },
        "id": "9vMACnYZlSuk",
        "outputId": "52c5da3f-8921-4baa-e60e-7f4cc4b5bb03"
      },
      "execution_count": 220,
      "outputs": [
        {
          "output_type": "execute_result",
          "data": {
            "text/plain": [
              "0"
            ]
          },
          "metadata": {},
          "execution_count": 220
        }
      ]
    },
    {
      "cell_type": "markdown",
      "source": [
        "All Duplicate values are removed"
      ],
      "metadata": {
        "id": "xywszMnWl1Ek"
      }
    },
    {
      "cell_type": "markdown",
      "source": [
        "* Removing Unnecessary columns"
      ],
      "metadata": {
        "id": "BbLIp9_goiY2"
      }
    },
    {
      "cell_type": "code",
      "source": [
        "del data['Average_Fuel_Consumption']\n",
        "del data['Distance_to_Empty']\n",
        "del data['Extended_Warranty']"
      ],
      "metadata": {
        "id": "G-H57weZo1Z3"
      },
      "execution_count": 221,
      "outputs": []
    },
    {
      "cell_type": "markdown",
      "source": [
        "## Preprocessing & analyzing of make, model, varient and Ex-showroom price.\n",
        "\n"
      ],
      "metadata": {
        "id": "JRdj3cgEmsuD"
      }
    },
    {
      "cell_type": "markdown",
      "source": [
        "### 1. Make column\n",
        "* This column has name of car maker company."
      ],
      "metadata": {
        "id": "q9WwyNYqsvqj"
      }
    },
    {
      "cell_type": "code",
      "source": [
        "print(\"Data Type : \",data['Make'].dtype)\n",
        "print()\n",
        "print(\"Number Of car makers: \",data['Make'].nunique())\n",
        "print()\n",
        "print(\"NaN values : \",data['Make'].isna().sum())\n",
        "print()\n",
        "print(data['Make'].unique())\n"
      ],
      "metadata": {
        "colab": {
          "base_uri": "https://localhost:8080/"
        },
        "id": "b8IoDeIEmhxl",
        "outputId": "72791248-05ea-48ca-83ee-29a046bbb946"
      },
      "execution_count": 12,
      "outputs": [
        {
          "output_type": "stream",
          "name": "stdout",
          "text": [
            "Data Type :  object\n",
            "\n",
            "Number Of car makers:  39\n",
            "\n",
            "NaN values :  75\n",
            "\n",
            "['Tata' 'Datsun' 'Renault' 'Maruti Suzuki' 'Hyundai' 'Premier' 'Toyota'\n",
            " 'Nissan' 'Volkswagen' 'Ford' 'Mahindra' 'Fiat' 'Honda' 'Jeep' 'Isuzu'\n",
            " 'Skoda' 'Audi' nan 'Dc' 'Mini' 'Volvo' 'Jaguar' 'Bmw' 'Land Rover'\n",
            " 'Porsche' 'Lexus' 'Maserati' 'Lamborghini' 'Bentley' 'Ferrari'\n",
            " 'Aston Martin' 'Bugatti' 'Bajaj' 'Icml' 'Force' 'Mg' 'Kia'\n",
            " 'Land Rover Rover' 'Mitsubishi' 'Maruti Suzuki R']\n"
          ]
        }
      ]
    },
    {
      "cell_type": "markdown",
      "source": [
        "Here we have totak 39 car makers but there are 75 NaN values so we are going to extract maker names from respective car model.\n",
        "\n",
        "eg:- Mercedes-Benz Cla-Class, but here is Mercedes-Benz is Make and  Cla-Class is Model so we replacing it with NaN"
      ],
      "metadata": {
        "id": "I_KXnKC0RBtn"
      }
    },
    {
      "cell_type": "markdown",
      "source": [
        "### 2. Model column"
      ],
      "metadata": {
        "id": "tJRwb-ZcaUZu"
      }
    },
    {
      "cell_type": "code",
      "source": [
        "print(\"Data Type : \",data['Make'].dtype)\n",
        "print()\n",
        "print(\"Number Of car modoles: \",data['Model'].nunique())\n",
        "print()\n",
        "print(\"NaN values : \",data['Model'].isna().sum())\n",
        "print()\n",
        "print(data['Model'].unique())\n"
      ],
      "metadata": {
        "colab": {
          "base_uri": "https://localhost:8080/"
        },
        "id": "f72H-ybHVRWo",
        "outputId": "f378d96e-848c-4464-c45e-0ec3791e9aec"
      },
      "execution_count": 13,
      "outputs": [
        {
          "output_type": "stream",
          "name": "stdout",
          "text": [
            "Data Type :  object\n",
            "\n",
            "Number Of car modoles:  263\n",
            "\n",
            "NaN values :  0\n",
            "\n",
            "['Nano Genx' 'Redi-Go' 'Kwid' 'Eeco' 'Alto K10' 'Go' 'Celerio Tour'\n",
            " 'Santro' 'Tiago' 'Celerio X' 'Ignis' 'Triber' 'Rio' 'Etios Liva'\n",
            " 'Micra Active' 'Bolt' 'Xcent Prime' 'Dzire Tour' 'Elite I20' 'Aura'\n",
            " 'Polo' 'Dzire' 'Freestyle' 'Ameo' 'Aspire' 'Platinum Etios' 'Etios Cross'\n",
            " 'Verito Vibe' 'Urban Cross' 'Glanza' 'Avventura' 'Jazz'\n",
            " 'Compass Trailhawk' 'Mu-X' 'Alturas G4' 'Tiguan' 'Cr-V'\n",
            " 'Superb Sportline' 'A3' 'Mercedes-Benz B-Class' 'Mercedes-Benz Cla-Class'\n",
            " 'Kodiaq' 'Avanti' 'Q3' 'Cooper 5 Door' 'Convertible' 'Xc40' 'Clubman'\n",
            " 'A4' 'John Cooper Works' 'Xe' 'Xf' 'A3 Cabriolet' 'A6' 'X3'\n",
            " 'Discovery Sport' 'S90' 'S5' 'X5' 'Mustang' 'Grand Cherokee'\n",
            " 'Mercedes-Benz E-Class Cabriolet' 'M2 Competition' '718'\n",
            " 'Mercedes-Benz Gls' 'Land Cruiser Prado' 'Rx 450H' 'Rs5' '7-Series' 'Q8'\n",
            " 'Mercedes-Benz S-Class' 'Levante' 'Mercedes-Benz G-Class' 'A8 L'\n",
            " 'Granturismo' 'Quattroporte' 'Lc 500H' 'Mercedes-Benz Maybach' 'Panamera'\n",
            " 'Lx 450D' 'Mercedes-Benz S-Class Cabriolet' 'R8' 'Urus' 'Continental Gt'\n",
            " 'Portofino' 'Bentayga' 'Db 11' '458 Speciale'\n",
            " 'Rolls-Royce Ghost Series Ii' 'Rolls-Royce Wraith' 'Mulsanne'\n",
            " 'Rolls-Royce Cullinan' 'Rolls-Royce Phantom Coupe' 'Chiron' 'Qute (Re60)'\n",
            " 'Alto' 'S-Presso' 'Celerio' 'Grand I10 Prime' 'Kuv100 Nxt' 'Swift'\n",
            " 'Altroz' 'Extreme' 'Tigor' 'Zest' 'Amaze' 'Gypsy' 'Venue' 'Nexon' 'Linea'\n",
            " 'Bolero Power Plus' 'Vitara Brezza' 'I20 Active' 'Ecosport' 'Duster'\n",
            " 'Verna' 'Xuv300' 'Lodgy' 'Vento' 'E2O Plus' 'Tigor Ev' 'Brv' 'Thar'\n",
            " 'Gurkha' 'Xl6' 'Abarth Avventura' 'Tuv300 Plus' 'Marazzo' 'Scorpio'\n",
            " 'Monte Carlo' 'Xuv500' 'E Verito' 'Hexa' 'Innova Crysta' 'Compass'\n",
            " 'Corolla Altis' 'Civic' 'Zs Ev' 'Carnival' 'Superb' 'V40' 'Fortuner'\n",
            " 'Endeavour' 'Cooper 3 Door' 'Kodiaq Scout' 'X1' 'S60' '3-Series'\n",
            " 'S60 Cross Country' 'Q5' 'Range Evoque' 'Mercedes-Benz E-Class' 'Xc60'\n",
            " 'X4' 'Wrangler' 'Mercedes-Benz C-Class Cabriolet' 'Z4 Roadster'\n",
            " 'Mercedes-Benz V-Class' 'Q7' 'Range Evoque Convertible' 'Range Velar'\n",
            " 'Mercedes-Benz E-Class All Terrain' 'Xc90' 'Range Sport' 'Xj' 'Cayenne'\n",
            " 'Ghibli' 'Land Cruiser' 'Rs7' 'Range' 'Grancabrio' 'Mercedes-Benz Amg-Gt'\n",
            " 'Mercedes-Benz Amg Gt 4-Door Coupe' 'Huracan' '488 Gtb' 'Gtc4 Lusso'\n",
            " 'Aventador' 'Rolls-Royce Dawn' 'Rolls-Royce Drophead Coupe' 'Omni' 'Go+'\n",
            " 'Punto Evo Pure' 'Figo' 'Baleno' 'Grand I10' 'Linea Classic' 'Sunny'\n",
            " 'Ertiga' 'Baleno Rs' 'Wr-V' 'Tuv300' 'S-Cross' 'Captur' 'Xylo' 'Seltos'\n",
            " 'Terrano' 'Safari Storme' 'Hector' 'Nexon Ev' 'Elantra' 'Tucson' 'Passat'\n",
            " 'Mercedes-Benz A-Class' 'V40 Cross Country' 'Countryman'\n",
            " 'Mercedes-Benz C-Class' 'Prius' 'Es' 'Nx 300H' 'F-Pace'\n",
            " 'V90 Cross Country' 'A5 Cabriolet' 'Mercedes-Benz Gle'\n",
            " 'Mercedes-Benz Cls' 'X7' 'M4' '911' 'Gtr' 'Vantage' 'Rapide'\n",
            " '812 Superfast' 'Alto 800 Tour' 'Grand I10 Nios' 'Xcent' 'Micra' 'Bolero'\n",
            " 'Ciaz' 'Rapid' 'Abarth Punto' 'Creta' 'Harrier' 'Dmax V-Cross'\n",
            " 'Outlander' 'Mercedes-Benz Gla-Class' 'Accord Hybrid' '5-Series'\n",
            " '6-Series' 'Macan' 'F-Type' 'M5' 'Lx 570' '458 Spider' 'Wagon'\n",
            " 'Tiago Nrg' 'Nuvosport' 'Kicks' 'Winger' 'Kona Electric' 'Camry' 'A5'\n",
            " 'Discovery' 'Ls 500H' 'Rolls-Royce Phantom' 'Punto Evo' 'Yaris' 'Octavia'\n",
            " 'Mercedes-Benz Glc' 'Cayenne Coupe' 'Verito' 'Pajero Sport' 'Flying Spur'\n",
            " 'City' 'Montero']\n"
          ]
        }
      ]
    },
    {
      "cell_type": "markdown",
      "source": [
        "Here, we can see there are 259 different Models and 0 NaN values but,\n",
        "\n",
        "There are some values like Mercedes-Benz Cla-Class here we can see Mercedes-Benz is Makers so we are going to remove it."
      ],
      "metadata": {
        "id": "ma658RU8Vc_v"
      }
    },
    {
      "cell_type": "markdown",
      "source": [
        "Using **make_fill_na** function we are goint to fill NaN values from Make and\n",
        "\n",
        "removing maker name from model"
      ],
      "metadata": {
        "id": "pfxvVA94XGjw"
      }
    },
    {
      "cell_type": "code",
      "source": [
        "def make_fill_na(total_rows):\n",
        "    for i in range(total_rows):\n",
        "        make=data.loc[i:i,['Make']].to_string()[-3:]\n",
        "        if(make == 'NaN'):\n",
        "            model = data.loc[i, 'Model']\n",
        "            new_make = model.split()[0]\n",
        "            data.loc[i:i,['Make']] = new_make\n",
        "            new_model = model.split()[-1]\n",
        "            data.loc[i:i,['Model']] = new_model\n",
        "total_rows=data.shape[0]\n",
        "make_fill_na(total_rows)"
      ],
      "metadata": {
        "id": "ECfJFc24y921"
      },
      "execution_count": 14,
      "outputs": []
    },
    {
      "cell_type": "code",
      "source": [
        "print(\"NaN values : \",data['Make'].isna().sum()) # Cheking null values of Make column"
      ],
      "metadata": {
        "colab": {
          "base_uri": "https://localhost:8080/"
        },
        "id": "GjYGWzqvs_MB",
        "outputId": "4fff6003-7b52-4321-b63c-2ba804cab4a2"
      },
      "execution_count": 15,
      "outputs": [
        {
          "output_type": "stream",
          "name": "stdout",
          "text": [
            "NaN values :  0\n"
          ]
        }
      ]
    },
    {
      "cell_type": "markdown",
      "source": [
        "### 3. Varient column"
      ],
      "metadata": {
        "id": "Ll3a2KHDaZh7"
      }
    },
    {
      "cell_type": "code",
      "source": [
        "print(\"Data Type : \",data['Variant'].dtype)\n",
        "print()\n",
        "print(\"Number Of car Variants: \",data['Variant'].nunique())\n",
        "print()\n",
        "print(\"NaN values : \",data['Variant'].isna().sum())\n",
        "print()\n",
        "print(data['Variant'].unique())\n"
      ],
      "metadata": {
        "colab": {
          "base_uri": "https://localhost:8080/"
        },
        "id": "QbLBSg3wx3Kb",
        "outputId": "1eec2b6f-f883-4550-cf71-177670194658"
      },
      "execution_count": 16,
      "outputs": [
        {
          "output_type": "stream",
          "name": "stdout",
          "text": [
            "Data Type :  object\n",
            "\n",
            "Number Of car Variants:  1064\n",
            "\n",
            "NaN values :  0\n",
            "\n",
            "['Xt' 'Xe' 'Emax Xm' ... 'Zx Mt Diesel' 'Zx Cvt Petrol' '3.2 At']\n"
          ]
        }
      ]
    },
    {
      "cell_type": "markdown",
      "source": [
        "* In variant column There is no NaN value or Nothing to update or change so we go to next column."
      ],
      "metadata": {
        "id": "atYvMjbNbAiO"
      }
    },
    {
      "cell_type": "markdown",
      "source": [
        "### 4. Ex-Showroom_Price Column"
      ],
      "metadata": {
        "id": "Gdm2wdnE9XH0"
      }
    },
    {
      "cell_type": "code",
      "source": [
        "print(\"Data Type : \",data['Ex-Showroom_Price'].dtype)\n",
        "print()\n",
        "print(\"NaN values : \",data['Ex-Showroom_Price'].isna().sum())\n",
        "print()\n",
        "print(data.loc[:5,['Ex-Showroom_Price']])"
      ],
      "metadata": {
        "colab": {
          "base_uri": "https://localhost:8080/"
        },
        "id": "wRX1nh1SbR0S",
        "outputId": "2cffb9c3-d0ae-496e-d9b6-4f88c36d9904"
      },
      "execution_count": 17,
      "outputs": [
        {
          "output_type": "stream",
          "name": "stdout",
          "text": [
            "Data Type :  object\n",
            "\n",
            "NaN values :  0\n",
            "\n",
            "  Ex-Showroom_Price\n",
            "0      Rs. 2,92,667\n",
            "1      Rs. 2,36,447\n",
            "2      Rs. 2,96,661\n",
            "3      Rs. 3,34,768\n",
            "4      Rs. 2,72,223\n",
            "5      Rs. 3,14,815\n"
          ]
        }
      ]
    },
    {
      "cell_type": "markdown",
      "source": [
        "\n",
        "\n",
        "*   Ex-Showroom_Price column has zero NaN values.\n",
        "*   Ex-Showroom_Price's Data Type is object so we are going to change it to int for better visualization.\n",
        "\n"
      ],
      "metadata": {
        "id": "kjtC70WFbyyD"
      }
    },
    {
      "cell_type": "code",
      "source": [
        "data['Ex-Showroom_Price'] = data['Ex-Showroom_Price'].str.replace(',','')\n",
        "data['Ex-Showroom_Price'] = data['Ex-Showroom_Price'].str.replace('Rs. ','')\n",
        "data['Ex-Showroom_Price'] = data['Ex-Showroom_Price'].astype(int)\n",
        "\n",
        "print(\"After changing Data Type : \",data['Ex-Showroom_Price'].dtype)\n",
        "print()\n",
        "print(data.loc[:3,['Ex-Showroom_Price']])"
      ],
      "metadata": {
        "colab": {
          "base_uri": "https://localhost:8080/"
        },
        "id": "ORxX0YG8cLOX",
        "outputId": "404ca97d-52f8-4ab8-f2d3-11ea3cdae209"
      },
      "execution_count": 18,
      "outputs": [
        {
          "output_type": "stream",
          "name": "stdout",
          "text": [
            "After changing Data Type :  int64\n",
            "\n",
            "   Ex-Showroom_Price\n",
            "0             292667\n",
            "1             236447\n",
            "2             296661\n",
            "3             334768\n"
          ]
        },
        {
          "output_type": "stream",
          "name": "stderr",
          "text": [
            "<ipython-input-18-172d414c047d>:2: FutureWarning: The default value of regex will change from True to False in a future version.\n",
            "  data['Ex-Showroom_Price'] = data['Ex-Showroom_Price'].str.replace('Rs. ','')\n"
          ]
        }
      ]
    },
    {
      "cell_type": "markdown",
      "source": [
        "### 5. Displacement"
      ],
      "metadata": {
        "id": "2Pydt3I49Pnh"
      }
    },
    {
      "cell_type": "code",
      "source": [
        "print(\"Data Type : \",data['Displacement'].dtype)\n",
        "print()\n",
        "print(\"Displacement: \",data['Displacement'].nunique())\n",
        "print()\n",
        "print(\"NaN values : \",data['Displacement'].isna().sum())\n",
        "print()\n",
        "print(data['Displacement'].unique())"
      ],
      "metadata": {
        "colab": {
          "base_uri": "https://localhost:8080/"
        },
        "id": "YThhxU-f9RVa",
        "outputId": "4237886b-d60d-463c-e58c-16af06edf74d"
      },
      "execution_count": 19,
      "outputs": [
        {
          "output_type": "stream",
          "name": "stdout",
          "text": [
            "Data Type :  object\n",
            "\n",
            "Displacement:  129\n",
            "\n",
            "NaN values :  12\n",
            "\n",
            "['624 cc' '799 cc' '999 cc' '1196 cc' '998 cc' '1198 cc' '1086 cc'\n",
            " '1199 cc' '1197 cc' '1173 cc' '1489 cc' '1248 cc' '1364 cc' '1193 cc'\n",
            " '1396 cc' '1186 cc' '1498 cc' '1194 cc' '1496 cc' '1461 cc' '1368 cc'\n",
            " '1956 cc' '2999 cc' '2157 cc' '1968 cc' '1997 cc' '1597 cc' '1798 cc'\n",
            " '1395 cc' '1595 cc' '2143 cc' '1991 cc' '2000 cc' '1998 cc' '1969 cc'\n",
            " '1999 cc' '1984 cc' '1995 cc' '2995 cc' '2993 cc' '2998 cc' '4951 cc'\n",
            " '2987 cc' '6417 cc' '3604 cc' '2996 cc' '2979 cc' '1988 cc' '5461 cc'\n",
            " '2982 cc' '3456 cc' '2894 cc' '6592 cc' '3982 cc' '2925 cc' '4691 cc'\n",
            " '5980 cc' '4663 cc' '3996 cc' '4461 cc' '5204 cc' '5998 cc' '3855 cc'\n",
            " '5950 cc' '5198 cc' '4497 cc' '6593 cc' '6752 cc' '6750 cc' '6749 cc'\n",
            " '7993 cc' '216 cc' '796 cc' '1120 cc' '1497 cc' '1994 cc' '1298 cc'\n",
            " '1397 cc' '1493 cc' '2523 cc' '1591 cc' '1582 cc' '1598 cc' nan '2498 cc'\n",
            " '2596 cc' '2149 cc' '1462 cc' '2179 cc' '72 cc' '2393 cc' '2694 cc'\n",
            " '2755 cc' '1799 cc' '2199 cc' '3198 cc' '2198 cc' '2400 cc' '1950 cc'\n",
            " '2967 cc' '4999 cc' '4367 cc' '3993 cc' '3902 cc' '3900 cc' '6262 cc'\n",
            " '6498 cc' '6598 cc' '1172 cc' '2489 cc' '1353 cc' '1500 cc' '1596 cc'\n",
            " '2487 cc' '2494 cc' '2981 cc' '3799 cc' '5935 cc' '6496 cc' '2499 cc'\n",
            " '1898 cc' '2360 cc' '1993 cc' '4395 cc' '5000 cc' '5700 cc' '1047 cc'\n",
            " '2200 cc' '2477 cc' '3200 cc']\n"
          ]
        }
      ]
    },
    {
      "cell_type": "code",
      "source": [
        "data['Displacement'] = data['Displacement'].str.replace(\" cc\",\"\")\n",
        "data['Displacement'] = data['Displacement'].str.replace(\"NaN\",\"\")\n",
        "data['Displacement'] = data['Displacement'].astype(float).astype('Int64')\n",
        "mean_displacement = round(data['Displacement'].mean())\n",
        "data['Displacement'] = data['Displacement'].fillna(mean_displacement)"
      ],
      "metadata": {
        "id": "u0Y2qkCj9Rwn"
      },
      "execution_count": 20,
      "outputs": []
    },
    {
      "cell_type": "markdown",
      "source": [
        "* Cheking Data Type and NaN values after fixing it."
      ],
      "metadata": {
        "id": "sSVbf8seJ5tk"
      }
    },
    {
      "cell_type": "code",
      "source": [
        "print(\"Data Type After Changing : \",data['Displacement'].dtype)\n",
        "print()\n",
        "print(\"NaN values after replacing : \",data['Displacement'].isna().sum())"
      ],
      "metadata": {
        "colab": {
          "base_uri": "https://localhost:8080/"
        },
        "id": "HijSAyX_KCvi",
        "outputId": "e0360fed-aab5-4acf-d6a3-3f673ba4d3d1"
      },
      "execution_count": 21,
      "outputs": [
        {
          "output_type": "stream",
          "name": "stdout",
          "text": [
            "Data Type After Changing :  Int64\n",
            "\n",
            "NaN values after replacing :  0\n"
          ]
        }
      ]
    },
    {
      "cell_type": "markdown",
      "source": [
        "* Here, you can see Data type is changed to int64 from object.\n",
        "* NaN values replaced with mean of column itself."
      ],
      "metadata": {
        "id": "-mKXovmpKPSX"
      }
    },
    {
      "cell_type": "markdown",
      "source": [
        "### 6. Cylinders Column"
      ],
      "metadata": {
        "id": "-3FKNeD80IYs"
      }
    },
    {
      "cell_type": "code",
      "source": [
        "print(\"Data Type : \",data['Cylinders'].dtype)\n",
        "print()\n",
        "print(\"Number of cylinder in car: \",data['Cylinders'].nunique())\n",
        "print()\n",
        "print(\"NaN values : \",data['Cylinders'].isna().sum())\n",
        "print()\n",
        "print(data['Cylinders'].unique())"
      ],
      "metadata": {
        "colab": {
          "base_uri": "https://localhost:8080/"
        },
        "id": "MCKvzAkWz7dE",
        "outputId": "bdc94cac-cece-4be7-bd10-f48bcc6c6c76"
      },
      "execution_count": 22,
      "outputs": [
        {
          "output_type": "stream",
          "name": "stdout",
          "text": [
            "Data Type :  float64\n",
            "\n",
            "Number of cylinder in car:  9\n",
            "\n",
            "NaN values :  66\n",
            "\n",
            "[ 2.  3.  4. nan  5.  6.  8. 12. 10. 16.]\n"
          ]
        }
      ]
    },
    {
      "cell_type": "markdown",
      "source": [
        "* Cylinders column has 66 null values\n",
        "* so the data is positivly skewed so we replacing null values with mode."
      ],
      "metadata": {
        "id": "d8LO-Fpl2PtW"
      }
    },
    {
      "cell_type": "code",
      "source": [
        "data['Cylinders'] = data['Cylinders'].fillna(round(data['Cylinders'].mode()[0])) # replacing NaN with mode the column\n",
        "print(\"NaN values after replacing : \",data['Cylinders'].isna().sum())            # Checking NaN after replacing"
      ],
      "metadata": {
        "colab": {
          "base_uri": "https://localhost:8080/"
        },
        "id": "RnfCIXzT43IC",
        "outputId": "fac730fc-449f-44ef-8044-b6d6fd3fd818"
      },
      "execution_count": 23,
      "outputs": [
        {
          "output_type": "stream",
          "name": "stdout",
          "text": [
            "NaN values after replacing :  0\n"
          ]
        }
      ]
    },
    {
      "cell_type": "markdown",
      "source": [
        "### 7. Valves_Per_Cylinder column"
      ],
      "metadata": {
        "id": "N26N821I56yx"
      }
    },
    {
      "cell_type": "code",
      "source": [
        "print(\"Data Type : \",data['Valves_Per_Cylinder'].dtype)\n",
        "print()\n",
        "print(\"Number Of valves per cylinder in car: \",data['Valves_Per_Cylinder'].nunique())\n",
        "print()\n",
        "print(\"NaN values : \",data['Valves_Per_Cylinder'].isna().sum())\n",
        "print()\n",
        "print(data['Valves_Per_Cylinder'].unique())"
      ],
      "metadata": {
        "colab": {
          "base_uri": "https://localhost:8080/"
        },
        "id": "Aii_RXlA4dNB",
        "outputId": "e627820e-fcd2-4983-ff68-c3bdc9151150"
      },
      "execution_count": 24,
      "outputs": [
        {
          "output_type": "stream",
          "name": "stdout",
          "text": [
            "Data Type :  float64\n",
            "\n",
            "Number Of valves per cylinder in car:  8\n",
            "\n",
            "NaN values :  102\n",
            "\n",
            "[ 2.  4. 12. nan 16.  8.  1.  6.  3.]\n"
          ]
        }
      ]
    },
    {
      "cell_type": "markdown",
      "source": [
        "* Cylinders column has 102 null values\n",
        "* so the data is symmetrical skewed so we replacing null values with mean."
      ],
      "metadata": {
        "id": "Mbf3jZpn6bQA"
      }
    },
    {
      "cell_type": "code",
      "source": [
        "data['Valves_Per_Cylinder'] = data['Valves_Per_Cylinder'].fillna(round(data['Valves_Per_Cylinder'].mean()))\n",
        "print(\"NaN values after replacing : \",data['Valves_Per_Cylinder'].isna().sum())"
      ],
      "metadata": {
        "colab": {
          "base_uri": "https://localhost:8080/"
        },
        "id": "T_toOaWs6jcA",
        "outputId": "809b3653-7f54-4be0-c280-ebb835640621"
      },
      "execution_count": 25,
      "outputs": [
        {
          "output_type": "stream",
          "name": "stdout",
          "text": [
            "NaN values after replacing :  0\n"
          ]
        }
      ]
    },
    {
      "cell_type": "markdown",
      "source": [
        "### 8. Drive train column"
      ],
      "metadata": {
        "id": "aNIyqdg77qd8"
      }
    },
    {
      "cell_type": "code",
      "source": [
        "print(\"Data Type : \",data['Drivetrain'].dtype)\n",
        "print()\n",
        "print(\"Number Of car modoles: \",data['Drivetrain'].nunique())\n",
        "print()\n",
        "print(\"NaN values : \",data['Drivetrain'].isna().sum())\n",
        "print()\n",
        "print(data['Drivetrain'].unique())"
      ],
      "metadata": {
        "colab": {
          "base_uri": "https://localhost:8080/"
        },
        "id": "NJzaaSiI78L1",
        "outputId": "88cd09b5-8fba-4fd9-d1be-23a97f18d865"
      },
      "execution_count": 26,
      "outputs": [
        {
          "output_type": "stream",
          "name": "stdout",
          "text": [
            "Data Type :  object\n",
            "\n",
            "Number Of car modoles:  4\n",
            "\n",
            "NaN values :  7\n",
            "\n",
            "['RWD (Rear Wheel Drive)' 'FWD (Front Wheel Drive)'\n",
            " 'AWD (All Wheel Drive)' '4WD' nan]\n"
          ]
        }
      ]
    },
    {
      "cell_type": "markdown",
      "source": [
        "* RWD (Rear Wheel Drive) removing (Rear Wheel Drive) from the Drivetrain."
      ],
      "metadata": {
        "id": "CJiJei6SOWYq"
      }
    },
    {
      "cell_type": "code",
      "source": [
        "data['Drivetrain'] = data['Drivetrain'].str.replace(r'\\s*\\(.*\\)', '', regex=True)\n",
        "\n",
        "print(data['Drivetrain'].unique())     # Cheking again unique values"
      ],
      "metadata": {
        "colab": {
          "base_uri": "https://localhost:8080/"
        },
        "id": "-EynWT8OM6ZT",
        "outputId": "7ed9bd43-040b-4b97-85bf-215f1fe9876c"
      },
      "execution_count": 27,
      "outputs": [
        {
          "output_type": "stream",
          "name": "stdout",
          "text": [
            "['RWD' 'FWD' 'AWD' '4WD' nan]\n"
          ]
        }
      ]
    },
    {
      "cell_type": "markdown",
      "source": [
        "### 9. Cylinder_Configuration Column"
      ],
      "metadata": {
        "id": "y8FiXSxyQkp5"
      }
    },
    {
      "cell_type": "code",
      "source": [
        "print(\"Data Type : \",data['Cylinder_Configuration'].dtype)\n",
        "print()\n",
        "print(\"Types of Cylinder Configuration: \",data['Cylinder_Configuration'].nunique())\n",
        "print()\n",
        "print(\"NaN values : \",data['Cylinder_Configuration'].isna().sum())\n",
        "print()\n",
        "print(data['Cylinder_Configuration'].unique())"
      ],
      "metadata": {
        "colab": {
          "base_uri": "https://localhost:8080/"
        },
        "id": "96XnKz8vOw3j",
        "outputId": "788e373e-9cb6-4348-b7e8-e611ddeb9d7b"
      },
      "execution_count": 28,
      "outputs": [
        {
          "output_type": "stream",
          "name": "stdout",
          "text": [
            "Data Type :  object\n",
            "\n",
            "Types of Cylinder Configuration:  4\n",
            "\n",
            "NaN values :  13\n",
            "\n",
            "['In-line' 'V' 'Flat' 'W' nan]\n"
          ]
        }
      ]
    },
    {
      "cell_type": "markdown",
      "source": [
        "### 10. Emission_Norm Column"
      ],
      "metadata": {
        "id": "Ya0E0eTWQpQc"
      }
    },
    {
      "cell_type": "code",
      "source": [
        "print(\"Data Type : \",data['Emission_Norm'].dtype)\n",
        "print()\n",
        "print(\"Types of emission norm: \",data['Emission_Norm'].nunique())\n",
        "print()\n",
        "print(\"NaN values : \",data['Emission_Norm'].isna().sum())\n",
        "print()\n",
        "print(data['Emission_Norm'].unique())\n",
        "print()\n",
        "print(data['Emission_Norm'].value_counts())"
      ],
      "metadata": {
        "colab": {
          "base_uri": "https://localhost:8080/"
        },
        "id": "Zy6IDndyQp_i",
        "outputId": "ce04b8b1-0884-4368-8536-698067c38445"
      },
      "execution_count": 29,
      "outputs": [
        {
          "output_type": "stream",
          "name": "stdout",
          "text": [
            "Data Type :  object\n",
            "\n",
            "Types of emission norm:  4\n",
            "\n",
            "NaN values :  11\n",
            "\n",
            "['BS IV' 'BS 6' nan 'BS III' 'BS VI']\n",
            "\n",
            "BS IV     870\n",
            "BS 6      358\n",
            "BS VI      19\n",
            "BS III      9\n",
            "Name: Emission_Norm, dtype: int64\n"
          ]
        }
      ]
    },
    {
      "cell_type": "markdown",
      "source": [
        "* Replacing BS 6 With BS VI."
      ],
      "metadata": {
        "id": "ovpDPWIkSU-A"
      }
    },
    {
      "cell_type": "code",
      "source": [
        "data['Emission_Norm'] = data['Emission_Norm'].str.replace('BS 6', 'BS VI')  # Replacing BS 6 With BS VI\n",
        "\n",
        "print(data['Emission_Norm'].unique())                                       #Checking after replacing"
      ],
      "metadata": {
        "colab": {
          "base_uri": "https://localhost:8080/"
        },
        "id": "RHsqNfMkQqKB",
        "outputId": "33bbd531-8f90-48ff-b721-92d923113458"
      },
      "execution_count": 30,
      "outputs": [
        {
          "output_type": "stream",
          "name": "stdout",
          "text": [
            "['BS IV' 'BS VI' nan 'BS III']\n"
          ]
        }
      ]
    },
    {
      "cell_type": "markdown",
      "source": [
        "### 11. Engine_Location Column"
      ],
      "metadata": {
        "id": "ZgH6czSyS7ii"
      }
    },
    {
      "cell_type": "code",
      "source": [
        "print(\"Data Type : \",data['Engine_Location'].dtype)\n",
        "print()\n",
        "print(\"Engine Location Types: \",data['Engine_Location'].nunique())\n",
        "print()\n",
        "print(\"NaN values : \",data['Engine_Location'].isna().sum())\n",
        "print()\n",
        "print(data['Engine_Location'].unique())"
      ],
      "metadata": {
        "colab": {
          "base_uri": "https://localhost:8080/"
        },
        "id": "RsA1Ho_aZzNp",
        "outputId": "e94deefe-3e87-4964-b785-171ca37da538"
      },
      "execution_count": 31,
      "outputs": [
        {
          "output_type": "stream",
          "name": "stdout",
          "text": [
            "Data Type :  object\n",
            "\n",
            "Engine Location Types:  7\n",
            "\n",
            "NaN values :  43\n",
            "\n",
            "['Rear, Transverse' 'Front, Transverse' 'Front, Longitudinal' nan\n",
            " 'Rear Mid, Transverse' 'Mid, Longitudinal' 'Mid, Transverse'\n",
            " 'Rear, Longitudinal']\n"
          ]
        }
      ]
    },
    {
      "cell_type": "markdown",
      "source": [
        "* Converting this 'Rear, Transverse'  to this 'Rear-Transverse'"
      ],
      "metadata": {
        "id": "S6Sh7DBvaGlP"
      }
    },
    {
      "cell_type": "code",
      "source": [
        "data['Engine_Location'] = data['Engine_Location'].str.replace(', ','-')  # replacing values\n",
        "print(data['Engine_Location'].unique())                                  # checking values after replacing"
      ],
      "metadata": {
        "colab": {
          "base_uri": "https://localhost:8080/"
        },
        "id": "VkwVtshVaDsk",
        "outputId": "e983f451-e077-45a6-9cab-124d2d65999b"
      },
      "execution_count": 32,
      "outputs": [
        {
          "output_type": "stream",
          "name": "stdout",
          "text": [
            "['Rear-Transverse' 'Front-Transverse' 'Front-Longitudinal' nan\n",
            " 'Rear Mid-Transverse' 'Mid-Longitudinal' 'Mid-Transverse'\n",
            " 'Rear-Longitudinal']\n"
          ]
        }
      ]
    },
    {
      "cell_type": "markdown",
      "source": [
        "### 12. Fuel_System Column"
      ],
      "metadata": {
        "id": "idwH1F67cubo"
      }
    },
    {
      "cell_type": "code",
      "source": [
        "print(\"Data Type : \",data['Fuel_System'].dtype)\n",
        "print()\n",
        "print(\"Fuel System Types: \",data['Fuel_System'].nunique())\n",
        "print()\n",
        "print(\"NaN values : \",data['Fuel_System'].isna().sum())\n",
        "print()\n",
        "print(data['Fuel_System'].value_counts())"
      ],
      "metadata": {
        "colab": {
          "base_uri": "https://localhost:8080/"
        },
        "id": "paewHdKTdDDB",
        "outputId": "211ead07-ebb8-449d-caf7-9e3c6e847c68"
      },
      "execution_count": 33,
      "outputs": [
        {
          "output_type": "stream",
          "name": "stdout",
          "text": [
            "Data Type :  object\n",
            "\n",
            "Fuel System Types:  2\n",
            "\n",
            "NaN values :  8\n",
            "\n",
            "Injection    1255\n",
            "PGM - Fi        4\n",
            "Name: Fuel_System, dtype: int64\n"
          ]
        }
      ]
    },
    {
      "cell_type": "markdown",
      "source": [
        "* Removing extra space from 'PGM - Fi'"
      ],
      "metadata": {
        "id": "wKo3_el6dkpv"
      }
    },
    {
      "cell_type": "code",
      "source": [
        "data['Fuel_System'] = data['Fuel_System'].str.replace(\" \",\"\") # removing extra space\n",
        "print(data['Fuel_System'].unique())                           # After Removing extra space"
      ],
      "metadata": {
        "colab": {
          "base_uri": "https://localhost:8080/"
        },
        "id": "ePEprENddsFI",
        "outputId": "0ddf50b8-74dc-408d-9122-35a07dd4fffd"
      },
      "execution_count": 34,
      "outputs": [
        {
          "output_type": "stream",
          "name": "stdout",
          "text": [
            "['Injection' 'PGM-Fi' nan]\n"
          ]
        }
      ]
    },
    {
      "cell_type": "markdown",
      "source": [
        "### 13. Fuel_Tank_Capacity Column"
      ],
      "metadata": {
        "id": "NW_EOOuHehBr"
      }
    },
    {
      "cell_type": "code",
      "source": [
        "print(\"Data Type : \",data['Fuel_Tank_Capacity'].dtype)\n",
        "print()\n",
        "print(\"NaN values : \",data['Fuel_Tank_Capacity'].isna().sum())\n",
        "print()\n",
        "print(data['Fuel_Tank_Capacity'].unique())"
      ],
      "metadata": {
        "colab": {
          "base_uri": "https://localhost:8080/"
        },
        "id": "DWRzqYRvesLc",
        "outputId": "9a11f157-42a0-4f76-97ad-af40e7643f63"
      },
      "execution_count": 35,
      "outputs": [
        {
          "output_type": "stream",
          "name": "stdout",
          "text": [
            "Data Type :  object\n",
            "\n",
            "NaN values :  69\n",
            "\n",
            "['24 litres' '15 litres' '28 litres' '40 litres' '35 litres' '60 litres'\n",
            " '32 litres' '46 litres' '45 litres' '41 litres' '44 litres' '43 litres'\n",
            " '42 litres' '37 litres' '50 litres' '76 litres' '70 litres' '71 litres'\n",
            " '57 litres' '66 litres' '56 litres' '64 litres' nan '54 litres'\n",
            " '61 litres' '74 litres' '82 litres' '83 litres' '73 litres' '67 litres'\n",
            " '58 litres' '60.9 litres' '93.5 litres' '80 litres' '52 litres'\n",
            " '100 litres' '87 litres' '65 litres' '78 litres' '85 litres' '90 litres'\n",
            " '96 litres' '86 litres' '93 litres' '75 litres' '92 litres' '82.5 litres'\n",
            " '27 litres' '48 litres' '55 litres' '63 litres' '47 litres' '51 litres'\n",
            " '67.5 litres' '59 litres' '68 litres' '105 litres' '91 litres'\n",
            " '36 litres' '62 litres' '90.5 litres' '88 litres' '72 litres' '89 litres']\n"
          ]
        }
      ]
    },
    {
      "cell_type": "markdown",
      "source": [
        "\n",
        "\n",
        "*   Removing liters from the value\n",
        "*   Convert it into float\n",
        "*   Change column name from Fuel_Tank_Capacity to this Fuel_Tank_Capacity(l)\n",
        "*   Replacing NaN values With mean of the column\n",
        "\n",
        "\n"
      ],
      "metadata": {
        "id": "CjX6EFfKfHDz"
      }
    },
    {
      "cell_type": "code",
      "source": [
        "# Removing liters & converting data type into float\n",
        "data['Fuel_Tank_Capacity'] = data['Fuel_Tank_Capacity'].str.replace(r'\\s*litres*','',regex=True).astype(float)\n",
        "# Filling NaN values With mean of the table\n",
        "mean=data['Fuel_Tank_Capacity'].mean().round()\n",
        "data['Fuel_Tank_Capacity'] = data['Fuel_Tank_Capacity'].fillna(mean)\n",
        "# Changing column name\n",
        "data.rename(columns={'Fuel_Tank_Capacity': 'Fuel_Tank_Capacity(l)'}, inplace=True)\n"
      ],
      "metadata": {
        "id": "xoQwXNogfhCf"
      },
      "execution_count": 36,
      "outputs": []
    },
    {
      "cell_type": "markdown",
      "source": [
        "* Checking data type , values and NaN values after cleanning."
      ],
      "metadata": {
        "id": "z5wPeaP_ia0e"
      }
    },
    {
      "cell_type": "code",
      "source": [
        "print(\"Data Type : \",data['Fuel_Tank_Capacity(l)'].dtype)\n",
        "print()\n",
        "print(\"NaN values : \",data['Fuel_Tank_Capacity(l)'].isna().sum())\n",
        "print()\n",
        "print(data['Fuel_Tank_Capacity(l)'].unique())"
      ],
      "metadata": {
        "colab": {
          "base_uri": "https://localhost:8080/"
        },
        "id": "370wVHxbh4mS",
        "outputId": "cd929d60-8d85-4447-c21b-8e71068ff345"
      },
      "execution_count": 37,
      "outputs": [
        {
          "output_type": "stream",
          "name": "stdout",
          "text": [
            "Data Type :  float64\n",
            "\n",
            "NaN values :  0\n",
            "\n",
            "[ 24.   15.   28.   40.   35.   60.   32.   46.   45.   41.   44.   43.\n",
            "  42.   37.   50.   76.   70.   71.   57.   66.   56.   64.   52.   54.\n",
            "  61.   74.   82.   83.   73.   67.   58.   60.9  93.5  80.  100.   87.\n",
            "  65.   78.   85.   90.   96.   86.   93.   75.   92.   82.5  27.   48.\n",
            "  55.   63.   47.   51.   67.5  59.   68.  105.   91.   36.   62.   90.5\n",
            "  88.   72.   89. ]\n"
          ]
        }
      ]
    },
    {
      "cell_type": "markdown",
      "source": [
        "### 14. Fuel type column"
      ],
      "metadata": {
        "id": "D_4akkTClSTY"
      }
    },
    {
      "cell_type": "code",
      "source": [
        "print(\"Data Type : \",data['Fuel_Type'].dtype)\n",
        "print()\n",
        "print(\"Fuel Types: \",data['Fuel_Type'].nunique())\n",
        "print()\n",
        "print(\"NaN values : \",data['Fuel_Type'].isna().sum())\n",
        "print()\n",
        "print(data['Fuel_Type'].value_counts())"
      ],
      "metadata": {
        "colab": {
          "base_uri": "https://localhost:8080/"
        },
        "id": "Y5u4ucnFlStt",
        "outputId": "89175a94-b16b-4081-c9b8-2393e8453740"
      },
      "execution_count": 38,
      "outputs": [
        {
          "output_type": "stream",
          "name": "stdout",
          "text": [
            "Data Type :  object\n",
            "\n",
            "Fuel Types:  6\n",
            "\n",
            "NaN values :  0\n",
            "\n",
            "Petrol          642\n",
            "Diesel          574\n",
            "CNG              16\n",
            "Hybrid           15\n",
            "Electric         14\n",
            "CNG + Petrol      6\n",
            "Name: Fuel_Type, dtype: int64\n"
          ]
        }
      ]
    },
    {
      "cell_type": "markdown",
      "source": [
        "### 15. Height column"
      ],
      "metadata": {
        "id": "eWVyrVKtmlS4"
      }
    },
    {
      "cell_type": "code",
      "source": [
        "print(\"Data Type : \",data['Height'].dtype)\n",
        "print()\n",
        "print(\"NaN values : \",data['Height'].isna().sum())\n",
        "print()\n",
        "print(data['Height'].unique())"
      ],
      "metadata": {
        "colab": {
          "base_uri": "https://localhost:8080/"
        },
        "id": "R2aIoz7LlSxQ",
        "outputId": "61d1cfdb-a4a3-4769-ddab-1b0f328bdbe7"
      },
      "execution_count": 39,
      "outputs": [
        {
          "output_type": "stream",
          "name": "stdout",
          "text": [
            "Data Type :  object\n",
            "\n",
            "NaN values :  1\n",
            "\n",
            "['1652 mm' '1541 mm' '1490 mm' '1800 mm' '1475 mm' '1460 mm' '1507 mm'\n",
            " '1560 mm' '1535 mm' '1595 mm' '1643 mm' '1730 mm' '1510 mm' '1530 mm'\n",
            " '1562 mm' '1520 mm' '1555 mm' '1505 mm' '1469 mm' '1515 mm' '1570 mm'\n",
            " '1483 mm' '1525 mm' '1540 mm' '1542 mm' '1544 mm' '1657 mm' '1840 mm'\n",
            " '1845 mm' '1.845 mm' '1672 mm' '1679 mm' '1689 mm' '1416 mm' '1557 mm'\n",
            " '1432 mm' '1200 mm' '1608 mm' '1425 mm' '1415 mm' '1441 mm' '1427 mm'\n",
            " '1414 mm' '1457 mm' '1409 mm' '1455 mm' '1678 mm' '1727 mm' '1443 mm'\n",
            " '1384 mm' '1745 mm' '1391 mm' '1802 mm' '1749 mm' '1398 mm' '1410 mm'\n",
            " '1281 mm' '1850 mm' '1880 mm' '1700 mm' nan '1479 mm' '1481 mm' '1740 mm'\n",
            " '1494 mm' '1411 mm' '1938 mm' '1969 mm' '1485 mm' '1353 mm' '1345 mm'\n",
            " '1498 mm' '1865 mm' '1417 mm' '1252 mm' '1638 mm' '1401 mm' '1320 mm'\n",
            " '1742 mm' '1250 mm' '1203 mm' '1550 mm' '1521 mm' '1835 mm' '1598 mm'\n",
            " '1212 mm' '1549 mm' '1655 mm' '1523 mm' '1885 mm' '1537 mm' '1501 mm'\n",
            " '1875 mm' '1590 mm' '1607 mm' '1487 mm' '1977 mm' '1640 mm' '1647 mm'\n",
            " '1695 mm' '1445 mm' '1617 mm' '1697 mm' '1467 mm' '1585 mm' '1666 mm'\n",
            " '1930 mm' '2055 mm' '2075 mm' '1812 mm' '1774 mm' '1874 mm' '1995 mm'\n",
            " '1466 mm' '1785 mm' '1791 mm' '1795 mm' '1433 mm' '1644 mm' '1755 mm'\n",
            " '1420 mm' '1837 mm' '1665 mm' '1612 mm' '1545 mm' '1484 mm' '1429 mm'\n",
            " '1539 mm' '1659 mm' '1649 mm' '1474 mm' '1658 mm' '1621 mm' '1838 mm'\n",
            " '1304 mm' '1901 mm' '1609 mm' '1776 mm' '1803 mm' '1696 mm' '1673 mm'\n",
            " '1705 mm' '1461 mm' '1910 mm' '1419 mm' '1877 mm' '1827 mm' '1868 mm'\n",
            " '1288 mm' '1284 mm' '1259 mm' '1447 mm' '1165 mm' '1213 mm' '1383 mm'\n",
            " '1136 mm' '1502 mm' '1500 mm' '1690 mm' '1685 mm' '1601 mm' '1817 mm'\n",
            " '1839 mm' '1619 mm' '1895 mm' '1645 mm' '1671 mm' '1922 mm' '1760 mm'\n",
            " '1465 mm' '1660 mm' '1456 mm' '1458 mm' '1470 mm' '1442 mm' '1426 mm'\n",
            " '1651 mm' '1543 mm' '1386 mm' '1772 mm' '1435 mm' '1805 mm' '1300 mm'\n",
            " '1299 mm' '1370 mm' '1273 mm' '1360 mm' '1276 mm' '1630 mm' '1706 mm'\n",
            " '1855 mm' '1710 mm' '1464 mm' '1369 mm' '1538 mm' '1624 mm' '1308 mm'\n",
            " '1311 mm' '1473 mm' '1211 mm' '1675 mm' '1620 mm' '1587 mm' '1870 mm'\n",
            " '2670 mm' '1846 mm' '1450 mm' '1495 mm' '1476 mm' '1676 mm' '1488 mm'\n",
            " '1900 mm']\n"
          ]
        }
      ]
    },
    {
      "cell_type": "markdown",
      "source": [
        "* Remove mm.\n",
        "* Convert data type to Int64.\n",
        "* Change column name to Height(mm)."
      ],
      "metadata": {
        "id": "L99BLPSXnGRS"
      }
    },
    {
      "cell_type": "code",
      "source": [
        "# Removing mm from string and convert it into integer format\n",
        "data['Height'] = data['Height'].str.replace(r'\\s* mm*','',regex=True).astype(float).round().astype('Int64')\n",
        "# Replacing NaN value from mean\n",
        "mean = data['Height'].mean().astype(int)\n",
        "data['Height'] = data['Height'].fillna(mean)\n",
        "# Change column name\n",
        "data.rename(columns={'Height':'Height(mm)'}, inplace=True)"
      ],
      "metadata": {
        "id": "lwIQKf-Xnb2O"
      },
      "execution_count": 40,
      "outputs": []
    },
    {
      "cell_type": "markdown",
      "source": [
        "* Checking all the things that we have changed and updated."
      ],
      "metadata": {
        "id": "qKC0TMvdr8t6"
      }
    },
    {
      "cell_type": "code",
      "source": [
        "print(\"Data Type : \",data['Height(mm)'].dtype)\n",
        "print()\n",
        "print(\"NaN values : \",data['Height(mm)'].isna().sum())\n",
        "print()\n",
        "print(data['Height(mm)'].unique())"
      ],
      "metadata": {
        "colab": {
          "base_uri": "https://localhost:8080/"
        },
        "id": "VMdi8xBerAjh",
        "outputId": "d9abcf2d-9516-43d0-d206-e5491cb19873"
      },
      "execution_count": 41,
      "outputs": [
        {
          "output_type": "stream",
          "name": "stdout",
          "text": [
            "Data Type :  Int64\n",
            "\n",
            "NaN values :  0\n",
            "\n",
            "<IntegerArray>\n",
            "[1652, 1541, 1490, 1800, 1475, 1460, 1507, 1560, 1535, 1595,\n",
            " ...\n",
            " 1587, 1870, 2670, 1846, 1450, 1495, 1476, 1676, 1488, 1900]\n",
            "Length: 212, dtype: Int64\n"
          ]
        }
      ]
    },
    {
      "cell_type": "markdown",
      "source": [
        "### 16. Length column"
      ],
      "metadata": {
        "id": "h4CL7OolsKFj"
      }
    },
    {
      "cell_type": "code",
      "source": [
        "print(\"Data Type : \",data['Length'].dtype)\n",
        "print()\n",
        "print(\"NaN values : \",data['Length'].isna().sum())\n",
        "print()\n",
        "print(data['Length'].unique())"
      ],
      "metadata": {
        "colab": {
          "base_uri": "https://localhost:8080/"
        },
        "id": "SjZNXq-xslFo",
        "outputId": "8279231d-2547-452d-b8ec-21fff9e7a23b"
      },
      "execution_count": 42,
      "outputs": [
        {
          "output_type": "stream",
          "name": "stdout",
          "text": [
            "Data Type :  object\n",
            "\n",
            "NaN values :  0\n",
            "\n",
            "['3164 mm' '3429 mm' '3731 mm' '3675 mm' '3545 mm' '3620 mm' '3788 mm'\n",
            " '3600 mm' '3695 mm' '3610 mm' '3765 mm' '3746 mm' '3700 mm' '3990 mm'\n",
            " '3970 mm' '3884 mm' '3801 mm' '3825 mm' '3995 mm' '3985 mm' '3971 mm'\n",
            " '3954 mm' '4369 mm' '3895 mm' '3991 mm' '3989 mm' '3955 mm' '4398 mm'\n",
            " '4825 mm' '4850 mm' '4486 mm' '4592 mm' '4861 mm' '4456 mm' '4393 mm'\n",
            " '4630 mm' '4565 mm' '4388 mm' '3982 mm' '3850 mm' '4425 mm' '4253 mm'\n",
            " '4726 mm' '3874 mm' '4691 mm' '4961 mm' '5252 mm' '5067 mm' '4421 mm'\n",
            " '4933 mm' '4657 mm' '4600 mm' '4963 mm' '4718 mm' '4922 mm' '4784 mm'\n",
            " '4828 mm' '4846 mm' '4703 mm' '4461 mm' '4379 mm' '5120 mm' '5146 mm'\n",
            " '4840 mm' '5000 mm' '4649 mm' '5219 mm' '5052 mm' '5116 mm' '5246 mm'\n",
            " '5027 mm' '5003 mm' '4763 mm' '4817 mm' '5302 mm' '4881 mm' '5262 mm'\n",
            " '4770 mm' '5453 mm' '5049 mm' '5199 mm' '5080 mm' '4440 mm' '5112 mm'\n",
            " '4807 mm' '4569 mm' '5141 mm' '5140 mm' '4385 mm' '4571 mm' '5399 mm'\n",
            " '5569 mm' '5269 mm' '5575 mm' '5341 mm' '5612 mm' '4544 mm' '2752 mm'\n",
            " '3445 mm' '3565 mm' '3840 mm' '3992 mm' '4010 mm' '3994 mm' '4596 mm'\n",
            " '4494 mm' '3998 mm' '4315 mm' '4498 mm' '4390 mm' '3390 mm' '4453 mm'\n",
            " '3920 mm' '4342 mm' '4445 mm' '3983 mm' '4400 mm' '4585 mm' '5118 mm'\n",
            " '4413 mm' '4247 mm' '4788 mm' '4735 mm' '4395 mm' '4620 mm' '4656 mm'\n",
            " '4314 mm' '5115 mm' '4795 mm' '4903 mm' '3821 mm' '4697 mm' '4439 mm'\n",
            " '4477 mm' '4635 mm' '4633 mm' '4637 mm' '4663 mm' '4371 mm' '5063 mm'\n",
            " '4879 mm' '4688 mm' '4752 mm' '4882 mm' '4686 mm' '4324 mm' '5370 mm'\n",
            " '4370 mm' '4797 mm' '4950 mm' '5255 mm' '4918 mm' '4926 mm' '4971 mm'\n",
            " '5012 mm' '4999 mm' '5200 mm' '4546 mm' '4551 mm' '5054 mm' '4459 mm'\n",
            " '4520 mm' '4568 mm' '4780 mm' '5285 mm' '5842 mm' '3370 mm' '3987 mm'\n",
            " '3941 mm' '4560 mm' '4455 mm' '4265 mm' '3999 mm' '4300 mm' '4329 mm'\n",
            " '4331 mm' '4655 mm' '4475 mm' '4767 mm' '4292 mm' '4299 mm' '4756 mm'\n",
            " '4540 mm' '4975 mm' '4.64 mm' '4640 mm' '4731 mm' '4733 mm' '4924 mm'\n",
            " '4988 mm' '5151 mm' '4671 mm' '4519 mm' '4710 mm' '4465 mm' '5019 mm'\n",
            " '3430 mm' '3395 mm' '3805 mm' '4107 mm' '4221 mm' '4490 mm' '4270 mm'\n",
            " '4598 mm' '5295 mm' '4695 mm' '4424 mm' '4907 mm' '4894 mm' '5091 mm'\n",
            " '4696 mm' '4470 mm' '4482 mm' '4956 mm' '3655 mm' '3793 mm' '4384 mm'\n",
            " '5458 mm' '4180 mm' '4885 mm' '5235 mm' '6092 mm' '4670 mm' '4658 mm'\n",
            " '4931 mm' '4277 mm' '5299 mm' '4900 mm']\n"
          ]
        }
      ]
    },
    {
      "cell_type": "markdown",
      "source": [
        "* Remove mm from string.\n",
        "* Change Data Type to Integer\n"
      ],
      "metadata": {
        "id": "4JOTscD6s5Nh"
      }
    },
    {
      "cell_type": "code",
      "source": [
        "# Removing mm and convert it into the Interger\n",
        "data['Length'] = data['Length'].str.replace(r' mm','',regex=True).astype(float).round().astype(\"Int64\")\n",
        "#Chaning column name\n",
        "data.rename(columns={'Length':'Length(mm)'},inplace=True)"
      ],
      "metadata": {
        "id": "xWFQ5OwntGvJ"
      },
      "execution_count": 43,
      "outputs": []
    },
    {
      "cell_type": "markdown",
      "source": [
        "* Checking it after conversion"
      ],
      "metadata": {
        "id": "XQI7foqZwBT-"
      }
    },
    {
      "cell_type": "code",
      "source": [
        "print(\"Data Type : \",data['Length(mm)'].dtype)\n",
        "print()\n",
        "print(data['Length(mm)'].unique())"
      ],
      "metadata": {
        "colab": {
          "base_uri": "https://localhost:8080/"
        },
        "id": "mz9PQx5FwHR7",
        "outputId": "62034558-8d45-453e-e8ee-40b6951a6774"
      },
      "execution_count": 44,
      "outputs": [
        {
          "output_type": "stream",
          "name": "stdout",
          "text": [
            "Data Type :  Int64\n",
            "\n",
            "<IntegerArray>\n",
            "[3164, 3429, 3731, 3675, 3545, 3620, 3788, 3600, 3695, 3610,\n",
            " ...\n",
            " 4180, 4885, 5235, 6092, 4670, 4658, 4931, 4277, 5299, 4900]\n",
            "Length: 228, dtype: Int64\n"
          ]
        }
      ]
    },
    {
      "cell_type": "markdown",
      "source": [
        "### 17. Width column"
      ],
      "metadata": {
        "id": "CN8vGvTpwL1p"
      }
    },
    {
      "cell_type": "code",
      "source": [
        "print(\"Data Type : \",data['Width'].dtype)\n",
        "print()\n",
        "print(\"NaN values : \",data['Width'].isna().sum())\n",
        "print()\n",
        "print(data['Width'].unique())"
      ],
      "metadata": {
        "colab": {
          "base_uri": "https://localhost:8080/"
        },
        "id": "050Wy8zWwzO0",
        "outputId": "a5ac4fbc-65ec-430d-c42d-66a9ec17ed65"
      },
      "execution_count": 45,
      "outputs": [
        {
          "output_type": "stream",
          "name": "stdout",
          "text": [
            "Data Type :  object\n",
            "\n",
            "NaN values :  12\n",
            "\n",
            "['1750 mm' '1560 mm' '1579 mm' '1580 mm' '1475 mm' '1490 mm' '1636 mm'\n",
            " '1600 mm' '1645 mm' '1677 mm' '1647 mm' '1690 mm' '1739 mm' '1570 mm'\n",
            " '1695 mm' '1665 mm' '1660 mm' '1710 mm' '1734 mm' '1680 mm' '1682 mm'\n",
            " '1735 mm' '1737 mm' '1704 mm' '1705 mm' '1740 mm' '1706 mm' '1745 mm'\n",
            " '1694 mm' '1818 mm' '1860 mm' '1960 mm' '1839 mm' '1855 mm' '1864 mm'\n",
            " '1796 mm' '1786 mm' '1777 mm' '2120 mm' '1831 mm' '1727 mm' '1863 mm'\n",
            " '1801 mm' '1842 mm' '1850 mm' '2091 mm' '1899 mm' '1793 mm' '1874 mm'\n",
            " '1881 mm' '2069 mm' '1879 mm' '1843 mm' '2218 mm' '2080 mm' '1943 mm'\n",
            " '1954 mm' '1854 mm' '1934 mm' '1982 mm' '1885 mm' '1895 mm' nan '2169 mm'\n",
            " '2142 mm' '1968 mm' '2158 mm' '1931 mm' '1945 mm' '1915 mm' '1948 mm'\n",
            " '1920 mm' '1937 mm' '1980 mm' '2029 mm' '2181 mm' '2226 mm' '1910 mm'\n",
            " '1998 mm' '1865 mm' '1951 mm' '1947 mm' '2208 mm' '2000 mm' '1987 mm'\n",
            " '2038 mm' '1312 mm' '1520 mm' '1755 mm' '1540 mm' '1770 mm' '1811 mm'\n",
            " '1730 mm' '1790 mm' '1760 mm' '1765 mm' '1822 mm' '1729 mm' '1821 mm'\n",
            " '1751 mm' '1699 mm' '1575 mm' '1726 mm' '1820 mm' '1775 mm' '1835 mm'\n",
            " '1866 mm' '1890 mm' '1903 mm' '1830 mm' '1799 mm' '1809 mm' '1985 mm'\n",
            " '2041 mm' '1869 mm' '1882 mm' '2060 mm' '2058 mm' '2097 mm' '1898 mm'\n",
            " '1996 mm' '1902 mm' '1918 mm' '1877 mm' '1810 mm' '2024 mm' '1459 mm'\n",
            " '1928 mm' '1900 mm' '2145 mm' '1852 mm' '2140 mm' '2220 mm' '1983 mm'\n",
            " '2100 mm' '1911 mm' '2034 mm' '2073 mm' '2056 mm' '1939 mm' '2007 mm'\n",
            " '1953 mm' '1924 mm' '1933 mm' '1952 mm' '2030 mm' '1990 mm' '1410 mm'\n",
            " '1635 mm' '1687 mm' '1785 mm' '1813 mm' '1800 mm' '1965 mm' '1832 mm'\n",
            " '1780 mm' '2022 mm' '1783 mm' '1857 mm' '1.845 mm' '1845 mm' '2175 mm'\n",
            " '2052 mm' '2157 mm' '1870 mm' '2153 mm' '1929 mm' '1971 mm' '1894 mm'\n",
            " '1804 mm' '1849 mm' '1923 mm' '2042 mm' '1620 mm' '1675 mm' '1905 mm'\n",
            " '1840 mm' '2200 mm' '1814 mm' '2194 mm' '1815 mm' '2207 mm' '1875 mm']\n"
          ]
        }
      ]
    },
    {
      "cell_type": "markdown",
      "source": [
        "* Remove mm from string.\n",
        "* Change Data Type to Integer\n"
      ],
      "metadata": {
        "id": "Tb9DVxwCxD25"
      }
    },
    {
      "cell_type": "code",
      "source": [
        "# Removing mm and convert it into the Interger\n",
        "data['Width'] = data['Width'].str.replace(r' mm','',regex=True).astype(float).round().astype(\"Int64\")\n",
        "# Replacing NaN values With mean\n",
        "mean = data['Width'].mean().round()\n",
        "data['Width'] = data['Width'].fillna(mean)\n",
        "#Chaning column name\n",
        "data.rename(columns={'Width':'Width(mm)'},inplace=True)"
      ],
      "metadata": {
        "id": "v86pasquxC4x"
      },
      "execution_count": 46,
      "outputs": []
    },
    {
      "cell_type": "markdown",
      "source": [
        "\n",
        "\n",
        "*   Checking column after cleanning.\n",
        "\n",
        "\n"
      ],
      "metadata": {
        "id": "z3zGGWJQx39d"
      }
    },
    {
      "cell_type": "code",
      "source": [
        "print(\"Data Type : \",data['Width(mm)'].dtype)\n",
        "print()\n",
        "print(\"NaN values : \",data['Width(mm)'].isna().sum())\n",
        "print()\n",
        "print(data['Width(mm)'].unique())"
      ],
      "metadata": {
        "colab": {
          "base_uri": "https://localhost:8080/"
        },
        "id": "9ptdomRHx4IV",
        "outputId": "623dc9ac-9e9c-442f-f90f-fa270aca14ec"
      },
      "execution_count": 47,
      "outputs": [
        {
          "output_type": "stream",
          "name": "stdout",
          "text": [
            "Data Type :  Int64\n",
            "\n",
            "NaN values :  0\n",
            "\n",
            "<IntegerArray>\n",
            "[1750, 1560, 1579, 1580, 1475, 1490, 1636, 1600, 1645, 1677,\n",
            " ...\n",
            " 1620, 1675, 1905, 1840, 2200, 1814, 2194, 1815, 2207, 1875]\n",
            "Length: 183, dtype: Int64\n"
          ]
        }
      ]
    },
    {
      "cell_type": "markdown",
      "source": [
        "### 18. Body Type column"
      ],
      "metadata": {
        "id": "Rupsynp3yPCT"
      }
    },
    {
      "cell_type": "code",
      "source": [
        "print(\"Data Type : \",data['Body_Type'].dtype)\n",
        "print()\n",
        "print(\"Types of car Body : \",data['Body_Type'].nunique())\n",
        "print()\n",
        "print(\"NaN values : \",data['Body_Type'].isna().sum())\n",
        "print()\n",
        "print(data['Body_Type'].value_counts())"
      ],
      "metadata": {
        "colab": {
          "base_uri": "https://localhost:8080/"
        },
        "id": "RpWU6R2ryWjk",
        "outputId": "b7fb16ec-e02e-412c-bbd8-ee04d222c729"
      },
      "execution_count": 48,
      "outputs": [
        {
          "output_type": "stream",
          "name": "stdout",
          "text": [
            "Data Type :  object\n",
            "\n",
            "Types of car Body :  17\n",
            "\n",
            "NaN values :  6\n",
            "\n",
            "SUV                    438\n",
            "Sedan                  333\n",
            "Hatchback              316\n",
            "Coupe                   41\n",
            "MUV                     39\n",
            "MPV                     39\n",
            "Convertible             20\n",
            "Crossover               18\n",
            "Sports                   3\n",
            "Pick-up                  3\n",
            "Sports, Convertible      2\n",
            "Sedan, Coupe             2\n",
            "Crossover, SUV           2\n",
            "SUV, Crossover           2\n",
            "Sports, Hatchback        1\n",
            "Sedan, Crossover         1\n",
            "Coupe, Convertible       1\n",
            "Name: Body_Type, dtype: int64\n"
          ]
        }
      ]
    },
    {
      "cell_type": "markdown",
      "source": [
        "* replace ', ' with '-'.\n",
        "* 'Crossover, SUV' and 'SUV, Crossover' both are same so we keep it as Crossover-SUV."
      ],
      "metadata": {
        "id": "oYWINUr9zB4F"
      }
    },
    {
      "cell_type": "code",
      "source": [
        "# replacing ', ' with '-'\n",
        "data['Body_Type'] = data['Body_Type'].str.replace(\", \",\"-\")\n",
        "# replacing SUV-Crossover with Crossover-SUV\n",
        "data['Body_Type'].replace({'SUV-Crossover': 'Crossover-SUV'}, inplace=True)"
      ],
      "metadata": {
        "id": "yFUDHtFk2x10"
      },
      "execution_count": 49,
      "outputs": []
    },
    {
      "cell_type": "markdown",
      "source": [
        "* After data cleanning."
      ],
      "metadata": {
        "id": "UYa7L_2f51Sg"
      }
    },
    {
      "cell_type": "code",
      "source": [
        "print(\"Types of car Body : \",data['Body_Type'].nunique())\n",
        "print()\n",
        "print(data['Body_Type'].unique())"
      ],
      "metadata": {
        "colab": {
          "base_uri": "https://localhost:8080/"
        },
        "id": "2m3fToI65zlF",
        "outputId": "3841cbdd-e033-4907-f33f-920d98f65b06"
      },
      "execution_count": 50,
      "outputs": [
        {
          "output_type": "stream",
          "name": "stdout",
          "text": [
            "Types of car Body :  16\n",
            "\n",
            "['Hatchback' 'MPV' 'MUV' 'SUV' 'Sedan' 'Crossover' nan 'Coupe'\n",
            " 'Convertible' 'Sports-Hatchback' 'Sedan-Coupe' 'Sports' 'Crossover-SUV'\n",
            " 'Sedan-Crossover' 'Sports-Convertible' 'Pick-up' 'Coupe-Convertible']\n"
          ]
        }
      ]
    },
    {
      "cell_type": "markdown",
      "source": [
        "### 19. Doors Column"
      ],
      "metadata": {
        "id": "GScNE1By6TXQ"
      }
    },
    {
      "cell_type": "code",
      "source": [
        "print(\"Data Type : \",data['Doors'].dtype)\n",
        "print()\n",
        "print(\"Types of car Doors : \",data['Doors'].nunique())\n",
        "print()\n",
        "print(\"NaN values : \",data['Doors'].isna().sum())\n",
        "print()\n",
        "print(data['Doors'].value_counts())"
      ],
      "metadata": {
        "colab": {
          "base_uri": "https://localhost:8080/"
        },
        "id": "bvPjNKv65X1O",
        "outputId": "e9d639ce-7f4d-4a02-a8fd-3faf75736d7f"
      },
      "execution_count": 51,
      "outputs": [
        {
          "output_type": "stream",
          "name": "stdout",
          "text": [
            "Data Type :  float64\n",
            "\n",
            "Types of car Doors :  4\n",
            "\n",
            "NaN values :  4\n",
            "\n",
            "5.0    827\n",
            "4.0    362\n",
            "2.0     62\n",
            "3.0     12\n",
            "Name: Doors, dtype: int64\n"
          ]
        }
      ]
    },
    {
      "cell_type": "markdown",
      "source": [
        "* Convert all values to interger\n",
        "* Replace null values with mode."
      ],
      "metadata": {
        "id": "6ZeEZr8CKlgu"
      }
    },
    {
      "cell_type": "code",
      "source": [
        "# Fill NaN values with Mode\n",
        "mean = data['Doors'].mean().round()\n",
        "data['Doors'] = data['Doors'].fillna(mean)\n",
        "#Converting values to integer.\n",
        "data['Doors'] = data['Doors'].astype('Int64')"
      ],
      "metadata": {
        "id": "G_NR4mmZK5XQ"
      },
      "execution_count": 52,
      "outputs": []
    },
    {
      "cell_type": "markdown",
      "source": [
        "\n",
        "\n",
        "* Checking after processing.\n",
        "\n",
        "\n",
        "\n"
      ],
      "metadata": {
        "id": "SzK5KJQJLnDY"
      }
    },
    {
      "cell_type": "code",
      "source": [
        "print(\"Data Type : \",data['Doors'].dtype)\n",
        "print()\n",
        "print(\"NaN values : \",data['Doors'].isna().sum())\n",
        "print()\n",
        "print(data['Doors'].value_counts())"
      ],
      "metadata": {
        "colab": {
          "base_uri": "https://localhost:8080/"
        },
        "id": "JaKgH77ULuqW",
        "outputId": "c005d7e4-ebde-4688-9ead-df09589f7e76"
      },
      "execution_count": 53,
      "outputs": [
        {
          "output_type": "stream",
          "name": "stdout",
          "text": [
            "Data Type :  Int64\n",
            "\n",
            "NaN values :  0\n",
            "\n",
            "5    831\n",
            "4    362\n",
            "2     62\n",
            "3     12\n",
            "Name: Doors, dtype: Int64\n"
          ]
        }
      ]
    },
    {
      "cell_type": "markdown",
      "source": [
        "### 20. Final_Mileage :\n",
        "### 20,21,22 : City Mileage, Highway Mileage, ARAI Certified Mileage\n",
        "\n",
        "\n",
        "* **City Mileage**"
      ],
      "metadata": {
        "id": "EEJu2hGeOAhr"
      }
    },
    {
      "cell_type": "code",
      "source": [
        "print(\"Data Type : \",data['City_Mileage'].dtype)\n",
        "print()\n",
        "print(\"NaN values : \",data['City_Mileage'].isna().sum())\n",
        "print()\n",
        "print(data['City_Mileage'].unique())"
      ],
      "metadata": {
        "colab": {
          "base_uri": "https://localhost:8080/"
        },
        "id": "CutpE4MSOWwa",
        "outputId": "213953c4-3c8d-40f1-bc11-87ddb879cb7c"
      },
      "execution_count": 54,
      "outputs": [
        {
          "output_type": "stream",
          "name": "stdout",
          "text": [
            "Data Type :  object\n",
            "\n",
            "NaN values :  554\n",
            "\n",
            "['?23.6 km/litre' nan '21.38 km/litre' '25.17 km/litre' '12 km/litre'\n",
            " '11 km/litre' '14 km/litre' '19 km/litre' '20.6 km/litre' '23 km/litre'\n",
            " '23.84 km/litre' '20.89 km/litre' '15.1 km/litre' '13 km/litre'\n",
            " '20 km/litre' '20.3 km/litre' '19.49 km/litre' '22,95 km/litre'\n",
            " '17,57 km/litre' '14.6 km/litre' '16.3 km/litre' '13.3 km/litre'\n",
            " '18.4 km/litre' '17 km/litre' '28,4 km/litre' '28.4 km/litre'\n",
            " '15.3 km/litre' '13,6 km/litre' '20.32 km/litre' '13.6 km/litre'\n",
            " '15 km/litre' '16,78 km/litre' '18.1 km/litre' '16.78 km/litre'\n",
            " '18 km/litre' '11.2 km/litre' '11.3 km/litre' '13.8 km/litre'\n",
            " '12.4 km/litre' '9.5 km/litre' '11.5 km/litre' '11.04 km/litre'\n",
            " '13.9 km/litre' '8 km/litre' '10.3 km/litre' '12.3 km/litre'\n",
            " '5.7 km/litre' '19.2 km/litre' '16 km/litre' '11,44 km/litre'\n",
            " '10 km/litre' '12.8 km/litre' '4.5 km/litre' '12.5-12.7 km/litre'\n",
            " '9 km/litre' '6.5 km/litre' '7 km/litre' '18.8 km/litre' '13.5 km/litre'\n",
            " '5.4 km/litre' '5.2 km/litre' '4.6 km/litre' '7.81 km/litre'\n",
            " '7.1 km/litre' '7.8 km/litre' '5.3 km/litre' '6 km/litre' '9,6 km/litre'\n",
            " '10.5 km/litre' '4.7 km/litre' '6.2 km/litre' '10.2 km/litre'\n",
            " '24 km/litre' '18.9 km/litre' '15.5 km/litre' '22.25 km/litre'\n",
            " '12.6 km/litre' '8.6 km/litre' '24.12 km/litre' '13.2 km/litre'\n",
            " '11,3 km/litre' '17.2 km/litre' '9.4 km/litre' '21.19 km/litre'\n",
            " '19.9 km/litre' '21.04 km/litre' '12.1 km/litre' '80 km/litre'\n",
            " '16.2 km/litre' '18.49 km/litre' '8.1 km/litre' '110 km/litre'\n",
            " '18.2 km/litre' '10.6 km/litre' '10.1 km/litre' '16,8 km/litre'\n",
            " '12.55 km/litre' '12,55 km/litre' '7.7 km/litre' '9.3 km/litre'\n",
            " '15.71 km/litre' '15.6 km/litre' '8.5 km/litre' '7.45 km/litre'\n",
            " '11.7 km/litre' '17.5 km/litre' '15.68 km/litre' '12.63 km/litre'\n",
            " '5 km/litre' '5.9 km/litre' '5.6 km/litre' '4.4 km/litre' '8.69 km/litre'\n",
            " '4 km/litre' '5.8 km/litre' '3.2 km/litre' '3 km/litre' '3.6 km/litre'\n",
            " '7.9 km/litre' '4.38 km/litre' '20.62 km/litre' '27.39 km/litre'\n",
            " '21.4 km/litre' '11.4 km/litre' '25.5 km/litre' '23.65 km/litre'\n",
            " '10.7 km/litre' '17.1 km/litre' '10.8 km/litre' '13,93 km/litre'\n",
            " '13.1 km/litre' '16,38 km/litre' '13,3 km/litre' '16.38 km/litre'\n",
            " '12.03 km/litre' '13.05 km/litre' '17.8 km/litre' '21.27 km/litre'\n",
            " '7.32 km/litre' '11.6 km/litre' '9.1 km/litre' '20.7 km/litre'\n",
            " '15.7 km/litre' '19.5 km/litre' '28.09 km/litre' '21.56 km/litre'\n",
            " '26.82 km/litre' '26032 km/litre' '26.32 km/litre' '14.5 km/litre'\n",
            " '15.29 km/litre' '17.01 km/litre' '7.3 km/litre' '13.4 km/litre'\n",
            " '21 km/litre' '8.4 km/litre' '15.01 km/litre' '4.45 km/litre'\n",
            " '12.05 km/litre' '15.8 km/litre' '21,2 km/litre' '2 km/litre'\n",
            " '14.3 km/litre' '22.6 km/litre' '8.25 km/litre']\n"
          ]
        }
      ]
    },
    {
      "cell_type": "markdown",
      "source": [
        "* **Highway Mileage**"
      ],
      "metadata": {
        "id": "Aidben5RtnHu"
      }
    },
    {
      "cell_type": "code",
      "source": [
        "print(\"Data Type : \",data['Highway_Mileage'].dtype)\n",
        "print()\n",
        "print(\"NaN values : \",data['Highway_Mileage'].isna().sum())\n",
        "print()\n",
        "print(data['Highway_Mileage'].unique())"
      ],
      "metadata": {
        "colab": {
          "base_uri": "https://localhost:8080/"
        },
        "id": "2tm9avmStrmN",
        "outputId": "52389dd2-1c84-46e2-ff91-8c3eea68de1c"
      },
      "execution_count": 55,
      "outputs": [
        {
          "output_type": "stream",
          "name": "stdout",
          "text": [
            "Data Type :  object\n",
            "\n",
            "NaN values :  792\n",
            "\n",
            "[nan '24 km/litre' '15 km/litre' '17 km/litre' '24.07 km/litre'\n",
            " '23 km/litre' '22 km/litre' '20.89 km/litre' '16 km/litre'\n",
            " '23.7 km/litre' '17.71 km/litre' '18.16 km/litre' '23.59 km/litre'\n",
            " '23.08 km/litre' '15.7 km/litre' '19.8 km/litre' '19.1 km/litre'\n",
            " '18.6 km/litre' '22.54 km/litre' '18.5 km/litre' '22.5 km/litre'\n",
            " '20.5 km/litre' '20 km/litre' '19 km/litre' '21.66 km/litre'\n",
            " '21.73 km/litre' '16.3 km/litre' '16.7 km/litre' '23.6 km/litre'\n",
            " '20.08 km/litre' '13.8 km/litre' '13.7 km/litre' '18.19 km/litre'\n",
            " '18 km/litre' '14.2 km/litre' '15.04 km/litre' '17.9 km/litre'\n",
            " '10 km/litre' '13.12 km/litre' '19.33 km/litre' '18.56 km/litre'\n",
            " '13 km/litre' '8.5 km/litre' '8.3-8.4 km/litre' '7.4 km/litre'\n",
            " '10.5 km/litre' '12 km/litre' '11 km/litre' '16.46 km/litre'\n",
            " '13.5 km/litre' '7.81 km/litre' '7.8 km/litre' '6.2 km/litre'\n",
            " '5 km/litre' '8.6 km/litre' '9 km/litre' '13.1 km/litre' '10.2 km/litre'\n",
            " '9.5 km/litre' '14.8 km/litre' '19.77 km/litre' '18.15 km/litre'\n",
            " '25.32 km/litre' '25 km/litre' '11.12 km/litre' '17.6 km/litre'\n",
            " '20.4 km/litre' '13.6 km/litre' '15.96 km/litre' '24.3 km/litre'\n",
            " '17.19 km/litre' '13.87 km/litre' '19.6 km/litre' '22.32 km/litre'\n",
            " '15.4 km/litre' '21.9 km/litre' '10.22 km/litre' '21.72 km/litre'\n",
            " '14.84 km/litre' '21.13 km/litre' '15.41 km/litre' '15.1 km/litre'\n",
            " '21 km/litre' '14.12 km/litre' '14.67 km/litre' '12.9 km/litre'\n",
            " '14.24 km/litre' '10.26 km/litre' '10.01 km/litre' '10.91 km/litre'\n",
            " '12.62 km/litre' '20.68 km/litre' '18.8 km/litre' '8.4 km/litre'\n",
            " '12.6 km/litre' '11.5 km/litre' '9.6 km/litre' '11.6 km/litre'\n",
            " '6 km/litre' '5.5 km/litre' '8.8 km/litre' '7.9 km/litre' '4.38 km/litre'\n",
            " '14.7 km/litre' '18.9 km/litre' '17.49 km/litre' '19.5 km/litre'\n",
            " '14.9 km/litre' '14.6 km/litre' '20.45 km/litre' '19.01 km/litre'\n",
            " '13.24 km/litre' '14 km/litre' '18.42 km/litre' '13.03 km/litre'\n",
            " '16.38 km/litre' '12.95 km/litre' '15.5 km/litre' '16.8 km/litre'\n",
            " '18.7 km/litre' '10.75 km/litre' '10.7 km/litre' '7.6 km/litre'\n",
            " '8 km/litre' '10.3 km/litre' '17.7 km/litre' '23.1 km/litre'\n",
            " '16.1 km/litre' '7.94 km/litre' '14.3 km/litre' '17.21 km/litre'\n",
            " '16.21 km/litre' '4 km/litre' '16.4 km/litre' '25.6 km/litre'\n",
            " '25.1 km/litre' '11.56 km/litre']\n"
          ]
        }
      ]
    },
    {
      "cell_type": "markdown",
      "source": [
        "* **ARAI Certified Mileage**"
      ],
      "metadata": {
        "id": "1J23ucyAu7VE"
      }
    },
    {
      "cell_type": "code",
      "source": [
        "print(\"Data Type : \",data['ARAI_Certified_Mileage'].dtype)\n",
        "print()\n",
        "print(\"NaN values : \",data['ARAI_Certified_Mileage'].isna().sum())\n",
        "print()\n",
        "print(data['ARAI_Certified_Mileage'].unique())"
      ],
      "metadata": {
        "colab": {
          "base_uri": "https://localhost:8080/"
        },
        "id": "rKhcbn5Ot0jI",
        "outputId": "e069dbd9-e56c-45f7-c743-5d37fe5ab711"
      },
      "execution_count": 56,
      "outputs": [
        {
          "output_type": "stream",
          "name": "stdout",
          "text": [
            "Data Type :  object\n",
            "\n",
            "NaN values :  114\n",
            "\n",
            "['23.6 km/litre' nan '21.9 km/litre' '25.17 km/litre' '22.5 km/litre'\n",
            " '23 km/litre' '23.01 km/litre' '24.04 km/litre' '15 km/litre'\n",
            " '24.07 km/litre' '20.1 km/litre' '23.1 km/litre' '20.3 km/litre'\n",
            " '24 km/litre' '20.89 km/litre' '20.5 km/litre' '16 km/litre'\n",
            " '23.7 km/litre' '18.16 km/litre' '23.59 km/litre' '18.97 km/litre'\n",
            " '19.49 km/litre' '22.95 km/litre' '17.57 km/litre' '15.7 km/litre'\n",
            " '20.14 km/litre' '20 km/litre' '28.4 km/litre' '22 km/litre'\n",
            " '18.6 km/litre' '22.54 km/litre' '18.15 km/litre' '25.35 km/litre'\n",
            " '20.4 km/litre' '25.4 km/litre' '18.78 km/litre' '17.21 km/litre'\n",
            " '19.91 km/litre' '24.4 km/litre' '19 km/litre' '21.66 km/litre'\n",
            " '21.73 km/litre' '26.1 km/litre' '19.4 km/litre' '16.78 km/litre'\n",
            " '17.71 km/litre' '20.08 km/litre' '17.1 km/litre' '23.87 km/litre'\n",
            " '21.01 km/litre' '19.56 km/litre' '18.2 km/litre' '27.3 km/litre'\n",
            " '16.3 km/litre' '13.8 km/litre' '12.35 km/litre' '12.05 km/litre'\n",
            " '17.06 km/litre' '14.4 km/litre' '19.5 km/litre' '18.3 km/litre'\n",
            " '13.7 km/litre' '18.19 km/litre' '20.38 km/litre' '19.2 km/litre'\n",
            " '14.81 km/litre' '15.04 km/litre' '17.9 km/litre' '10 km/litre'\n",
            " '15.73 km/litre' '16.9 km/litre' '21.15 km/litre' '14.59 km/litre'\n",
            " '16.47 km/litre' '11 km/litre' '13.12 km/litre' '19.33 km/litre'\n",
            " '14.11 km/litre' '18.56 km/litre' '13.57 km/litre' '13.38 km/litre'\n",
            " '11.24 km/litre' '13 km/litre' '12.8 km/litre' '8.61 km/litre'\n",
            " '9.8-10.0 km/litre' '7.4 km/litre' '11.6 km/litre' '12 km/litre'\n",
            " '11.13 km/litre' '18 km/litre' '10.8 km/litre' '17.66 km/litre'\n",
            " '11.86 km/litre' '7.96 km/litre' '13.5 km/litre' '7.8 km/litre'\n",
            " '14 km/litre' '7.9 km/litre' '10.63 km/litre' '6.71 km/litre'\n",
            " '8.6 km/litre' '9 km/litre' '8.77 km/litre' '17.3 km/litre'\n",
            " '7.29 km/litre' '10.2 km/litre' '9.5 km/litre' '22.4-21.9 km/litre'\n",
            " '22.8 km/litre' '5.95 km/litre' '35 km/litre' '22.05 km/litre'\n",
            " '21.4 km/litre' '21.7 km/litre' '19.77 km/litre' '25.32 km/litre'\n",
            " '25.2 km/litre' '25 km/litre' '11.12 km/litre' '17.6 km/litre'\n",
            " '20.65 km/litre' '27.4 km/litre' '23.8 km/litre' '11.9 km/litre'\n",
            " '17.52 km/litre' '18.27 km/litre' '23.97 km/litre' '16.5 km/litre'\n",
            " '15.96 km/litre' '24.3 km/litre' '17.19 km/litre' '21.19 km/litre'\n",
            " '17 km/litre' '14.8 km/litre' '13.87 km/litre' '19.6 km/litre'\n",
            " '17.7 km/litre' '23.9 km/litre' '23.5 km/litre' '19.1 km/litre'\n",
            " '21.04 km/litre' '19.98 km/litre' '16.09 km/litre' '20.64 km/litre'\n",
            " '21.5 km/litre' '15.4 km/litre' '19.01 km/litre' '17.01 km/litre'\n",
            " '18.49 km/litre' '10.22 km/litre' '21.72 km/litre' '14.84 km/litre'\n",
            " '21.13 km/litre' '15.41 km/litre' '13.85 km/litre' '15.1 km/litre'\n",
            " '10.83 km/litre' '10.75 km/litre' '11.25 km/litre' '14.1 km/litre'\n",
            " '16.7 km/litre' '21 km/litre' '16.8 km/litre' '26.8 km/litre'\n",
            " '14.12 km/litre' '14.67 km/litre' '16.81 km/litre' '12.9 km/litre'\n",
            " '14.24 km/litre' '10.26 km/litre' '10.01 km/litre' '10.91 km/litre'\n",
            " '12.62 km/litre' '15.75 km/litre' '16.25 km/litre' '20.68 km/litre'\n",
            " '17.05 km/litre' '19.62 km/litre' '16.13 km/litre' '12.44 km/litre'\n",
            " '15.6 km/litre' '142 km/litre' '8.5 km/litre' '18.8 km/litre'\n",
            " '16.4 km/litre' '13.32 km/litre' '8.4 km/litre' '7.6 km/litre'\n",
            " '14.75 km/litre' '11.68 km/litre' '12.63 km/litre' '12.06 km/litre'\n",
            " '17.2 km/litre' '11.5 km/litre' '3.4 km/litre' '16.2 km/litre'\n",
            " '9.8 km/litre' '9.6 km/litre' '10kmpl km/litre' '10.6 km/litre'\n",
            " '8 km/litre' '5.5 km/litre' '5 km/litre' '8.8 km/litre' '20.6 km/litre'\n",
            " '25.5 km/litre' '27.39 km/litre' '18.9 km/litre' '17.49 km/litre'\n",
            " '14.9 km/litre' '16.95 km/litre' '22.71 km/litre' '17.97 km/litre'\n",
            " '19.34 km/litre' '18.69 km/litre' '24.2 km/litre' '17.5 km/litre'\n",
            " '23.65 km/litre' '13.86 km/litre' '20.37 km/litre' '13.9 km/litre'\n",
            " '14.02 km/litre' '16.1 km/litre' '20.45 km/litre' '13.24 km/litre'\n",
            " '17.41 km/litre' '14.6 km/litre' '18.42 km/litre' '13.03 km/litre'\n",
            " '16.38 km/litre' '12.95 km/litre' '17.42 km/litre' '15.5 km/litre'\n",
            " '14.41 km/litre' '19.19 km/litre' '16.05 km/litre' '1449 km/litre'\n",
            " '17.8 km/litre' '21.27 km/litre' '8.9 km/litre' '9.1 km/litre'\n",
            " '24.7 km/litre' '20.7 km/litre' '17.36 km/litre' '23.08 km/litre'\n",
            " '28.09 km/litre' '21.56 km/litre' '20.28 km/litre' '26.82 km/litre'\n",
            " '26.32 km/litre' '21.38 km/litre' '15.29 km/litre' '19.67 km/litre'\n",
            " '10.3 km/litre' '9.62 km/litre' '18.12 km/litre' '14.69 km/litre'\n",
            " '15.01 km/litre' '16.46 km/litre' '7.94 km/litre' '21.76 km/litre'\n",
            " '14.3 km/litre' '15.3 km/litre' '10.7 km/litre' '10.85 km/litre'\n",
            " '23.84 km/litre' '27.28 km/litre' '16.21 km/litre' '14.23 km/litre'\n",
            " '23.2 km/litre' '9.17 km/litre' '21.2 km/litre' '13.51 km/litre'\n",
            " '18.18 km/litre' '10.77 km/litre' '4 km/litre' '17.4 km/litre'\n",
            " '25.6 km/litre' '25.1 km/litre' '22.6 km/litre' '11.56 km/litre']\n"
          ]
        }
      ]
    },
    {
      "cell_type": "markdown",
      "source": [
        "* Both Three cloumn has same values types so, for cleanning process we have perform same type of opertion on them.\n",
        "\n",
        "\n",
        "1.   Remove km/litre from value.\n",
        "2.   Convert Column to float.\n",
        "3.   Replace NaN values with mean of each column.\n",
        "\n"
      ],
      "metadata": {
        "id": "eCzHkUcCvD6X"
      }
    },
    {
      "cell_type": "code",
      "source": [
        "# Remove other letters and keep only intergers\n",
        "# City Mileage\n",
        "data['City_Mileage'] = data['City_Mileage'].replace(r'\\?|\\s*km/litre*','',regex=True).str.replace(',','.')\n",
        "data['City_Mileage'] = data['City_Mileage'].replace(r'-.*','',regex=True)\n",
        "data['City_Mileage'] = data['City_Mileage'].astype(float)\n",
        "# removing random values and filling NaN with mean\n",
        "data.loc[data['City_Mileage'] > 50, 'City_Mileage'] = np.nan\n",
        "mean_city = data['City_Mileage'].mean().round(2)\n",
        "data['City_Mileage'] = data['City_Mileage'].fillna(mean_city)\n",
        "\n",
        "# # # Highway Mileage\n",
        "data['Highway_Mileage'] = data['Highway_Mileage'].replace(r'\\?|\\s*km/litre*','',regex=True)\n",
        "data['Highway_Mileage'] = data['Highway_Mileage'].replace(r'-.*','',regex=True).astype(float)\n",
        "# removing random values and filling NaN with mean\n",
        "mean_city = data['Highway_Mileage'].mean().round(2)\n",
        "data['Highway_Mileage'] = data['Highway_Mileage'].fillna(mean_city)\n",
        "\n",
        "# # # ARAI Certified Mileage\n",
        "data['ARAI_Certified_Mileage'] = data['ARAI_Certified_Mileage'].replace(r'\\?|\\s*km/litre*','',regex=True).str.replace('kmpl','')\n",
        "data['ARAI_Certified_Mileage'] = data['ARAI_Certified_Mileage'].replace(r'-.*','',regex=True).astype(float)\n",
        "# removing random values and filling NaN with mean\n",
        "data.loc[data['ARAI_Certified_Mileage'] > 50, 'ARAI_Certified_Mileage'] = np.nan\n",
        "mean_city = data['ARAI_Certified_Mileage'].mean().round(2)\n",
        "data['ARAI_Certified_Mileage'] = data['ARAI_Certified_Mileage'].fillna(mean_city)"
      ],
      "metadata": {
        "id": "D201gCHKvyET"
      },
      "execution_count": 57,
      "outputs": []
    },
    {
      "cell_type": "markdown",
      "source": [
        "\n",
        "\n",
        "* Here, we don't need 'City_Mileage','Highway_Mileage' and 'ARAI_Certified_Mileage' insted,\n",
        "\n",
        "* we creat we column 'Final_Mileage' and takes average of above three column for accurate Mileage.\n",
        "\n"
      ],
      "metadata": {
        "id": "E6JRiwPfzVDd"
      }
    },
    {
      "cell_type": "code",
      "source": [
        "data['Final_Mileage'] = data[['City_Mileage', 'Highway_Mileage', 'ARAI_Certified_Mileage']].mean(axis=1).round(2)\n",
        "final_mileage= data['Final_Mileage']\n",
        "data.drop(['Final_Mileage'], axis=1,inplace=True)\n",
        "data.insert(19, 'Final_Mileage', final_mileage)"
      ],
      "metadata": {
        "id": "AmndtUOFp9hC"
      },
      "execution_count": 58,
      "outputs": []
    },
    {
      "cell_type": "markdown",
      "source": [
        "* Removing 'City_Mileage','Highway_Mileage','ARAI_Certified_Mileage' columns."
      ],
      "metadata": {
        "id": "oNZfIWcFz_Gx"
      }
    },
    {
      "cell_type": "code",
      "source": [
        "data.drop(['City_Mileage','Highway_Mileage','ARAI_Certified_Mileage'], axis=1,inplace=True)"
      ],
      "metadata": {
        "id": "WMq_X3bsnJlj"
      },
      "execution_count": 59,
      "outputs": []
    },
    {
      "cell_type": "markdown",
      "source": [
        "* New column : 'Final_Mileage'"
      ],
      "metadata": {
        "id": "gdMif-Y-0Ezw"
      }
    },
    {
      "cell_type": "code",
      "source": [
        "print(\"Data Type : \",data['Final_Mileage'].dtype)\n",
        "print()\n",
        "print(\"NaN values : \",data['Final_Mileage'].isna().sum())"
      ],
      "metadata": {
        "colab": {
          "base_uri": "https://localhost:8080/"
        },
        "id": "2GD_M51rsG6w",
        "outputId": "c99c883a-25c4-4a79-f7a8-2781c3431393"
      },
      "execution_count": 60,
      "outputs": [
        {
          "output_type": "stream",
          "name": "stdout",
          "text": [
            "Data Type :  float64\n",
            "\n",
            "NaN values :  0\n"
          ]
        }
      ]
    },
    {
      "cell_type": "markdown",
      "source": [
        "### 21. Kerb_Weight column."
      ],
      "metadata": {
        "id": "Fwi3IhA-zAW6"
      }
    },
    {
      "cell_type": "code",
      "source": [
        "print(\"Data Type : \",data['Kerb_Weight'].dtype)\n",
        "print()\n",
        "print(\"NaN values : \",data['Kerb_Weight'].isna().sum())\n",
        "print()\n",
        "print(data['Kerb_Weight'].head())"
      ],
      "metadata": {
        "colab": {
          "base_uri": "https://localhost:8080/"
        },
        "id": "1pSe_c1pzAs_",
        "outputId": "506fe499-f5dd-4450-86b0-3561afb807d3"
      },
      "execution_count": 61,
      "outputs": [
        {
          "output_type": "stream",
          "name": "stdout",
          "text": [
            "Data Type :  object\n",
            "\n",
            "NaN values :  365\n",
            "\n",
            "0    660 kg\n",
            "1    725 kg\n",
            "2    710 kg\n",
            "3    725 kg\n",
            "4    725 kg\n",
            "Name: Kerb_Weight, dtype: object\n"
          ]
        }
      ]
    },
    {
      "cell_type": "markdown",
      "source": [
        "* Remove \"kg\" from string.\n",
        "* Convert it into Integer.\n",
        "* Filling NaN values with mean\n",
        "* Renaming column for undarstandding unit"
      ],
      "metadata": {
        "id": "1dsueWxS1TMv"
      }
    },
    {
      "cell_type": "code",
      "source": [
        "data['Kerb_Weight'] = data['Kerb_Weight'].replace(r'-.*','',regex=True).str.replace(\" kg\",\"\").astype(float).astype(\"Int64\")\n",
        "# # Calculating mean and replacing it with NaN values.\n",
        "mean = data['Kerb_Weight'].mean().astype(int)\n",
        "data['Kerb_Weight'] = data['Kerb_Weight'].fillna(mean)\n",
        "#changing column name\n",
        "data.rename(columns={'Kerb_Weight': 'Kerb_Weight(kg)'}, inplace=True)"
      ],
      "metadata": {
        "id": "r55bRB--1fuE"
      },
      "execution_count": 62,
      "outputs": []
    },
    {
      "cell_type": "markdown",
      "source": [
        "\n",
        "\n",
        "*  Column After Cleanning.\n",
        "\n"
      ],
      "metadata": {
        "id": "LDz-HN8S2Luy"
      }
    },
    {
      "cell_type": "code",
      "source": [
        "print(\"Data Type : \",data['Kerb_Weight(kg)'].dtype)\n",
        "print()\n",
        "print(\"NaN values : \",data['Kerb_Weight(kg)'].isna().sum())\n",
        "print()\n",
        "print(data['Kerb_Weight(kg)'].head())"
      ],
      "metadata": {
        "colab": {
          "base_uri": "https://localhost:8080/"
        },
        "id": "upJ-0RNj2RmW",
        "outputId": "c023e395-41f6-4782-ee4a-c9d892a8ef9c"
      },
      "execution_count": 63,
      "outputs": [
        {
          "output_type": "stream",
          "name": "stdout",
          "text": [
            "Data Type :  Int64\n",
            "\n",
            "NaN values :  0\n",
            "\n",
            "0    660\n",
            "1    725\n",
            "2    710\n",
            "3    725\n",
            "4    725\n",
            "Name: Kerb_Weight(kg), dtype: Int64\n"
          ]
        }
      ]
    },
    {
      "cell_type": "markdown",
      "source": [
        "### 22. Gears column"
      ],
      "metadata": {
        "id": "06UJEqbT56I-"
      }
    },
    {
      "cell_type": "code",
      "source": [
        "print(\"Data Type : \",data['Gears'].dtype)\n",
        "print()\n",
        "print(\"Types of Gears : \",data['Gears'].nunique())\n",
        "print()\n",
        "print(\"NaN values : \",data['Gears'].isna().sum())\n",
        "print()\n",
        "print(data['Gears'].value_counts())"
      ],
      "metadata": {
        "colab": {
          "base_uri": "https://localhost:8080/"
        },
        "id": "9Zlp6XT36Fhr",
        "outputId": "dcc546d9-2071-4c97-b1e7-75f4781f3002"
      },
      "execution_count": 64,
      "outputs": [
        {
          "output_type": "stream",
          "name": "stdout",
          "text": [
            "Data Type :  object\n",
            "\n",
            "Types of Gears :  8\n",
            "\n",
            "NaN values :  105\n",
            "\n",
            "5                              614\n",
            "6                              224\n",
            "8                              139\n",
            "7                              137\n",
            "9                               30\n",
            "4                               16\n",
            "7 Dual Clutch                    1\n",
            "Single Speed Reduction Gear      1\n",
            "Name: Gears, dtype: int64\n"
          ]
        }
      ]
    },
    {
      "cell_type": "code",
      "source": [
        "# Update and convert 'Gears' column in 'car' DataFrame\n",
        "data['Gears'] = data['Gears'].replace({'Single Speed Reduction Gear': '1', '7 Dual Clutch': '7'})\n",
        "data['Gears'] = data['Gears'].astype(float).astype(\"Int64\")"
      ],
      "metadata": {
        "id": "i0HAMYso7jFy"
      },
      "execution_count": 65,
      "outputs": []
    },
    {
      "cell_type": "code",
      "source": [
        "print(\"Data Type : \",data['Gears'].dtype)\n",
        "print()\n",
        "print(\"Types of Gears : \",data['Gears'].nunique())\n",
        "print()\n",
        "print(\"NaN values : \",data['Gears'].isna().sum())\n",
        "print()\n",
        "print(data['Gears'].value_counts())"
      ],
      "metadata": {
        "colab": {
          "base_uri": "https://localhost:8080/"
        },
        "id": "Te3V4MEd8Cts",
        "outputId": "449f23a2-79dd-4ffd-db4b-a33e712726f6"
      },
      "execution_count": 66,
      "outputs": [
        {
          "output_type": "stream",
          "name": "stdout",
          "text": [
            "Data Type :  Int64\n",
            "\n",
            "Types of Gears :  7\n",
            "\n",
            "NaN values :  105\n",
            "\n",
            "5    614\n",
            "6    224\n",
            "8    139\n",
            "7    138\n",
            "9     30\n",
            "4     16\n",
            "1      1\n",
            "Name: Gears, dtype: Int64\n"
          ]
        }
      ]
    },
    {
      "cell_type": "markdown",
      "source": [
        "### 23. Ground_Clearance column\n"
      ],
      "metadata": {
        "id": "kqnTNUDx3GnS"
      }
    },
    {
      "cell_type": "code",
      "source": [
        "print(\"Data Type : \",data['Ground_Clearance'].dtype)\n",
        "print()\n",
        "print(\"NaN values : \",data['Ground_Clearance'].isna().sum())\n",
        "print()\n",
        "print(data['Ground_Clearance'].head())"
      ],
      "metadata": {
        "colab": {
          "base_uri": "https://localhost:8080/"
        },
        "id": "ZWrBATC23O1J",
        "outputId": "698a821d-e319-456b-c314-092e210822e3"
      },
      "execution_count": 67,
      "outputs": [
        {
          "output_type": "stream",
          "name": "stdout",
          "text": [
            "Data Type :  object\n",
            "\n",
            "NaN values :  289\n",
            "\n",
            "0    180 mm\n",
            "1    180 mm\n",
            "2    180 mm\n",
            "3    180 mm\n",
            "4    180 mm\n",
            "Name: Ground_Clearance, dtype: object\n"
          ]
        }
      ]
    },
    {
      "cell_type": "markdown",
      "source": [
        "* Remove charaters ecluding numbers.\n",
        "* Convert data type to integer.\n",
        "* Replace NaN values with mean of the column.\n",
        "* Change column name to 'Ground_Clearance(mm)'."
      ],
      "metadata": {
        "id": "xN5CQ6NE44C-"
      }
    },
    {
      "cell_type": "code",
      "source": [
        "data['Ground_Clearance'] = data['Ground_Clearance'].str.replace(\" mm\",\"\")\n",
        "data['Ground_Clearance'] = pd.to_numeric(data['Ground_Clearance'], errors='coerce', downcast='integer')\n",
        "# # Calculating mean and replacing it with NaN values.\n",
        "mean = data['Ground_Clearance'].mean().astype(int)\n",
        "data['Ground_Clearance'] = data['Ground_Clearance'].fillna(mean)\n",
        "#changing column name\n",
        "data.rename(columns={'Ground_Clearance': 'Ground_Clearance(mm)'}, inplace=True)"
      ],
      "metadata": {
        "id": "5uwdux8B39PW"
      },
      "execution_count": 68,
      "outputs": []
    },
    {
      "cell_type": "markdown",
      "source": [
        "\n",
        "\n",
        "*   Overview of the 'Ground_Clearance(mm)' column.\n",
        "\n"
      ],
      "metadata": {
        "id": "jHMoriVl5Zvi"
      }
    },
    {
      "cell_type": "code",
      "source": [
        "print(\"Data Type : \",data['Ground_Clearance(mm)'].dtype)\n",
        "print()\n",
        "print(\"NaN values : \",data['Ground_Clearance(mm)'].isna().sum())\n",
        "print()\n",
        "print(data['Ground_Clearance(mm)'].sample(5))"
      ],
      "metadata": {
        "colab": {
          "base_uri": "https://localhost:8080/"
        },
        "id": "T3bXLady4n_V",
        "outputId": "3edefdd8-289d-49c5-e574-536ae7c21b3a"
      },
      "execution_count": 69,
      "outputs": [
        {
          "output_type": "stream",
          "name": "stdout",
          "text": [
            "Data Type :  float64\n",
            "\n",
            "NaN values :  0\n",
            "\n",
            "199     170.0\n",
            "228     165.0\n",
            "815     200.0\n",
            "377     165.0\n",
            "1137    205.0\n",
            "Name: Ground_Clearance(mm), dtype: float64\n"
          ]
        }
      ]
    },
    {
      "cell_type": "markdown",
      "source": [
        "### 24. Front_Brakes Column."
      ],
      "metadata": {
        "id": "NpMi3RnODc2U"
      }
    },
    {
      "cell_type": "code",
      "source": [
        "print(\"Data Type : \",data['Front_Brakes'].dtype)\n",
        "print()\n",
        "print(\"Types of breaks : \",data['Front_Brakes'].nunique())\n",
        "print()\n",
        "print(\"NaN values : \",data['Front_Brakes'].isna().sum())\n",
        "print()\n",
        "print(data['Front_Brakes'].value_counts())"
      ],
      "metadata": {
        "colab": {
          "base_uri": "https://localhost:8080/"
        },
        "id": "kK2RgRf2DdBN",
        "outputId": "63ac1c3f-e13a-434a-b323-ede589324817"
      },
      "execution_count": 70,
      "outputs": [
        {
          "output_type": "stream",
          "name": "stdout",
          "text": [
            "Data Type :  object\n",
            "\n",
            "Types of breaks :  3\n",
            "\n",
            "NaN values :  25\n",
            "\n",
            "Ventilated Disc    1159\n",
            "Solid Disc           73\n",
            "Drum                 10\n",
            "Name: Front_Brakes, dtype: int64\n"
          ]
        }
      ]
    },
    {
      "cell_type": "markdown",
      "source": [
        "### 25. Rear_Brakes Column"
      ],
      "metadata": {
        "id": "rLXZiWPhETHs"
      }
    },
    {
      "cell_type": "code",
      "source": [
        "print(\"Data Type : \",data['Rear_Brakes'].dtype)\n",
        "print()\n",
        "print(\"Types of breaks : \",data['Rear_Brakes'].nunique())\n",
        "print()\n",
        "print(\"NaN values : \",data['Rear_Brakes'].isna().sum())\n",
        "print()\n",
        "print(data['Rear_Brakes'].value_counts())"
      ],
      "metadata": {
        "colab": {
          "base_uri": "https://localhost:8080/"
        },
        "id": "2z5H5ayLETOK",
        "outputId": "e16ca304-46a0-4e94-e5df-b40fef091adf"
      },
      "execution_count": 71,
      "outputs": [
        {
          "output_type": "stream",
          "name": "stdout",
          "text": [
            "Data Type :  object\n",
            "\n",
            "Types of breaks :  3\n",
            "\n",
            "NaN values :  25\n",
            "\n",
            "Drum               782\n",
            "Ventilated Disc    417\n",
            "Solid Disc          43\n",
            "Name: Rear_Brakes, dtype: int64\n"
          ]
        }
      ]
    },
    {
      "cell_type": "markdown",
      "source": [
        "### 26. Front_Suspension column"
      ],
      "metadata": {
        "id": "6tP_nk1nEzIk"
      }
    },
    {
      "cell_type": "code",
      "source": [
        "print(\"Data Type : \",data['Front_Suspension'].dtype)\n",
        "print()\n",
        "print(\"Types of Front Suspension : \",data['Front_Suspension'].nunique())\n",
        "print()\n",
        "print(\"NaN values : \",data['Front_Suspension'].isna().sum())\n",
        "print()\n",
        "print(data['Front_Suspension'].unique())"
      ],
      "metadata": {
        "colab": {
          "base_uri": "https://localhost:8080/"
        },
        "id": "BhISTE8FEzSL",
        "outputId": "54c911da-8c9b-45b9-e095-492a35c81d60"
      },
      "execution_count": 72,
      "outputs": [
        {
          "output_type": "stream",
          "name": "stdout",
          "text": [
            "Data Type :  object\n",
            "\n",
            "Types of Front Suspension :  140\n",
            "\n",
            "NaN values :  59\n",
            "\n",
            "['Independent, Lower Wishbone, McPherson Strut with gas filled dampers and anti-roll bar'\n",
            " 'Double Pivot Arm'\n",
            " 'Mac Pherson strut with Lower Transverse link, coil spring'\n",
            " 'MacPherson Struts With Lower Transverse Links' 'McPherson struts'\n",
            " 'McPherson Strut' 'Gas Filled Mc Pherson Strut'\n",
            " 'MacPherson Strut with anti-roll bar' 'Macpherson strut with Coil Spring'\n",
            " nan 'Mc Pherson Strut' 'MacPherson Strut' 'Mc Pherson Struct'\n",
            " 'Independent, Lower Wishbone, Mcpherson Strut with coil spring'\n",
            " 'Independent Lower Wishbone, McPherson Strut with coil Spring'\n",
            " 'McPherson strut & coil spring' 'Mc Pherson-strut'\n",
            " 'Dual-path McPherson strut with coil spring and anti-roll bar'\n",
            " 'McPherson strut with coil spring' 'McPherson strut with stabiliser bar'\n",
            " 'MacPherson Strut with Staboilizer Bar' 'Independent McPherson'\n",
            " 'Independent McPherson strut with Coil spring & Anti-roll bar'\n",
            " 'Independent MCPherson Strut with coil springs & anti-roll bar'\n",
            " 'Independent MacPherson Dual path Strut with coil spring'\n",
            " 'Macpherson-type with wishbone link'\n",
            " 'Independent Wheels suspension with Mcpherson struts, Helical coil springs, Double acting Telescopic Dampers and Stabilizer bar'\n",
            " 'Independent Wheels suspension with Mcpherson struts, Helical springs, Double acting Telescopic Dampers with Stabilizer bar'\n",
            " 'McPherson Strut, Coil Spring' 'McPherson Strut with Coil Spring Rear'\n",
            " 'Independent Double Wish Bone - Coil Spring Suspension'\n",
            " 'Double Wishbone with Coil spring'\n",
            " 'Double Wish-bone type, Independent Front Coil Spring'\n",
            " 'Mc Pherson struts with coil spring'\n",
            " 'McPherson suspension with lower triangular links and torsion stabiliser'\n",
            " 'McPherson suspension with lower triangular links and torsion stabilizer'\n",
            " 'multi-link suspension with stabilizer bar and coil springs'\n",
            " 'McPherson strut front axle' 'Double wishbone'\n",
            " 'Mac Pherson type with coil spring, stabiliser bar and double acting shock absorber'\n",
            " 'McPherson struts with aluminum lower wishbones, steel pivot bearings, aluminum subframe, tubular ant'\n",
            " 'single joint spring-strut front axle'\n",
            " 'Independent suspension with gash shox'\n",
            " 'Independent-wheel suspension, five-link axle with front track rod, aluminum transverse link, subframe and tubular anti-roll bar'\n",
            " 'Adaptive Dynamics system'\n",
            " 'Five-link front suspension; tubular anti-roll bar'\n",
            " 'Dynamic Damper Control' 'Double wishbone suspension'\n",
            " 'S sport suspension' 'Sports suspension settings'\n",
            " 'Double Ball Joint MacPherson Strut with Stabilizer Bar'\n",
            " 'Steel Suspension' 'Independent front suspensions with coil-over springs'\n",
            " '4-link air suspension, anti-dive, automatic level control & stabilizer'\n",
            " 'Adaptive M Suspension'\n",
            " 'Independent MacPherson Strut with Coil Springs and Gas Charged Shock Absorbers'\n",
            " 'Coil spring with stabilisers' 'MacPherson strut type (Front)'\n",
            " 'Five-link front suspension, upper and lower wishbones, tubular anti-roll bar'\n",
            " 'Adaptive 2-axle air suspension' 'adaptive air suspesion'\n",
            " 'AIRMATIC suspension' 'Airmatic Air Suspension'\n",
            " 'Double wishbone coil springs with stabilizer bar' 'Rigid Axle'\n",
            " 'Five-link front axle; tubular anti-roll bar air spring suspension'\n",
            " 'Independent double-joint multilink with forged aluminum components, coil springs, linear-solenoid-actuated shock absorbers and adhesive-bonded stabilizer bar'\n",
            " 'Aluminium Double Wishbone'\n",
            " '4 Wheel Active Height Control & Adaptive Variable Suspension'\n",
            " 'AGILITY CONTROL suspension with selective damping system'\n",
            " 'adaptive air suspension' 'Air springs with continous damping control'\n",
            " 'Air Suspension with Continuous Damping Control and 4 height settings'\n",
            " 'Twin wishbones' 'Independent Double Wishbone with Air Springs'\n",
            " 'Double wishbone front axle' 'Runflat'\n",
            " 'Hydraulic Telescopic Shock Absorber'\n",
            " 'Gas Filled Mc Pherson Strut, Torsion Roll Control Devic'\n",
            " 'Independent McPherson struts with offset coil spring/twin tube gas damper units and lower L-arms with optimised bushes mounted on separate cross-member with stabiliser bar. Dual-path body mounts.'\n",
            " 'Dual Path Independent McPherson strut with Coil Springs and Antiroll Bar'\n",
            " 'Leaf spring with Double action damper'\n",
            " 'Rear Leaf spring with Double action damper'\n",
            " 'Mc Pherson Strut Type with Coil Spring' 'MacPherson Strut & Coil spring'\n",
            " 'Independent Wheel, Helical Coil Springs, Double Acting Telescopic Dampers and Stabilizer Bar'\n",
            " 'Independent with Coil Spring mounted on Struts, Gas Charged Hydraulic Telescopic Shock Absorbers & Anti Roll Bar'\n",
            " 'IFS coil spring' 'Mc Pherson Strut with coil spring'\n",
            " 'Semi-independent twist beam with twin gas and oil filled shock absorbers'\n",
            " 'Independent McPherson Strut With Coil Spring'\n",
            " 'MacPherson struts with coil spring' 'McPherson struts with coil spring'\n",
            " '2-link double-wishbone aluminum-alloy suspension with aluminum subframe'\n",
            " 'Mc Pherson Strut with stabiliser bar'\n",
            " 'Mac Pherson Strut type independent suspension with coaxial spring.'\n",
            " 'Independent Suspension with Torsion Bar And Stabilizer Bar'\n",
            " 'IFS With Torsion Bar And Stablizer Bar'\n",
            " 'Double wish-bone with torsion bar'\n",
            " 'Hydraulic Double Acting, Telescopic Shock Absorber'\n",
            " 'McPherson type with anti-roll bar'\n",
            " 'Double Wishbone type with Coil Springs' 'MacPherson Strut, Coil Spring'\n",
            " 'McPherson, Coil Spring with Torsion Bar'\n",
            " 'Independent coil spring with anti-roll bar'\n",
            " 'Double joint strut front axle' 'Dual Link Strut'\n",
            " '5 link independent steel spring'\n",
            " 'McPhersons axle with coil spring Coil springs, twin-tube gas-filled with SDD/coil springs'\n",
            " 'Independent Strut with stabiliser bar and coil spring' 'McPherson'\n",
            " '2WD Independent, Coil Spring, Anti Roll Bar 4WD Independent, Torsion bar'\n",
            " 'Air suspension'\n",
            " 'Electronic Cross Linked Air Suspension (with Variable Ride Height)'\n",
            " 'Four corner air suspension' 'Electronic air suspension'\n",
            " 'Fully independent aluminium multi-link suspension'\n",
            " 'Fully independent extra-large format double wishbone'\n",
            " '3-link with McPherson struts, Torsion bar & coil springs'\n",
            " 'Quattroporte Sport GT S is fitted with the single-setting racing-style suspension system'\n",
            " 'AMG RIDE CONTROL Suspension' 'Aluminum double-wishbone suspension'\n",
            " 'horizontal monotube damper with push-rod system'\n",
            " 'Push rod magneto-rheologic active'\n",
            " 'Mcpherson strut Type with coil spring'\n",
            " 'MacPherson struts (gas-filled shock absorbers with a stabilizer bar)'\n",
            " 'AIRMATIC' 'McPherson spring strut suspension'\n",
            " 'Front independent double wishbone design coil springs, anti-roll bar and adaptive damping'\n",
            " 'Rigid leaf spring' 'Double joint spring-strut axle'\n",
            " 'Aluminium double-joint springs strut axle with anti-roll bar'\n",
            " 'Aluminium double track control arm axle with separate lower track arm level, small steering roll radius, traverse force compensation, anti-dive'\n",
            " 'Fully independent double wishbone suspension'\n",
            " 'Sports Suspension with Adaptive Damping'\n",
            " 'Double wishbone, coil springs, single-tube gas-filled shock absorber, stabiliser bar'\n",
            " 'Double-Joint Spring Strut Front Axle' 'Mcpherson strut Type'\n",
            " 'Mc Pherson suspension with lower triangular links and torsion stabiliser'\n",
            " 'Double Wishbone with coil spring suspension'\n",
            " 'McPherson strut,coil spring']\n"
          ]
        }
      ]
    },
    {
      "cell_type": "code",
      "source": [
        "# Update 'Front_Suspension' column in 'car' DataFrame with standardized suspension types\n",
        "data.loc[data['Front_Suspension'].str.contains('MacPherson|Mac Pherson|Mc Pherson|McPherson|Macpherson|Mcpherson', na=False), 'Front_Suspension'] = 'MacPherson Suspension'\n",
        "data.loc[data['Front_Suspension'].str.contains('Double Wishbone|Double wishbone|double-wishbone|double wishbone|Double wish-bone', na=False), 'Front_Suspension'] = 'Double Wishbone Suspension'\n",
        "data.loc[data['Front_Suspension'].str.contains('link|Link', na=False), 'Front_Suspension'] = 'Multi Link Suspension'\n",
        "data.loc[data['Front_Suspension'].str.contains('Adaptive|adaptive', na=False), 'Front_Suspension'] = 'Adaptive Suspension'\n",
        "data.loc[data['Front_Suspension'].str.contains('Leaf spring|leaf spring|Leaf Spring', na=False), 'Front_Suspension'] = 'Leaf Spring Suspension'\n",
        "data.loc[data['Front_Suspension'].str.contains('Air|air|AIRMATIC', na=False), 'Front_Suspension'] = 'Air Suspension'\n",
        "data.loc[data['Front_Suspension'].str.contains('Damper|damper|damping|CONTROL', na=False), 'Front_Suspension'] = 'Damper Suspension'\n",
        "data.loc[data['Front_Suspension'].str.contains('Independent|independent', na=False), 'Front_Suspension'] = 'Independent Suspension'\n",
        "data.loc[data['Front_Suspension'].str.contains('Double joint|Double-Joint', na=False), 'Front_Suspension'] = 'Double Joint Suspension'\n",
        "data.loc[data['Front_Suspension'].str.contains('single joint ', na=False), 'Front_Suspension'] = 'Single Joint Suspension'\n",
        "data.loc[~data['Front_Suspension'].str.contains('MacPherson|Double Wishbone|Multi Link|Adaptive|Leaf Spring|Air|Damper|Independent|Double', na=False), 'Front_Suspension'] = 'Aluminium Suspension'"
      ],
      "metadata": {
        "id": "JLJo2ILiFjzE"
      },
      "execution_count": 73,
      "outputs": []
    },
    {
      "cell_type": "markdown",
      "source": [
        "* Here we again take a lool over 'Front_Suspension' Column"
      ],
      "metadata": {
        "id": "VdrnTN5CG5WJ"
      }
    },
    {
      "cell_type": "code",
      "source": [
        "print(\"Data Type : \",data['Front_Suspension'].dtype)\n",
        "print()\n",
        "print(\"Types of Front Suspension : \",data['Front_Suspension'].nunique())\n",
        "print()\n",
        "print(\"NaN values : \",data['Front_Suspension'].isna().sum())\n",
        "print()\n",
        "print(data['Front_Suspension'].unique())"
      ],
      "metadata": {
        "colab": {
          "base_uri": "https://localhost:8080/"
        },
        "id": "dxdFyPu9G1gD",
        "outputId": "d7884968-ccf9-40c9-865c-319840015a06"
      },
      "execution_count": 74,
      "outputs": [
        {
          "output_type": "stream",
          "name": "stdout",
          "text": [
            "Data Type :  object\n",
            "\n",
            "Types of Front Suspension :  12\n",
            "\n",
            "NaN values :  0\n",
            "\n",
            "['MacPherson Suspension' 'Double Pivot Arm' 'Aluminium Suspension'\n",
            " 'Independent Suspension' 'Double Wishbone Suspension'\n",
            " 'Multi Link Suspension' 'Adaptive Suspension' 'Damper Suspension'\n",
            " 'Air Suspension' 'Leaf Spring Suspension'\n",
            " 'Hydraulic Double Acting, Telescopic Shock Absorber'\n",
            " 'Double Joint Suspension']\n"
          ]
        }
      ]
    },
    {
      "cell_type": "markdown",
      "source": [
        "### 27. Rear Suspension Column."
      ],
      "metadata": {
        "id": "0Uiadyx7HCCg"
      }
    },
    {
      "cell_type": "code",
      "source": [
        "print(\"Data Type : \",data['Rear_Suspension'].dtype)\n",
        "print()\n",
        "print(\"Types of Rear Suspension : \",data['Rear_Suspension'].nunique())\n",
        "print()\n",
        "print(\"NaN values : \",data['Rear_Suspension'].isna().sum())\n",
        "print()\n",
        "print(data['Rear_Suspension'].unique())"
      ],
      "metadata": {
        "colab": {
          "base_uri": "https://localhost:8080/"
        },
        "id": "-DAic_NZHCZK",
        "outputId": "1f0b3219-a4ac-4584-e5ca-26d707aac7cf"
      },
      "execution_count": 75,
      "outputs": [
        {
          "output_type": "stream",
          "name": "stdout",
          "text": [
            "Data Type :  object\n",
            "\n",
            "Types of Rear Suspension :  173\n",
            "\n",
            "NaN values :  46\n",
            "\n",
            "['Independent, Semi Trailing arm with coil spring & gas filled shock absorbers'\n",
            " 'H-type Torsion Beam' 'Twist beam suspension with coil spring'\n",
            " '3 Link Rigid' '3-link rigid axle Suspension'\n",
            " 'Coupled Torsion Beam Axle with coil spring' nan\n",
            " 'Coupled Torsion Beam Axle'\n",
            " 'Semi-Independent; Twist beam with dual path strut'\n",
            " 'Rear Twist beam with coil spring mounted on hydraulic shock absorbers'\n",
            " 'Torsion Beam' 'Torison Beam' '5 rods system'\n",
            " 'Twist Beam with Coil spring and Shock Absorber'\n",
            " 'Semi-independent trailing arm'\n",
            " 'Semi-independent twist beam with twin gas and oil filled shock absorbers'\n",
            " 'Semi Independent, Twist Beam with coil Spring and Shock Absorber'\n",
            " 'Semi Independent Trailing Arm'\n",
            " 'H-Section torsion beam with programmed deflection-coil spring - See more at: http://mahindraverito.com/verito-specs.aspx#sthash.hu39n454.dpuf'\n",
            " 'H-Section torsion beam with programmed deflection-coil spring'\n",
            " 'Torsion beam, Helical Springs and Double acting Telescopic dampers'\n",
            " 'Torsion Beam Axle, Coil Spring' 'Torsion Beam Axle'\n",
            " 'Multi-link suspension, coil springs, twin-tube gas-filled shock absorbers, stabiliser bar'\n",
            " 'Rigid suspension with gas-sealed, twin-tube shock absorber'\n",
            " '5 Link Rear Suspension with Coil Spring'\n",
            " '5 link Suspension with coil springs' 'Multi link'\n",
            " 'Multilink, Coil Spring' 'Multi-link coil spring'\n",
            " 'multi-element axle, with one longitudinal and transverse links, with torsion stabiliser'\n",
            " 'Multi-element axle, with one longitudinal and three transverse links, with torsion stabiliser'\n",
            " 'multi-link suspension with stabilizer bar and coil springs' 'Four Link'\n",
            " '4 link rear axle' 'Four-link' 'Double wishbone'\n",
            " 'Four-link rear suspension with separate spring/shock absorber arrangement, subframe, aluminum wheel'\n",
            " 'Double wishbones, two-way adjustable VPS gas-hydraulic shock absorbers, pushrod operated'\n",
            " 'multiple control-arm rear axle' 'Torsion Beam gas shox'\n",
            " 'Independent-wheel suspension, five-link axle with rear track rod, resiliently mounted subframe and anti-roll bar'\n",
            " 'Independent Integral Link' 'Adaptive Dynamics system' 'Multi - link'\n",
            " 'Five-link front suspension; tubular anti-roll bar'\n",
            " 'Dynamic Damper Control' 'Integral link'\n",
            " 'Integral Axle with Transverse Composite Leaf Spring'\n",
            " 'S sport suspension' 'Self-levelling with pneumatic rear suspension'\n",
            " 'Integral Link Independent with Coil Springs & Stabilizer Bar'\n",
            " 'Steel Suspension' 'Independent rear suspensions with coil-over springs'\n",
            " 'Multi-link, anti-dive, anti-lift, automatic level control & stabilizer'\n",
            " 'Adaptive M Suspension'\n",
            " 'Independent MacPherson Strut with Coil Springs and Gas Charged Shock Absorbers'\n",
            " 'coil spring with stabilisers' '4-Link with Air Spring'\n",
            " 'Double wishbone type'\n",
            " 'trapezoidal-link rear suspension with resiliently mounted subframe, anti-roll bar'\n",
            " 'Adaptive 2-axle air suspension' 'adaptive air suspesion'\n",
            " 'AIRMATIC suspension' 'Airmatic Air Suspension'\n",
            " 'Double Wishbone Type With Coil Springs & Anti-Roll Bar' 'Rigid Axle'\n",
            " 'Five-link rear axle tubular anti-roll bar; air spring suspension'\n",
            " 'Double wishbone suspension'\n",
            " 'Independent double-joint multilink with forged aluminum components, coil springs, linear-solenoid-actuated shock absorbers and adhesive-bonded stabilizer bar'\n",
            " 'Aluminium multi-link with chassis subframe'\n",
            " '4 Wheel Active Height Control & Adaptive Variable Suspension'\n",
            " 'AGILITY CONTROL suspension with selective damping system'\n",
            " 'adaptive air suspension' 'Air springs with continous damping control'\n",
            " 'Multilink'\n",
            " 'Air suspension with continuous damping control and 4 height setting'\n",
            " 'rear multi link,Coil spring, anti roll bar and adaptive dampers'\n",
            " 'multi-link set-up' 'Independent Multi-Link with Air Springs'\n",
            " 'Multi-Link' 'Runflat' 'Hydraulic Telescopic Shock Absorber'\n",
            " 'Coil spring gas filled shock absorbers with three link rigid axle and isolated trailing arms'\n",
            " 'Coil Spring, Gas Filled Shock Absorbers With Three Link Rigid Axle And Isolated Trailing Arm'\n",
            " 'Torsion beam with coil spring'\n",
            " 'Semi-independent, Twist Beam with Coil Springs and Hydraulic Shock Absorbers'\n",
            " 'Semi Elliptical Leaf spring'\n",
            " 'Semi-Independent; closed profile Twist beam with Dual path Strut'\n",
            " 'Torsion Beam Coil Spring' 'Leaf spring with Double action damper'\n",
            " 'Rear Leaf spring with Double action damper'\n",
            " 'Torsion Beam, Helical Coil Springs, Double Acting Telescopic Dampers and Stabilizer Bar'\n",
            " 'Rigid leaf springs' 'Rigid leaf spring' 'Parabolic leaf springs'\n",
            " 'Ellipitical leaf springs'\n",
            " 'Trailing arm with coil springs & double acting shock absorber'\n",
            " 'Couple Torsion Beam Axle' 'Torsion Beam with Anti roll bars'\n",
            " '3-link rigid axle with coil spring' '3 link, coil spring suspension'\n",
            " 'Twin Pivot Trailing Arm with Coaxial spring Damper'\n",
            " 'Semi-Elliptical Leaf Spring with Shock Absorbers'\n",
            " 'Semi-elliptical Leaf Spring'\n",
            " 'Multi Link with Pan Hard Rod and Coil Springs, Gas Charged Hydraulic Telescopic Shock Absorbers & Anti Roll Bar'\n",
            " 'Torsion beam & coil spring' 'Rigid Axle Multi-Link' 'Twist Beam'\n",
            " 'Multi Link Coil Spring Suspension with Anti-roll Bar'\n",
            " 'Semi-elliptical leaf spring with double acting hydraulic shock absorber and stab bar'\n",
            " 'Compound link crank-axle' 'Multilink Type with Coil Spring'\n",
            " 'Multilink type with anti-roll bar'\n",
            " 'Coil Spring type 5 link rigid axle suspension' '4-Link with Coil Spring'\n",
            " 'Independent suspension with McPherson Struts'\n",
            " 'Coil Spring, Watt Linkage Type with Anti-roll Bar' 'multi-arm rear axle'\n",
            " 'Five Arm Multi Link Suspension'\n",
            " 'Trapezoidal link independent steel spring'\n",
            " 'Multi link independent suspensions with coil spring Single-tube gas-filled with SDD'\n",
            " 'Independent multi-link Suspension with stabiliser bar and coil spring'\n",
            " 'Integral Coil Spring' '5Link Suspension with coil spring'\n",
            " 'Active multi-link independent rear suspension with anti-roll bar'\n",
            " 'Air suspension'\n",
            " 'Electronic Cross Linked Air Suspension (with Variable Ride Height)'\n",
            " 'Four corner air suspension' 'Electronic air suspension'\n",
            " 'Fully independent aluminium multi-link suspension'\n",
            " 'Fully independent multi-link suspension' 'Four link with coil spring'\n",
            " '4-link aluminum-alloy suspension'\n",
            " 'Quattroporte Sport GT S is fitted with the single-setting racing-style suspension system'\n",
            " 'AMG RIDE CONTROL Suspension' 'Aluminum double-wishbone suspension'\n",
            " 'suspension with stabilizer bar'\n",
            " 'horizontal monotube damper with push-rod system'\n",
            " 'Horizontal dampers and springs' 'Multi Link rear axle'\n",
            " 'Leaf spring with Shock absorbers' 'Torsion Bar'\n",
            " 'Coupled Torsion Beam Axle (CTBA) with coil spring'\n",
            " 'Torsion beam axle with coil springs & anti-roll bar'\n",
            " 'Torsion beam with hydraulic shock absorbers'\n",
            " 'Multi-link with suspension stabiliser' 'Trailing Arm Double Wishbone'\n",
            " 'Integral Link Suspension' 'AIRMATIC'\n",
            " 'Rear multi-link, coil springs, anti-roll bar and adaptive damping'\n",
            " 'Independent, double-wishbone with coil springs, gas-pressurized shock absorbers and stabilizer bar'\n",
            " 'Three Link Rigid Axle Suspension' 'Soft Ride, Leaf Spring'\n",
            " 'Multi link with coil springs and stabilizer bar' 'MacPherson strut'\n",
            " 'Aluminium integral axle' 'Aluminium integral axle with anti-roll bar'\n",
            " 'Five-link axle in aluminium lightweight construction, double elastic bearing, air suspension with automatic self-leveling'\n",
            " 'Self-tracking trapezoidal-link suspension'\n",
            " 'Sports Suspension with Adaptive Damping'\n",
            " 'Double wishbone, Coil Spring, Gas damper, Anti roll bar'\n",
            " 'Integral rear axle and M specific set-up' 'Multi Link Setup'\n",
            " 'Torsion Beam link with coil spring'\n",
            " 'Isolated trailing link with coil spring' 'Five-link, Coil springs'\n",
            " 'Double parabolic leaf spring, Hydraulic telescopic' 'Double wishbones'\n",
            " 'Torsion Beam Axle with Stabilizer, Coil Spring'\n",
            " 'compound link crank axle' '3-link Type coil spring suspension'\n",
            " 'Torsion Beam Axle,Coil Spring'\n",
            " 'Multi-link coil springs with stabilizer bar']\n"
          ]
        }
      ]
    },
    {
      "cell_type": "code",
      "source": [
        "# Update 'Rear_Suspension' column in 'car' DataFrame with standardized suspension types\n",
        "data.loc[data['Rear_Suspension'].str.contains('multi-link|multilink', case=False, na=False), 'Rear_Suspension'] = 'Multi-link Suspension'\n",
        "data.loc[data['Rear_Suspension'].str.contains('torsion beam|torsion bar', case=False, na=False), 'Rear_Suspension'] = 'Torsion Beam Suspension'\n",
        "data.loc[data['Rear_Suspension'].str.contains('double wishbone|wishbone', case=False, na=False), 'Rear_Suspension'] = 'Double Wishbone Suspension'\n",
        "data.loc[data['Rear_Suspension'].str.contains('coil spring|coil-over|coilover', case=False, na=False), 'Rear_Suspension'] = 'Coil Spring Suspension'\n",
        "data.loc[data['Rear_Suspension'].str.contains('independent|macpherson|mcpherson', case=False, na=False), 'Rear_Suspension'] = 'Independent Suspension'\n",
        "data.loc[data['Rear_Suspension'].str.contains('leaf spring|leaf-sprung|leafsprung', case=False, na=False), 'Rear_Suspension'] = 'Leaf Spring Suspension'\n",
        "data.loc[~data['Rear_Suspension'].str.contains('Multi-link|Torsion Beam|Double Wishbone|Coil Spring|Independent|Leaf Spring', case=False, na=False), 'Rear_Suspension'] = 'Other Suspension'"
      ],
      "metadata": {
        "id": "EWuoy5bvHUAA"
      },
      "execution_count": 76,
      "outputs": []
    },
    {
      "cell_type": "markdown",
      "source": [
        "* Here we again take a lool over 'Rear_Suspension' Column."
      ],
      "metadata": {
        "id": "eGEiJZYmHhXi"
      }
    },
    {
      "cell_type": "code",
      "source": [
        "print(\"Data Type : \",data['Rear_Suspension'].dtype)\n",
        "print()\n",
        "print(\"Types of Rear Suspension : \",data['Rear_Suspension'].nunique())\n",
        "print()\n",
        "print(\"NaN values : \",data['Rear_Suspension'].isna().sum())\n",
        "print()\n",
        "print(data['Rear_Suspension'].unique())"
      ],
      "metadata": {
        "colab": {
          "base_uri": "https://localhost:8080/"
        },
        "id": "2FbZrRCqHgKz",
        "outputId": "9bd906f1-17ec-4c1d-cb83-b3b369418d39"
      },
      "execution_count": 77,
      "outputs": [
        {
          "output_type": "stream",
          "name": "stdout",
          "text": [
            "Data Type :  object\n",
            "\n",
            "Types of Rear Suspension :  7\n",
            "\n",
            "NaN values :  0\n",
            "\n",
            "['Coil Spring Suspension' 'Torsion Beam Suspension' 'Other Suspension'\n",
            " 'Independent Suspension' 'Multi-link Suspension'\n",
            " 'Double Wishbone Suspension' 'Leaf Spring Suspension']\n"
          ]
        }
      ]
    },
    {
      "cell_type": "markdown",
      "source": [
        "### 28. Front_Track Column"
      ],
      "metadata": {
        "id": "r0vAHIAoH7E7"
      }
    },
    {
      "cell_type": "code",
      "source": [
        "print(\"Data Type : \",data['Front_Track'].dtype)\n",
        "print()\n",
        "print(\"NaN values : \",data['Front_Track'].isna().sum())\n",
        "print()\n",
        "print(data['Front_Track'].unique())"
      ],
      "metadata": {
        "colab": {
          "base_uri": "https://localhost:8080/"
        },
        "id": "FaOg4i7NH6Sr",
        "outputId": "35bb6522-168f-41c6-9d7e-964660ac2efc"
      },
      "execution_count": 78,
      "outputs": [
        {
          "output_type": "stream",
          "name": "stdout",
          "text": [
            "Data Type :  object\n",
            "\n",
            "NaN values :  667\n",
            "\n",
            "['1325 mm' nan '1280 mm' '1295 mm' '1440 mm' '1420 mm' '1,476 (R13) mm'\n",
            " '1476 mm' '1463 mm' '1400 mm' '1460 mm' '1547 mm' '1305 mm' '1468 mm'\n",
            " '1479 mm' '1485 mm' '1505 mm' '1475 mm' '1490 mm' '1570 mm' '1578 mm'\n",
            " '1555 mm' '1552 mm' '1522 mm' '1549 mm' '1670 mm' '1571 mm' '1564 mm'\n",
            " '1572 mm' '1597 mm' '1605 mm' '1616 mm' '1588 mm' '1600 mm' '862 mm'\n",
            " '1579 mm' '1640 mm' '1586 mm' '1618 mm' '1611 mm' '1624 mm' '1625 mm'\n",
            " '1638 mm' '1644 mm' '1634 mm' '1630 mm' '1650 mm' '1623 mm' '1679 mm'\n",
            " '1622 mm' '1615 mm' '1686 mm' '1143 mm' '1530 mm' '1520 mm' '1450 mm'\n",
            " '1300 mm' '1471 mm' '1560 mm' '1457 mm' '1445 mm' '1540 mm' '1515 mm'\n",
            " '1985 mm' '1559 mm' '1821 mm' '1501 mm' '1619 mm' '1626 mm' '1595 mm'\n",
            " '1609 mm' '1666 mm' '1621 mm' '1668 mm' '1692.5 mm' '1692 mm' '1693 mm'\n",
            " '1690 mm' '1635 mm' '1628 mm' '1669 mm' '1674 mm' '1720 mm' '1662 mm'\n",
            " '1205 mm' '1500 mm' '1580 mm' '1553 mm' '1525 mm' '1641 mm' '1652 mm'\n",
            " '1667 mm' '1589 mm' '1672 mm' '1470 mm' '1569 mm' '1585 mm' '1655 mm'\n",
            " '1692.4 mm' '1080 mm']\n"
          ]
        }
      ]
    },
    {
      "cell_type": "markdown",
      "source": [
        "* Remove all characters expect integers.\n",
        "* Convert values to Float.\n",
        "* Change column name to Front_Track_mm.\n",
        "* Replace null values with median."
      ],
      "metadata": {
        "id": "vVn-ZDamPB9-"
      }
    },
    {
      "cell_type": "code",
      "source": [
        "# Extracting integers from string\n",
        "data['Front_Track'] = data['Front_Track'].str.replace(\" mm\", \"\").str.replace(\",\", \"\")\n",
        "data['Front_Track'] = data['Front_Track'].str.replace(r\"\\s*\\(R\\d+\\)\", \"\",regex=True).astype(float).round().astype(\"Int64\")\n",
        "# Replacing NaN values with median\n",
        "median = data['Front_Track'].median().round(1)\n",
        "data['Front_Track'] = data['Front_Track'].fillna(median)\n",
        "# changing column name to Front_Track_mm.\n",
        "data.rename(columns={\"Front_Track\":\"Front_Track_mm\"},inplace=True)"
      ],
      "metadata": {
        "id": "YfQsYHcdLAJi"
      },
      "execution_count": 79,
      "outputs": []
    },
    {
      "cell_type": "markdown",
      "source": [
        "\n",
        "\n",
        "*   Take a look after cleannig column.\n",
        "\n"
      ],
      "metadata": {
        "id": "7fLEniL-RcYs"
      }
    },
    {
      "cell_type": "code",
      "source": [
        "print(\"Data Type : \",data['Front_Track_mm'].dtype)\n",
        "print()\n",
        "print(\"NaN values : \",data['Front_Track_mm'].isna().sum())\n",
        "print()\n",
        "print(data['Front_Track_mm'].unique())"
      ],
      "metadata": {
        "colab": {
          "base_uri": "https://localhost:8080/"
        },
        "id": "HpK1HgKFNydh",
        "outputId": "aeaf1b85-16dc-45a3-e784-b877b79b01a8"
      },
      "execution_count": 80,
      "outputs": [
        {
          "output_type": "stream",
          "name": "stdout",
          "text": [
            "Data Type :  Int64\n",
            "\n",
            "NaN values :  0\n",
            "\n",
            "<IntegerArray>\n",
            "[1325, 1520, 1280, 1295, 1440, 1420, 1476, 1463, 1400, 1460, 1547, 1305, 1468,\n",
            " 1479, 1485, 1505, 1475, 1490, 1570, 1578, 1555, 1552, 1522, 1549, 1670, 1571,\n",
            " 1564, 1572, 1597, 1605, 1616, 1588, 1600,  862, 1579, 1640, 1586, 1618, 1611,\n",
            " 1624, 1625, 1638, 1644, 1634, 1630, 1650, 1623, 1679, 1622, 1615, 1686, 1143,\n",
            " 1530, 1450, 1300, 1471, 1560, 1457, 1445, 1540, 1515, 1985, 1559, 1821, 1501,\n",
            " 1619, 1626, 1595, 1609, 1666, 1621, 1668, 1692, 1693, 1690, 1635, 1628, 1669,\n",
            " 1674, 1720, 1662, 1205, 1500, 1580, 1553, 1525, 1641, 1652, 1667, 1589, 1672,\n",
            " 1470, 1569, 1585, 1655, 1080]\n",
            "Length: 96, dtype: Int64\n"
          ]
        }
      ]
    },
    {
      "cell_type": "markdown",
      "source": [
        "### 29. Rear_Track Column"
      ],
      "metadata": {
        "id": "ixdgayqIQ-Ae"
      }
    },
    {
      "cell_type": "code",
      "source": [
        "print(\"Data Type : \",data['Rear_Track'].dtype)\n",
        "print()\n",
        "print(\"NaN values : \",data['Rear_Track'].isna().sum())\n",
        "print()\n",
        "print(data['Rear_Track'].unique())"
      ],
      "metadata": {
        "colab": {
          "base_uri": "https://localhost:8080/"
        },
        "id": "aD8eV3SENykX",
        "outputId": "a86bd58f-5941-4c0a-f61e-3d14a9ac1709"
      },
      "execution_count": 81,
      "outputs": [
        {
          "output_type": "stream",
          "name": "stdout",
          "text": [
            "Data Type :  object\n",
            "\n",
            "NaN values :  676\n",
            "\n",
            "['1315 mm' nan '1290 mm' '1445 mm' '1410 mm' '1,494 (R13) mm' '1494 mm'\n",
            " '1481 mm' '1420 mm' '1470 mm' '1545 mm' '1310 mm' '1474 mm' '1493 mm'\n",
            " '1495 mm' '1503 mm' '1456 mm' '1485 mm' '1475 mm' '1568 mm' '1526 mm'\n",
            " '1549 mm' '1547 mm' '1650 mm' '1575 mm' '1565 mm' '1555 mm' '1598 mm'\n",
            " '1594 mm' '1632 mm' '1659 mm' '1081 mm' '1601 mm' '1630 mm' '1582 mm'\n",
            " '1646 mm' '1637 mm' '1649 mm' '1676 mm' '1638 mm' '1633 mm' '1590 mm'\n",
            " '1647 mm' '1635 mm' '1645 mm' '1595 mm' '1607 mm' '1605 mm' '1660 mm'\n",
            " '1668 mm' '1625 mm' '1490 mm' '1530 mm' '1520 mm' '1440 mm' '1466 mm'\n",
            " '1505 mm' '1567 mm' '1478 mm' '1500 mm' '1346 mm' '1480 mm' '1450 mm'\n",
            " '1600 mm' '1540 mm' '1535 mm' '1546 mm' '1564 mm' '1562 mm' '1529 mm'\n",
            " '1585 mm' '1577 mm' '1597 mm' '1616 mm' '1691 mm' '1629 mm' '1671 mm'\n",
            " '1686.4 mm' '1686 mm' '1683 mm' '1604 mm' '1653 mm' '1685 mm' '1664 mm'\n",
            " '1620 mm' '1700 mm' '1190 mm' '1525 mm' '1515 mm' '1550 mm' '1570 mm'\n",
            " '1552 mm' '1654 mm' '1643 mm' '1687 mm' '1603 mm' '1613 mm' '1355 mm'\n",
            " '1560 mm' '1627 mm' '1665 mm' '1651 mm' '1611 mm' '1686.6 mm' '1617 mm'\n",
            " '1465 mm']\n"
          ]
        }
      ]
    },
    {
      "cell_type": "markdown",
      "source": [
        "* Remove all characters expect integers.\n",
        "* Convert values to Float.\n",
        "* Change column name to Rear_Track_mm.\n",
        "* Replace null values with median."
      ],
      "metadata": {
        "id": "zOOQOV8nRNPv"
      }
    },
    {
      "cell_type": "code",
      "source": [
        "# Extracting integers from string\n",
        "data['Rear_Track'] = data['Rear_Track'].str.replace(\" mm\", \"\").str.replace(\",\", \"\")\n",
        "data['Rear_Track'] = data['Rear_Track'].str.replace(r\"\\s*\\(R\\d+\\)\", \"\",regex=True).astype(float).round().astype(\"Int64\")\n",
        "# Replacing NaN values with median\n",
        "median = data['Rear_Track'].median().round(1)\n",
        "data['Rear_Track'] = data['Rear_Track'].fillna(median)\n",
        "# changing column name to Front_Track_mm.\n",
        "data.rename(columns={\"Rear_Track\":\"Rear_Track_mm\"},inplace=True)"
      ],
      "metadata": {
        "id": "a6j-efC5RQDl"
      },
      "execution_count": 82,
      "outputs": []
    },
    {
      "cell_type": "markdown",
      "source": [
        "* Take a look after cleannig column.\n"
      ],
      "metadata": {
        "id": "7DXls0t_RnD5"
      }
    },
    {
      "cell_type": "code",
      "source": [
        "print(\"Data Type : \",data['Rear_Track_mm'].dtype)\n",
        "print()\n",
        "print(\"NaN values : \",data['Rear_Track_mm'].isna().sum())\n",
        "print()\n",
        "print(data['Rear_Track_mm'].sample(5))"
      ],
      "metadata": {
        "colab": {
          "base_uri": "https://localhost:8080/"
        },
        "id": "J_Bvwon_Ra3Y",
        "outputId": "7974bcb2-6a7e-435c-b8e8-5b36709f2aec"
      },
      "execution_count": 83,
      "outputs": [
        {
          "output_type": "stream",
          "name": "stdout",
          "text": [
            "Data Type :  Int64\n",
            "\n",
            "NaN values :  0\n",
            "\n",
            "636     1480\n",
            "1019    1540\n",
            "502     1525\n",
            "30      1290\n",
            "359     1290\n",
            "Name: Rear_Track_mm, dtype: Int64\n"
          ]
        }
      ]
    },
    {
      "cell_type": "markdown",
      "source": [
        "### 30. Front_Tyre_&_Rim Column."
      ],
      "metadata": {
        "id": "0XU7eSzBR32U"
      }
    },
    {
      "cell_type": "code",
      "source": [
        "print(\"Data Type : \",data['Front_Tyre_&_Rim'].dtype)\n",
        "print()\n",
        "print(\"unique values : \",data['Front_Tyre_&_Rim'].nunique())\n",
        "print()\n",
        "print(\"NaN values : \",data['Front_Tyre_&_Rim'].isna().sum())\n",
        "print()\n",
        "print(data['Front_Tyre_&_Rim'].unique())"
      ],
      "metadata": {
        "colab": {
          "base_uri": "https://localhost:8080/"
        },
        "id": "yAxW-AgvR4Fa",
        "outputId": "0f1143c1-bc97-4e13-dfa4-3824aef4f37d"
      },
      "execution_count": 84,
      "outputs": [
        {
          "output_type": "stream",
          "name": "stdout",
          "text": [
            "Data Type :  object\n",
            "\n",
            "unique values :  234\n",
            "\n",
            "NaN values :  49\n",
            "\n",
            "['135/70R12' '80/155R13' '155/80R13' '165/70 R14' '155 R13 LT' '155/65R13'\n",
            " '155/70R13' '165/70R14' nan '155/80 R13' '175/65 R14' '175 / 65 R14'\n",
            " '175/60 R15' '175/65R 15' '185/65 R14' '185/65 R15' '205/70R15' '205/70'\n",
            " '175/65R14' '185/60R15' '175/65 R15' '165/65R14' '165/80R14' '185/70R14'\n",
            " '185/65R14' '195/55R16' '175/70R14' '185/60R16' '185/65R15' '185/60 R15'\n",
            " '195 / 55 R16' '175/70 R14' '195/55 R16' '195/55R15' '175/70R15'\n",
            " '205/55 R16' '205/55R16' '175/65R15' '175/65' '225 / 60 R17'\n",
            " '265 / 60 R17' '245/70R17' '255/60 R18' '215/65R17' '235/55R18'\n",
            " '235 / 65 R18' '215/55 R17' '205/55R17' '225/45R17' '255/35R20'\n",
            " '215/65R16' '235/55R17' '235/55 R17' '235/55 R19' '235/55 R18'\n",
            " '225/50 R17 94Y' '43.66 cm/17\" Light Alloy Wheels JCW Track Spoke, Black'\n",
            " '205 / 55 R17' '205 / 55 R16' '225/55 R18' '225/60R19' '245 / 50R19'\n",
            " '235/60 R18' '245/45R18' '245/40R18' '255/50R19' '255/40 R19'\n",
            " '265 / 60 R18' '265/50 R20' '295/45R20' '255/40 R18' '245/35ZR19'\n",
            " '235/40 R18' '275/55 R19' '295 / 40 R21' '265/60R18' '235/60VR18'\n",
            " '265/35R19' '(245/50 R18' '245/45 R19' '245/40 R20' '275/50 R20'\n",
            " '255/45ZR19' '255/60 ZR18' '285/45R21' '265/60 R 18' '255/45 R19'\n",
            " '245/35ZR20' '245/45R19' '245/40 R21' '245/40R20' '285/60R18'\n",
            " '235/35 R19' '245/35R19' '285/45 ZR21' '275/40R20' '245/40ZR19'\n",
            " '255/40 ZR 20' '255 / 45 R20' '265/45R20' '255/50R21' '285/30ZR20' 'R12'\n",
            " '145/80R12' '145/80 R13' '165/80 R14' '185/80R14' '205/65 R15'\n",
            " '195 / 65 R15' '215 / 60 R16' '195 / 65 R15 Steel' '195/60 R16'\n",
            " '195/60R15' '215/75R15' '185 / 75 R 16' '215 / 75 R 15' '205/60R16'\n",
            " '215/60R16' '195/65R15' '205/50R17' '205/65 R16' '185 / 65 R15'\n",
            " '185/65 R16' '165/60/R14' '235/70R16' 'P235/70 R16' '245/70 R16'\n",
            " '245 / 70 R16' '215/70R15' '215 65 R16' '215/60 R17' 'P215/75R15'\n",
            " '245/75R16' 'P235/65R17' '235/65R17' 'P235/65 R17' 'P235/65R15'\n",
            " 'P235/60 R18' '235/70 R16' '205/65R16' '215/55R17' '265 / 60 R16'\n",
            " '195/65 R15' '215/55 R16' '215/50 R17' '115/90R17' '115/90 R17'\n",
            " '265/65R17' '265/65R18' '235 / 55 R18' '225/55R17' '225/50 R18'\n",
            " '225/40R18' '215/50R17' '235/40R18' '225/50 R17' '235 / 60 R18'\n",
            " '235/60R18' '245/45 R17' '245/35 R17' '245/50 R19' '245/75R15'\n",
            " '225 / 50 R17' '255 / 335 R19' '255/60R18' '255/55R19' '255/60R19'\n",
            " '155/85R18' '235/65R20' '275/45 R21' '255/50' '255/55 ZR 19'\n",
            " '285 / 40 ZR21' '275/35R20' '275/40 R22' '265/35ZR19' '275/35 R19'\n",
            " '255/35 R19' '245/30R20' '245/30 R20' '255/35' '255/30 ZR20' '255/50 R21'\n",
            " '145R 12 LT 6PR' '195/55 R15' '165/65 R14' '185/70 R14' '205/60/R16'\n",
            " '205/60 R16' '215/65 R16' '205/65R15' 'R16' '115/90R16' '205/55'\n",
            " '205 / 55 R18' '225/50R17' '235/45 R18' '225/60R18' '245/45R20'\n",
            " '245/40 R18' '265/45 R20' '255/50 R20' '225 / 45 R18' '255/40R18'\n",
            " '245/35 ZR 20' '255/40 R20' '255/40/20' '275/35 ZR20' '175/60R15'\n",
            " '215/60R17' '235/65 R17' '215 / 70' '235/50R18' '235/45R19'\n",
            " '235/45 R18 Tubeless Radials' '245/40' '225/60R17' '245/40R19'\n",
            " '245 / 40 R19' '255 / 35 R20' '275/35 ZR 20' '245/35 ZR20' '155/65R14'\n",
            " '145/80R13' '195 R15 LT, 8PR Radial' '235/45R18' '255/55 R20'\n",
            " '255/55 R19' '245/45RF20' '185 / 60 R15' '235/55R19' '285/40ZR 21'\n",
            " '275/45 ZR20' '275/40R19' '185/55R16']\n"
          ]
        }
      ]
    },
    {
      "cell_type": "markdown",
      "source": [
        "### 31. Rear_Tyre_&_Rim column"
      ],
      "metadata": {
        "id": "_0KABE4ZhCI-"
      }
    },
    {
      "cell_type": "code",
      "source": [
        "print(\"Data Type : \",data['Rear_Tyre_&_Rim'].dtype)\n",
        "print()\n",
        "print(\"unique values : \",data['Rear_Tyre_&_Rim'].nunique())\n",
        "print()\n",
        "print(\"NaN values : \",data['Rear_Tyre_&_Rim'].isna().sum())\n",
        "print()\n",
        "print(data['Rear_Tyre_&_Rim'].unique())"
      ],
      "metadata": {
        "colab": {
          "base_uri": "https://localhost:8080/"
        },
        "id": "W-aUaktOhKhO",
        "outputId": "4292410b-5211-40e9-d8f9-fb876deadc04"
      },
      "execution_count": 85,
      "outputs": [
        {
          "output_type": "stream",
          "name": "stdout",
          "text": [
            "Data Type :  object\n",
            "\n",
            "unique values :  241\n",
            "\n",
            "NaN values :  48\n",
            "\n",
            "['155/65R12' '80/155R13' '155/80R13' '165/70 R14' '155 R13 LT' '155/65R13'\n",
            " '155/70R13' '165/70R14' nan '155/80 R13' '175/65 R14' '175 / 65 R14'\n",
            " '175/60 R15' '175/65R 15' '185/65 R14' '185/65 R15' '205/70R15' '205/70'\n",
            " '175/65R14' '185/60R15' '175/65 R15' '165/65R14' '165/80R14' '185/70R14'\n",
            " '185/65R14' '195/55R16' '175/70R14' '185/60R16' '185/65R15' '185/60 R15'\n",
            " '195 / 55 R16' '175/70 R14' '195/55 R16' '195/55R15' '175/70R15'\n",
            " '205/55 R16' '205/55R16' '175/65R15' '175/65' '225 / 60 R17'\n",
            " '265 / 60 R17' '245/70R17' '255/60 R18' '215/65R17' '235/55R18'\n",
            " '235 / 60 R18' '215/55 R17' '205/55R17' '225/45R17' '295/30R20'\n",
            " '215/65R16' '235/55R17' '235/55 R17' '235/55 R19' '235/55 R18'\n",
            " '225/50 R17 94Y' '43.66 cm/17\" Light Alloy Wheels JCW Track Spoke, Black'\n",
            " '205 / 55 R17' '205 / 55 R16' '225/55 R18' '225/60R19' '245 / 50R19'\n",
            " '235/60 R18' '245/45R18' '245/40R18' '255/50R19' '275/40 R19'\n",
            " '265 / 60 R18' '265/50R20' '295/45R20' '255/35 R18' '265/35ZR19'\n",
            " '235/40 R18' '275/55 R19' '295 / 40 R21' '265/60R18' '235/60VR18'\n",
            " '265/35R19' '(245/50 R18' '275/35 R20' '275/50 R20' '245/45 R19'\n",
            " '285/40ZR19' '255/60 ZR18' '285/45R21' '265/60 R 18' '255/45 R19'\n",
            " '285/35ZR20' '245/40 R21' '245/40R20' '245/45R19' '285/60R18'\n",
            " '235/35 R19' '295/35R19' '315/40 ZR21' '275/40R20' '295/35 ZR 20'\n",
            " '305/30ZR20' '285 / 45 R20' '285/40 R20' '265/45R20' '285/30ZR20' 'R12'\n",
            " '145/80R12' '145/80 R13' '165/80 R14' '185/80R14' '205/65 R15'\n",
            " '195 / 65 R15' '215 / 60 R16' '195 / 65 R15 Steel' '195/60 R16'\n",
            " '195/60R15' '215/75R15' '185 / 75 R 16' '215 / 75 R 15' '205/60R16'\n",
            " '215/60R16' '195/65R15' '205/50R17' '205/65 R16' '185 / 65 R15'\n",
            " '185/65 R16' '165/60/R14' '235/70R16' 'P235/70 R16' '245/70 R16'\n",
            " '245 / 70 R16' '215/70R15' '215 65 R16' '215/60 R17' 'P215/75R15'\n",
            " '245/75R16' 'P235/65R17' '235/65R17' 'P235/65 R17' 'P235/65R15'\n",
            " 'P235/60 R18' '235/70 R16' '205/65R16' '215/55R17' '265 / 60 R16'\n",
            " '195/65 R15' '215/55 R16' '215/50 R17' '115/90R17' '115/90 R17'\n",
            " '265/65R17' '265/65R18' '235 / 55 R18' '225/55R17' '225/50 R18'\n",
            " '225/40R18' '215/50R17' '235/40R18' '225/50 R17' '235/60R18' '245/45 R17'\n",
            " '245/35 R17' '285/35 R18' '245/50 R19' '245/75R15' '255 / 45 R17'\n",
            " '255 / 335 R19' '255/60R18' '255/55R19' '255/60R19' '155/85R18'\n",
            " '235/65R20' '275/45 R21' '255/50' '275/50 ZR 19' '315 / 35 ZR21'\n",
            " '275/35R20' '275/40 R22' '285/35 R20' '295/30ZR20' '325/30 R20'\n",
            " '295/35 R19' '305/30R20' '305/35R19' '305/30 R20' '335/30' '255/35 R19'\n",
            " '355/25 ZR21' '285 / 45 R21' '145R 12 LT 6PR' '195/55 R15' '165/65 R14'\n",
            " '185/70 R14' '205/60/R16' '205/60 R16' '215/65 R16' '205/65R15' 'R16'\n",
            " '115/90R16' '205/55' '205 / 55 R18' '225/50R17' '245/35R19' '235/45 R18'\n",
            " '225/60R18' '245/45R20' '245/40 R18' '265/45 R20' '255/50 R20'\n",
            " '225 / 40 R18' '275/40R18' '305/30 ZR 21' '255/35 R20' '295/35/20'\n",
            " '295/35R20' '315/35 ZR20' '175/60R15' '215/60R17' '235/65 R17' '215 / 70'\n",
            " '235/50R18' '235/45R19' '235/45 R18 Tubeless Radials' '275/40R19'\n",
            " '245/40' '225/60R17' '255/55 R18' '255/55R18' '275/35R19' '275 / 35 R19'\n",
            " '295 / 30 R20' '285/35 ZR 20' '305/35ZR20' '155/65R14' '145/80R13'\n",
            " '195 R15 LT, 8PR Radial' '235/45R18' '255/55 R20' '255/55 R19'\n",
            " '245/45RF20' '185 / 60 R15' '235/55R19' '315/35ZR 21' '305/40 ZR 20'\n",
            " '185/55R16']\n"
          ]
        }
      ]
    },
    {
      "cell_type": "markdown",
      "source": [
        "### 32. Power_Steering column."
      ],
      "metadata": {
        "id": "LHFAasgETq21"
      }
    },
    {
      "cell_type": "code",
      "source": [
        "print(\"Data Type : \",data['Power_Steering'].dtype)\n",
        "print()\n",
        "print(\"Types of power steering : \",data['Power_Steering'].nunique())\n",
        "print()\n",
        "print(\"NaN values : \",data['Power_Steering'].isna().sum())\n",
        "print()\n",
        "print(data['Power_Steering'].value_counts())"
      ],
      "metadata": {
        "colab": {
          "base_uri": "https://localhost:8080/"
        },
        "id": "m3itz16nTrA3",
        "outputId": "fbd5c18a-4d18-4690-fd72-f4140b13767a"
      },
      "execution_count": 86,
      "outputs": [
        {
          "output_type": "stream",
          "name": "stdout",
          "text": [
            "Data Type :  object\n",
            "\n",
            "Types of power steering :  5\n",
            "\n",
            "NaN values :  57\n",
            "\n",
            "Electric Power                     916\n",
            "Electro-Hydraulic                  137\n",
            "Yes                                 85\n",
            "Hydraulic Power                     71\n",
            "Electric Power, Hydraulic Power      1\n",
            "Name: Power_Steering, dtype: int64\n"
          ]
        }
      ]
    },
    {
      "cell_type": "code",
      "source": [
        "# Replace values in the 'Power_Steering' column for better categorization\n",
        "data['Power_Steering'] = data['Power_Steering'].replace({'Electric Power, Hydraulic Power':'Electro-Hydraulic','Yes':'Undefined Powered',np.nan:'Non Powered'})\n"
      ],
      "metadata": {
        "id": "GY5H8maeUZog"
      },
      "execution_count": 87,
      "outputs": []
    },
    {
      "cell_type": "markdown",
      "source": [
        "* Overview after modification."
      ],
      "metadata": {
        "id": "4fFG91fgVBJq"
      }
    },
    {
      "cell_type": "code",
      "source": [
        "print(\"Data Type : \",data['Power_Steering'].dtype)\n",
        "print()\n",
        "print(\"Types of power steering : \",data['Power_Steering'].nunique())\n",
        "print()\n",
        "print(\"NaN values : \",data['Power_Steering'].isna().sum())\n",
        "print()\n",
        "print(data['Power_Steering'].value_counts())"
      ],
      "metadata": {
        "colab": {
          "base_uri": "https://localhost:8080/"
        },
        "id": "BgJcwj-DUwye",
        "outputId": "952a1691-fafd-4bcd-f708-6f814f5a76aa"
      },
      "execution_count": 88,
      "outputs": [
        {
          "output_type": "stream",
          "name": "stdout",
          "text": [
            "Data Type :  object\n",
            "\n",
            "Types of power steering :  5\n",
            "\n",
            "NaN values :  0\n",
            "\n",
            "Electric Power       916\n",
            "Electro-Hydraulic    138\n",
            "Undefined Powered     85\n",
            "Hydraulic Power       71\n",
            "Non Powered           57\n",
            "Name: Power_Steering, dtype: int64\n"
          ]
        }
      ]
    },
    {
      "cell_type": "markdown",
      "source": [
        "### 33. Power_Windows column"
      ],
      "metadata": {
        "id": "RwpqZE0ngot_"
      }
    },
    {
      "cell_type": "code",
      "source": [
        "print(\"Data Type : \",data['Power_Windows'].dtype)\n",
        "print()\n",
        "print(\"Types of power window : \",data['Power_Windows'].nunique())\n",
        "print()\n",
        "print(\"NaN values : \",data['Power_Windows'].isna().sum())\n",
        "print()\n",
        "print(data['Power_Windows'].value_counts())"
      ],
      "metadata": {
        "colab": {
          "base_uri": "https://localhost:8080/"
        },
        "id": "t_7MPHu7hZY1",
        "outputId": "f4146f33-f80b-4dc2-d0ab-89a8333c409c"
      },
      "execution_count": 89,
      "outputs": [
        {
          "output_type": "stream",
          "name": "stdout",
          "text": [
            "Data Type :  object\n",
            "\n",
            "Types of power window :  2\n",
            "\n",
            "NaN values :  97\n",
            "\n",
            "All Windows           1026\n",
            "Only Front Windows     144\n",
            "Name: Power_Windows, dtype: int64\n"
          ]
        }
      ]
    },
    {
      "cell_type": "markdown",
      "source": [
        "* NaN values replace with no power window"
      ],
      "metadata": {
        "id": "nmUm0W7VhsAh"
      }
    },
    {
      "cell_type": "code",
      "source": [
        "data['Power_Windows'] = data['Power_Windows'].replace(np.nan,'No-Powered window')\n",
        "data['Power_Windows'] = data['Power_Windows'].replace('Only Front Windows','Front Windows')"
      ],
      "metadata": {
        "id": "FFlj5yPlh38G"
      },
      "execution_count": 90,
      "outputs": []
    },
    {
      "cell_type": "markdown",
      "source": [
        "\n",
        "\n",
        "*   View column after replacement.\n",
        "\n"
      ],
      "metadata": {
        "id": "Z6chqm4PiONl"
      }
    },
    {
      "cell_type": "code",
      "source": [
        "print(\"Data Type : \",data['Power_Windows'].dtype)\n",
        "print()\n",
        "print(\"Types of power window : \",data['Power_Windows'].nunique())\n",
        "print()\n",
        "print(\"NaN values : \",data['Power_Windows'].isna().sum())\n",
        "print()\n",
        "print(data['Power_Windows'].value_counts())"
      ],
      "metadata": {
        "colab": {
          "base_uri": "https://localhost:8080/"
        },
        "id": "UX74tTSTiJ_V",
        "outputId": "6e04afe1-617a-4bf7-ae39-f523f878e5a4"
      },
      "execution_count": 91,
      "outputs": [
        {
          "output_type": "stream",
          "name": "stdout",
          "text": [
            "Data Type :  object\n",
            "\n",
            "Types of power window :  3\n",
            "\n",
            "NaN values :  0\n",
            "\n",
            "All Windows          1026\n",
            "Front Windows         144\n",
            "No-Powered window      97\n",
            "Name: Power_Windows, dtype: int64\n"
          ]
        }
      ]
    },
    {
      "cell_type": "markdown",
      "source": [
        "### 34. Power_Seats column"
      ],
      "metadata": {
        "id": "GFCqCCX4iXEr"
      }
    },
    {
      "cell_type": "code",
      "source": [
        "print(\"Data Type : \",data['Power_Seats'].dtype)\n",
        "print()\n",
        "print(\"Types of power seats : \",data['Power_Seats'].nunique())\n",
        "print()\n",
        "print(\"NaN values : \",data['Power_Seats'].isna().sum())\n",
        "print()\n",
        "print(data['Power_Seats'].value_counts())"
      ],
      "metadata": {
        "colab": {
          "base_uri": "https://localhost:8080/"
        },
        "id": "CElhIlM8ifgs",
        "outputId": "c4ac322f-671f-42c2-a94b-925121738c55"
      },
      "execution_count": 92,
      "outputs": [
        {
          "output_type": "stream",
          "name": "stdout",
          "text": [
            "Data Type :  object\n",
            "\n",
            "Types of power seats :  3\n",
            "\n",
            "NaN values :  885\n",
            "\n",
            "Yes                 208\n",
            "Yes, with memory    108\n",
            "Power seats          66\n",
            "Name: Power_Seats, dtype: int64\n"
          ]
        }
      ]
    },
    {
      "cell_type": "markdown",
      "source": [
        "* Replace NaN values with no powered seats."
      ],
      "metadata": {
        "id": "Q0AMRq-0lI4B"
      }
    },
    {
      "cell_type": "code",
      "source": [
        "data['Power_Seats'] = data['Power_Seats'].replace(np.nan,'No Powered seats')"
      ],
      "metadata": {
        "id": "wFBhKFT9if-z"
      },
      "execution_count": 93,
      "outputs": []
    },
    {
      "cell_type": "markdown",
      "source": [
        "* Looking values after replacement."
      ],
      "metadata": {
        "id": "4vhVUGHslOqC"
      }
    },
    {
      "cell_type": "code",
      "source": [
        "print(\"Data Type : \",data['Power_Seats'].dtype)\n",
        "print()\n",
        "print(\"Types of power seats : \",data['Power_Seats'].nunique())\n",
        "print()\n",
        "print(\"NaN values : \",data['Power_Seats'].isna().sum())\n",
        "print()\n",
        "print(data['Power_Seats'].value_counts())"
      ],
      "metadata": {
        "colab": {
          "base_uri": "https://localhost:8080/"
        },
        "id": "CzWnpDxulOGB",
        "outputId": "2b9eec2e-e8dd-49a3-cc1e-8a2a30d45d2a"
      },
      "execution_count": 94,
      "outputs": [
        {
          "output_type": "stream",
          "name": "stdout",
          "text": [
            "Data Type :  object\n",
            "\n",
            "Types of power seats :  4\n",
            "\n",
            "NaN values :  0\n",
            "\n",
            "No Powered seats    885\n",
            "Yes                 208\n",
            "Yes, with memory    108\n",
            "Power seats          66\n",
            "Name: Power_Seats, dtype: int64\n"
          ]
        }
      ]
    },
    {
      "cell_type": "markdown",
      "source": [
        "### 35. Keyless_Entry column"
      ],
      "metadata": {
        "id": "kCorvwSJlX16"
      }
    },
    {
      "cell_type": "code",
      "source": [
        "print(\"Data Type : \",data['Keyless_Entry'].dtype)\n",
        "print()\n",
        "print(\"Types of power seats : \",data['Keyless_Entry'].nunique())\n",
        "print()\n",
        "print(\"NaN values : \",data['Keyless_Entry'].isna().sum())\n",
        "print()\n",
        "print(data['Keyless_Entry'].value_counts())"
      ],
      "metadata": {
        "colab": {
          "base_uri": "https://localhost:8080/"
        },
        "id": "T6PA2QnSlYAs",
        "outputId": "5e228f32-3b45-46af-9f52-86cb18b8ede6"
      },
      "execution_count": 95,
      "outputs": [
        {
          "output_type": "stream",
          "name": "stdout",
          "text": [
            "Data Type :  object\n",
            "\n",
            "Types of power seats :  5\n",
            "\n",
            "NaN values :  274\n",
            "\n",
            "Smart Key            449\n",
            "Remote               421\n",
            "Yes                  101\n",
            "Remote, Smart Key     21\n",
            "Smart Key, Remote      1\n",
            "Name: Keyless_Entry, dtype: int64\n"
          ]
        }
      ]
    },
    {
      "cell_type": "markdown",
      "source": [
        "* Now the, values in the 'Keyless_Entry' column are modified for better categorization. The modified unique values in the 'Keyless_Entry' column are then displayed."
      ],
      "metadata": {
        "id": "iSl6NdTKoJTs"
      }
    },
    {
      "cell_type": "code",
      "source": [
        "# Modify values in the 'Keyless_Entry' column for better categorization\n",
        "data.loc[data['Keyless_Entry'].str.contains('Yes|Key|Remote', case=False, na=False), 'Keyless_Entry'] = 'Yes'\n",
        "data['Keyless_Entry'] = data['Keyless_Entry'].replace(np.nan,'No')\n",
        "\n",
        "# Display unique values in the modified 'Keyless_Entry' column of the 'car' DataFrame\n",
        "data['Keyless_Entry'].unique()"
      ],
      "metadata": {
        "colab": {
          "base_uri": "https://localhost:8080/"
        },
        "id": "wcax20znlYD6",
        "outputId": "9b1d2bff-7ab7-457d-d7a8-60b33aaacb74"
      },
      "execution_count": 96,
      "outputs": [
        {
          "output_type": "execute_result",
          "data": {
            "text/plain": [
              "array(['Yes', 'No'], dtype=object)"
            ]
          },
          "metadata": {},
          "execution_count": 96
        }
      ]
    },
    {
      "cell_type": "code",
      "source": [
        "print(\"Data Type : \",data['Keyless_Entry'].dtype)\n",
        "print()\n",
        "print(\"Types of power seats : \",data['Keyless_Entry'].nunique())\n",
        "print()\n",
        "print(\"NaN values : \",data['Keyless_Entry'].isna().sum())\n",
        "print()\n",
        "print(data['Keyless_Entry'].value_counts())"
      ],
      "metadata": {
        "colab": {
          "base_uri": "https://localhost:8080/"
        },
        "id": "awW3K7_IlYHl",
        "outputId": "594e0766-a7aa-45d2-cd81-4b03b3e66388"
      },
      "execution_count": 97,
      "outputs": [
        {
          "output_type": "stream",
          "name": "stdout",
          "text": [
            "Data Type :  object\n",
            "\n",
            "Types of power seats :  2\n",
            "\n",
            "NaN values :  0\n",
            "\n",
            "Yes    993\n",
            "No     274\n",
            "Name: Keyless_Entry, dtype: int64\n"
          ]
        }
      ]
    },
    {
      "cell_type": "markdown",
      "source": [
        "### Power column\n",
        "### 36. Power_PS & 37. Power_RPM\n"
      ],
      "metadata": {
        "id": "q9BqOEemogIQ"
      }
    },
    {
      "cell_type": "code",
      "source": [
        "print(\"Data Type : \",data['Power'].dtype)\n",
        "print()\n",
        "print(\"NaN values : \",data['Power'].isna().sum())\n",
        "print()\n",
        "print(data['Power'].head())"
      ],
      "metadata": {
        "colab": {
          "base_uri": "https://localhost:8080/"
        },
        "id": "TlpC9pFSigDM",
        "outputId": "95150e14-6440-4a26-d9b2-1216f402bc4b"
      },
      "execution_count": 98,
      "outputs": [
        {
          "output_type": "stream",
          "name": "stdout",
          "text": [
            "Data Type :  object\n",
            "\n",
            "NaN values :  0\n",
            "\n",
            "0    38PS@5500rpm\n",
            "1    38PS@5500rpm\n",
            "2    38PS@5500rpm\n",
            "3    38PS@5500rpm\n",
            "4    38PS@5500rpm\n",
            "Name: Power, dtype: object\n"
          ]
        }
      ]
    },
    {
      "cell_type": "markdown",
      "source": [
        "here, we splits power column into two column into Power_PS and Power_RPM."
      ],
      "metadata": {
        "id": "5fX1U-TRsu7E"
      }
    },
    {
      "cell_type": "code",
      "source": [
        "data[['Power_PS','Power_RPM']] = data['Power'].str.split(\"@\",n=1,expand=True)\n",
        "data[['Power_PS','Power_RPM']]"
      ],
      "metadata": {
        "colab": {
          "base_uri": "https://localhost:8080/",
          "height": 0
        },
        "id": "_YkrnxjrigQ6",
        "outputId": "c7072625-de21-4002-e6f7-8e488d26f732"
      },
      "execution_count": 99,
      "outputs": [
        {
          "output_type": "execute_result",
          "data": {
            "text/plain": [
              "     Power_PS Power_RPM\n",
              "0        38PS   5500rpm\n",
              "1        38PS   5500rpm\n",
              "2        38PS   5500rpm\n",
              "3        38PS   5500rpm\n",
              "4        38PS   5500rpm\n",
              "...       ...       ...\n",
              "1271    100PS   3600rpm\n",
              "1272    100PS   3600rpm\n",
              "1273    119PS   6600rpm\n",
              "1274    119PS   6600rpm\n",
              "1275    202ps   3800rpm\n",
              "\n",
              "[1267 rows x 2 columns]"
            ],
            "text/html": [
              "\n",
              "  <div id=\"df-eddcb3b7-cb01-466f-83af-4bfc3d42d3cd\" class=\"colab-df-container\">\n",
              "    <div>\n",
              "<style scoped>\n",
              "    .dataframe tbody tr th:only-of-type {\n",
              "        vertical-align: middle;\n",
              "    }\n",
              "\n",
              "    .dataframe tbody tr th {\n",
              "        vertical-align: top;\n",
              "    }\n",
              "\n",
              "    .dataframe thead th {\n",
              "        text-align: right;\n",
              "    }\n",
              "</style>\n",
              "<table border=\"1\" class=\"dataframe\">\n",
              "  <thead>\n",
              "    <tr style=\"text-align: right;\">\n",
              "      <th></th>\n",
              "      <th>Power_PS</th>\n",
              "      <th>Power_RPM</th>\n",
              "    </tr>\n",
              "  </thead>\n",
              "  <tbody>\n",
              "    <tr>\n",
              "      <th>0</th>\n",
              "      <td>38PS</td>\n",
              "      <td>5500rpm</td>\n",
              "    </tr>\n",
              "    <tr>\n",
              "      <th>1</th>\n",
              "      <td>38PS</td>\n",
              "      <td>5500rpm</td>\n",
              "    </tr>\n",
              "    <tr>\n",
              "      <th>2</th>\n",
              "      <td>38PS</td>\n",
              "      <td>5500rpm</td>\n",
              "    </tr>\n",
              "    <tr>\n",
              "      <th>3</th>\n",
              "      <td>38PS</td>\n",
              "      <td>5500rpm</td>\n",
              "    </tr>\n",
              "    <tr>\n",
              "      <th>4</th>\n",
              "      <td>38PS</td>\n",
              "      <td>5500rpm</td>\n",
              "    </tr>\n",
              "    <tr>\n",
              "      <th>...</th>\n",
              "      <td>...</td>\n",
              "      <td>...</td>\n",
              "    </tr>\n",
              "    <tr>\n",
              "      <th>1271</th>\n",
              "      <td>100PS</td>\n",
              "      <td>3600rpm</td>\n",
              "    </tr>\n",
              "    <tr>\n",
              "      <th>1272</th>\n",
              "      <td>100PS</td>\n",
              "      <td>3600rpm</td>\n",
              "    </tr>\n",
              "    <tr>\n",
              "      <th>1273</th>\n",
              "      <td>119PS</td>\n",
              "      <td>6600rpm</td>\n",
              "    </tr>\n",
              "    <tr>\n",
              "      <th>1274</th>\n",
              "      <td>119PS</td>\n",
              "      <td>6600rpm</td>\n",
              "    </tr>\n",
              "    <tr>\n",
              "      <th>1275</th>\n",
              "      <td>202ps</td>\n",
              "      <td>3800rpm</td>\n",
              "    </tr>\n",
              "  </tbody>\n",
              "</table>\n",
              "<p>1267 rows × 2 columns</p>\n",
              "</div>\n",
              "    <div class=\"colab-df-buttons\">\n",
              "\n",
              "  <div class=\"colab-df-container\">\n",
              "    <button class=\"colab-df-convert\" onclick=\"convertToInteractive('df-eddcb3b7-cb01-466f-83af-4bfc3d42d3cd')\"\n",
              "            title=\"Convert this dataframe to an interactive table.\"\n",
              "            style=\"display:none;\">\n",
              "\n",
              "  <svg xmlns=\"http://www.w3.org/2000/svg\" height=\"24px\" viewBox=\"0 -960 960 960\">\n",
              "    <path d=\"M120-120v-720h720v720H120Zm60-500h600v-160H180v160Zm220 220h160v-160H400v160Zm0 220h160v-160H400v160ZM180-400h160v-160H180v160Zm440 0h160v-160H620v160ZM180-180h160v-160H180v160Zm440 0h160v-160H620v160Z\"/>\n",
              "  </svg>\n",
              "    </button>\n",
              "\n",
              "  <style>\n",
              "    .colab-df-container {\n",
              "      display:flex;\n",
              "      gap: 12px;\n",
              "    }\n",
              "\n",
              "    .colab-df-convert {\n",
              "      background-color: #E8F0FE;\n",
              "      border: none;\n",
              "      border-radius: 50%;\n",
              "      cursor: pointer;\n",
              "      display: none;\n",
              "      fill: #1967D2;\n",
              "      height: 32px;\n",
              "      padding: 0 0 0 0;\n",
              "      width: 32px;\n",
              "    }\n",
              "\n",
              "    .colab-df-convert:hover {\n",
              "      background-color: #E2EBFA;\n",
              "      box-shadow: 0px 1px 2px rgba(60, 64, 67, 0.3), 0px 1px 3px 1px rgba(60, 64, 67, 0.15);\n",
              "      fill: #174EA6;\n",
              "    }\n",
              "\n",
              "    .colab-df-buttons div {\n",
              "      margin-bottom: 4px;\n",
              "    }\n",
              "\n",
              "    [theme=dark] .colab-df-convert {\n",
              "      background-color: #3B4455;\n",
              "      fill: #D2E3FC;\n",
              "    }\n",
              "\n",
              "    [theme=dark] .colab-df-convert:hover {\n",
              "      background-color: #434B5C;\n",
              "      box-shadow: 0px 1px 3px 1px rgba(0, 0, 0, 0.15);\n",
              "      filter: drop-shadow(0px 1px 2px rgba(0, 0, 0, 0.3));\n",
              "      fill: #FFFFFF;\n",
              "    }\n",
              "  </style>\n",
              "\n",
              "    <script>\n",
              "      const buttonEl =\n",
              "        document.querySelector('#df-eddcb3b7-cb01-466f-83af-4bfc3d42d3cd button.colab-df-convert');\n",
              "      buttonEl.style.display =\n",
              "        google.colab.kernel.accessAllowed ? 'block' : 'none';\n",
              "\n",
              "      async function convertToInteractive(key) {\n",
              "        const element = document.querySelector('#df-eddcb3b7-cb01-466f-83af-4bfc3d42d3cd');\n",
              "        const dataTable =\n",
              "          await google.colab.kernel.invokeFunction('convertToInteractive',\n",
              "                                                    [key], {});\n",
              "        if (!dataTable) return;\n",
              "\n",
              "        const docLinkHtml = 'Like what you see? Visit the ' +\n",
              "          '<a target=\"_blank\" href=https://colab.research.google.com/notebooks/data_table.ipynb>data table notebook</a>'\n",
              "          + ' to learn more about interactive tables.';\n",
              "        element.innerHTML = '';\n",
              "        dataTable['output_type'] = 'display_data';\n",
              "        await google.colab.output.renderOutput(dataTable, element);\n",
              "        const docLink = document.createElement('div');\n",
              "        docLink.innerHTML = docLinkHtml;\n",
              "        element.appendChild(docLink);\n",
              "      }\n",
              "    </script>\n",
              "  </div>\n",
              "\n",
              "\n",
              "<div id=\"df-e333cec7-293c-42e5-82cf-28556bf0df50\">\n",
              "  <button class=\"colab-df-quickchart\" onclick=\"quickchart('df-e333cec7-293c-42e5-82cf-28556bf0df50')\"\n",
              "            title=\"Suggest charts\"\n",
              "            style=\"display:none;\">\n",
              "\n",
              "<svg xmlns=\"http://www.w3.org/2000/svg\" height=\"24px\"viewBox=\"0 0 24 24\"\n",
              "     width=\"24px\">\n",
              "    <g>\n",
              "        <path d=\"M19 3H5c-1.1 0-2 .9-2 2v14c0 1.1.9 2 2 2h14c1.1 0 2-.9 2-2V5c0-1.1-.9-2-2-2zM9 17H7v-7h2v7zm4 0h-2V7h2v10zm4 0h-2v-4h2v4z\"/>\n",
              "    </g>\n",
              "</svg>\n",
              "  </button>\n",
              "\n",
              "<style>\n",
              "  .colab-df-quickchart {\n",
              "      --bg-color: #E8F0FE;\n",
              "      --fill-color: #1967D2;\n",
              "      --hover-bg-color: #E2EBFA;\n",
              "      --hover-fill-color: #174EA6;\n",
              "      --disabled-fill-color: #AAA;\n",
              "      --disabled-bg-color: #DDD;\n",
              "  }\n",
              "\n",
              "  [theme=dark] .colab-df-quickchart {\n",
              "      --bg-color: #3B4455;\n",
              "      --fill-color: #D2E3FC;\n",
              "      --hover-bg-color: #434B5C;\n",
              "      --hover-fill-color: #FFFFFF;\n",
              "      --disabled-bg-color: #3B4455;\n",
              "      --disabled-fill-color: #666;\n",
              "  }\n",
              "\n",
              "  .colab-df-quickchart {\n",
              "    background-color: var(--bg-color);\n",
              "    border: none;\n",
              "    border-radius: 50%;\n",
              "    cursor: pointer;\n",
              "    display: none;\n",
              "    fill: var(--fill-color);\n",
              "    height: 32px;\n",
              "    padding: 0;\n",
              "    width: 32px;\n",
              "  }\n",
              "\n",
              "  .colab-df-quickchart:hover {\n",
              "    background-color: var(--hover-bg-color);\n",
              "    box-shadow: 0 1px 2px rgba(60, 64, 67, 0.3), 0 1px 3px 1px rgba(60, 64, 67, 0.15);\n",
              "    fill: var(--button-hover-fill-color);\n",
              "  }\n",
              "\n",
              "  .colab-df-quickchart-complete:disabled,\n",
              "  .colab-df-quickchart-complete:disabled:hover {\n",
              "    background-color: var(--disabled-bg-color);\n",
              "    fill: var(--disabled-fill-color);\n",
              "    box-shadow: none;\n",
              "  }\n",
              "\n",
              "  .colab-df-spinner {\n",
              "    border: 2px solid var(--fill-color);\n",
              "    border-color: transparent;\n",
              "    border-bottom-color: var(--fill-color);\n",
              "    animation:\n",
              "      spin 1s steps(1) infinite;\n",
              "  }\n",
              "\n",
              "  @keyframes spin {\n",
              "    0% {\n",
              "      border-color: transparent;\n",
              "      border-bottom-color: var(--fill-color);\n",
              "      border-left-color: var(--fill-color);\n",
              "    }\n",
              "    20% {\n",
              "      border-color: transparent;\n",
              "      border-left-color: var(--fill-color);\n",
              "      border-top-color: var(--fill-color);\n",
              "    }\n",
              "    30% {\n",
              "      border-color: transparent;\n",
              "      border-left-color: var(--fill-color);\n",
              "      border-top-color: var(--fill-color);\n",
              "      border-right-color: var(--fill-color);\n",
              "    }\n",
              "    40% {\n",
              "      border-color: transparent;\n",
              "      border-right-color: var(--fill-color);\n",
              "      border-top-color: var(--fill-color);\n",
              "    }\n",
              "    60% {\n",
              "      border-color: transparent;\n",
              "      border-right-color: var(--fill-color);\n",
              "    }\n",
              "    80% {\n",
              "      border-color: transparent;\n",
              "      border-right-color: var(--fill-color);\n",
              "      border-bottom-color: var(--fill-color);\n",
              "    }\n",
              "    90% {\n",
              "      border-color: transparent;\n",
              "      border-bottom-color: var(--fill-color);\n",
              "    }\n",
              "  }\n",
              "</style>\n",
              "\n",
              "  <script>\n",
              "    async function quickchart(key) {\n",
              "      const quickchartButtonEl =\n",
              "        document.querySelector('#' + key + ' button');\n",
              "      quickchartButtonEl.disabled = true;  // To prevent multiple clicks.\n",
              "      quickchartButtonEl.classList.add('colab-df-spinner');\n",
              "      try {\n",
              "        const charts = await google.colab.kernel.invokeFunction(\n",
              "            'suggestCharts', [key], {});\n",
              "      } catch (error) {\n",
              "        console.error('Error during call to suggestCharts:', error);\n",
              "      }\n",
              "      quickchartButtonEl.classList.remove('colab-df-spinner');\n",
              "      quickchartButtonEl.classList.add('colab-df-quickchart-complete');\n",
              "    }\n",
              "    (() => {\n",
              "      let quickchartButtonEl =\n",
              "        document.querySelector('#df-e333cec7-293c-42e5-82cf-28556bf0df50 button');\n",
              "      quickchartButtonEl.style.display =\n",
              "        google.colab.kernel.accessAllowed ? 'block' : 'none';\n",
              "    })();\n",
              "  </script>\n",
              "</div>\n",
              "\n",
              "    </div>\n",
              "  </div>\n"
            ]
          },
          "metadata": {},
          "execution_count": 99
        }
      ]
    },
    {
      "cell_type": "markdown",
      "source": [
        "* In this code, we clean 'Power_PS' column by removing non-numeric characters and converting it to float type.\n",
        "* The unique values in the cleaned column are then displayed."
      ],
      "metadata": {
        "id": "a4t583dOWrnJ"
      }
    },
    {
      "cell_type": "code",
      "source": [
        "# Clean and convert 'Power_PS' column to float type\n",
        "data['Power_PS'] = data['Power_PS'].replace(r'[A-Za-z]', '', regex=True)\n",
        "data['Power_PS'] = data['Power_PS'].astype(float)\n",
        "\n",
        "# Display unique values in the cleaned 'Power_PS' column of the 'car' DataFrame\n",
        "data['Power_PS'].unique()"
      ],
      "metadata": {
        "colab": {
          "base_uri": "https://localhost:8080/"
        },
        "id": "woSZFuJjWq-5",
        "outputId": "d5365ea9-b3fe-4021-a456-c014991ea40c"
      },
      "execution_count": 100,
      "outputs": [
        {
          "output_type": "execute_result",
          "data": {
            "text/plain": [
              "array([  38.  ,   54.  ,   68.  ,   73.  ,   74.  ,   62.  ,   59.  ,\n",
              "         78.  ,   69.  ,   86.  ,   83.  ,   72.  ,   76.6 ,   64.  ,\n",
              "         80.  ,   75.  ,   90.  ,   81.8 ,   70.  ,   71.  ,   84.  ,\n",
              "        100.  ,   76.  ,  105.  ,  110.  ,   84.3 ,   96.  ,   65.  ,\n",
              "         93.  ,  140.  ,   89.  ,   82.  ,  173.  ,  177.  ,  178.  ,\n",
              "        141.  ,  154.  ,  120.  ,  180.  ,  143.  ,  150.  ,  122.  ,\n",
              "        136.  ,  183.  ,  148.  ,  250.  ,  116.  ,  192.  ,  190.  ,\n",
              "        231.  ,  247.  ,  245.  ,  248.  ,  179.  ,  333.  ,  265.  ,\n",
              "        340.  ,  401.  ,  240.  ,  468.  ,  286.  ,  334.  ,  410.  ,\n",
              "        300.  ,  258.  ,  557.  ,  262.  ,  450.  ,  609.  ,  275.  ,\n",
              "        350.  ,  430.  ,  585.  ,  289.  ,  460.  ,  299.  ,  630.  ,\n",
              "        453.  ,  550.  ,  261.  ,  455.  ,  610.  ,  650.  ,  590.  ,\n",
              "        560.  ,  608.  ,  605.  ,  563.  ,  570.  ,  625.  ,  512.  ,\n",
              "       1479.  , 1600.  ,   13.  ,   12.  ,   48.  ,   47.  ,   67.  ,\n",
              "         77.  ,  101.4 ,  117.  ,  118.  ,  114.  ,   63.  ,   63.9 ,\n",
              "        123.  ,  106.  ,   85.  ,  128.  ,  109.  ,  115.  ,   25.8 ,\n",
              "         41.5 ,  119.  ,  104.  ,  121.  ,  155.  ,   41.  ,  156.  ,\n",
              "        166.  ,  164.  ,  174.  ,  162.  ,  163.  ,   88.4 ,  142.76,\n",
              "        200.  ,  160.  ,  187.  ,  372.  ,  181.  ,  184.  ,  268.7 ,\n",
              "        549.  ,  233.  ,  188.  ,  268.  ,  197.  ,  249.  ,  252.  ,\n",
              "        194.  ,  225.  ,  407.  ,  320.  ,  235.  ,  567.  ,  296.  ,\n",
              "        335.  ,  518.  ,  254.  ,  274.  ,  302.  ,  558.  ,  510.  ,\n",
              "        476.  ,  639.  ,  580.  ,  571.  ,  602.  ,  631.  ,  670.  ,\n",
              "        681.  ,  700.  ,  740.  ,   34.7 ,   99.  ,  101.  ,  103.  ,\n",
              "         95.  ,  102.  ,  168.  ,  129.  ,  152.  ,  185.  ,  241.  ,\n",
              "        503.  ,   98.  ,  176.  ,  330.  ,  431.  ,  505.  ,  789.  ,\n",
              "         94.  ,  145.  ,  126.  ,  134.  ,  167.  ,  360.  ,  170.  ,\n",
              "        375.  ,  349.  ,  495.  ,  297.  ,  380.  ,  669.  ,   73.5 ,\n",
              "        394.  ,  107.  ,  507.  ,  616.  ,  202.  ])"
            ]
          },
          "metadata": {},
          "execution_count": 100
        }
      ]
    },
    {
      "cell_type": "markdown",
      "source": [
        "* Now, the 'Power_RPM' column is cleaned by removing non-numeric characters\n",
        "* Additionally, specific values are replaced, and the column is converted to float type.\n",
        "* The unique values in the cleaned 'Power_RPM' column are then displayed."
      ],
      "metadata": {
        "id": "TgCqQTk-XPnK"
      }
    },
    {
      "cell_type": "code",
      "source": [
        "# Clean and convert 'Power_RPM' column to float type\n",
        "data['Power_RPM'] = data['Power_RPM'].replace(r'[A-Za-z]', '', regex=True)\n",
        "\n",
        "# Replace specific values and convert to float type\n",
        "data.loc[data['Power_RPM'].str.contains('-4', case=False, na=False), 'Power_RPM'] = '4000'\n",
        "data.loc[data['Power_RPM'].str.contains('-6', case=False, na=False), 'Power_RPM'] = '6000'\n",
        "data.loc[data['Power_RPM'].str.contains('-7', case=False, na=False), 'Power_RPM'] = '7000'\n",
        "\n",
        "# Display unique values in the cleaned 'Power_RPM' column of the 'car' DataFrame\n",
        "data['Power_RPM'] = data['Power_RPM'].astype(float)\n",
        "data['Power_RPM'].unique()"
      ],
      "metadata": {
        "colab": {
          "base_uri": "https://localhost:8080/"
        },
        "id": "DNc_C_HBWkr6",
        "outputId": "b621e69a-9e71-4cda-b9ba-334f3746bc03"
      },
      "execution_count": 101,
      "outputs": [
        {
          "output_type": "execute_result",
          "data": {
            "text/plain": [
              "array([ 5500.,  5678.,  6000.,  6200.,  5000., 62050.,  5800.,  4000.,\n",
              "        5600.,  3800.,  4200.,  4400.,  3750.,  6500.,  3700.,  6300.,\n",
              "        3600.,   400.,    nan,  5100.,  5200.,  4250.,  6550.,  6250.,\n",
              "        6350.,  7000.,  5250.,  3400.,  5750.,  1200.,  6600.,  4800.,\n",
              "        8250.,  7500.,  9000.,  5350.,  6700.,  3200.,  6400.,  3500.,\n",
              "        4500.,   150.,  3000.,  5700.,   500.,  5300.,  8000.,  8400.,\n",
              "        3850.,  3900.,  5850.,  7300.,  6800.,  6650.,  8500.,  5400.,\n",
              "        6100.])"
            ]
          },
          "metadata": {},
          "execution_count": 101
        }
      ]
    },
    {
      "cell_type": "markdown",
      "source": [
        "This code reorders and renames columns in the 'data' DataFrame, placing 'Power_PS' and 'Power_RPM' in front for better organization. The original 'Power' column is dropped."
      ],
      "metadata": {
        "id": "tuCivjETZh_B"
      }
    },
    {
      "cell_type": "code",
      "source": [
        "# Reorder and rename columns in 'car' DataFrame for better organization\n",
        "index_of_Power_RPM = data.columns.get_loc('Power_RPM')\n",
        "index_of_Power_PS = data.columns.get_loc('Power_PS')\n",
        "index_of_Power = data.columns.get_loc('Power')\n",
        "\n",
        "# Move the columns to the desired positions\n",
        "column_to_move =data.pop('Power_PS')\n",
        "data.insert(index_of_Power, 'Power_PS', column_to_move)\n",
        "\n",
        "column_to_move = data.pop('Power_RPM')\n",
        "data.insert(index_of_Power, 'Power_RPM', column_to_move)\n",
        "\n",
        "# Drop the original 'Power' column\n",
        "data.drop(columns=['Power'], inplace=True)\n",
        "\n",
        "# Display the first five rows of 'Power_PS' and 'Power_RPM' columns in 'car' DataFrame\n",
        "data[['Power_PS', 'Power_RPM']].head()"
      ],
      "metadata": {
        "colab": {
          "base_uri": "https://localhost:8080/",
          "height": 0
        },
        "id": "9Hrzjq1EZnRQ",
        "outputId": "c1905258-dbf4-4407-f223-2bff3a1c5946"
      },
      "execution_count": 102,
      "outputs": [
        {
          "output_type": "execute_result",
          "data": {
            "text/plain": [
              "   Power_PS  Power_RPM\n",
              "0      38.0     5500.0\n",
              "1      38.0     5500.0\n",
              "2      38.0     5500.0\n",
              "3      38.0     5500.0\n",
              "4      38.0     5500.0"
            ],
            "text/html": [
              "\n",
              "  <div id=\"df-0579a21f-69ce-4924-86b1-5c4ea4e7c80f\" class=\"colab-df-container\">\n",
              "    <div>\n",
              "<style scoped>\n",
              "    .dataframe tbody tr th:only-of-type {\n",
              "        vertical-align: middle;\n",
              "    }\n",
              "\n",
              "    .dataframe tbody tr th {\n",
              "        vertical-align: top;\n",
              "    }\n",
              "\n",
              "    .dataframe thead th {\n",
              "        text-align: right;\n",
              "    }\n",
              "</style>\n",
              "<table border=\"1\" class=\"dataframe\">\n",
              "  <thead>\n",
              "    <tr style=\"text-align: right;\">\n",
              "      <th></th>\n",
              "      <th>Power_PS</th>\n",
              "      <th>Power_RPM</th>\n",
              "    </tr>\n",
              "  </thead>\n",
              "  <tbody>\n",
              "    <tr>\n",
              "      <th>0</th>\n",
              "      <td>38.0</td>\n",
              "      <td>5500.0</td>\n",
              "    </tr>\n",
              "    <tr>\n",
              "      <th>1</th>\n",
              "      <td>38.0</td>\n",
              "      <td>5500.0</td>\n",
              "    </tr>\n",
              "    <tr>\n",
              "      <th>2</th>\n",
              "      <td>38.0</td>\n",
              "      <td>5500.0</td>\n",
              "    </tr>\n",
              "    <tr>\n",
              "      <th>3</th>\n",
              "      <td>38.0</td>\n",
              "      <td>5500.0</td>\n",
              "    </tr>\n",
              "    <tr>\n",
              "      <th>4</th>\n",
              "      <td>38.0</td>\n",
              "      <td>5500.0</td>\n",
              "    </tr>\n",
              "  </tbody>\n",
              "</table>\n",
              "</div>\n",
              "    <div class=\"colab-df-buttons\">\n",
              "\n",
              "  <div class=\"colab-df-container\">\n",
              "    <button class=\"colab-df-convert\" onclick=\"convertToInteractive('df-0579a21f-69ce-4924-86b1-5c4ea4e7c80f')\"\n",
              "            title=\"Convert this dataframe to an interactive table.\"\n",
              "            style=\"display:none;\">\n",
              "\n",
              "  <svg xmlns=\"http://www.w3.org/2000/svg\" height=\"24px\" viewBox=\"0 -960 960 960\">\n",
              "    <path d=\"M120-120v-720h720v720H120Zm60-500h600v-160H180v160Zm220 220h160v-160H400v160Zm0 220h160v-160H400v160ZM180-400h160v-160H180v160Zm440 0h160v-160H620v160ZM180-180h160v-160H180v160Zm440 0h160v-160H620v160Z\"/>\n",
              "  </svg>\n",
              "    </button>\n",
              "\n",
              "  <style>\n",
              "    .colab-df-container {\n",
              "      display:flex;\n",
              "      gap: 12px;\n",
              "    }\n",
              "\n",
              "    .colab-df-convert {\n",
              "      background-color: #E8F0FE;\n",
              "      border: none;\n",
              "      border-radius: 50%;\n",
              "      cursor: pointer;\n",
              "      display: none;\n",
              "      fill: #1967D2;\n",
              "      height: 32px;\n",
              "      padding: 0 0 0 0;\n",
              "      width: 32px;\n",
              "    }\n",
              "\n",
              "    .colab-df-convert:hover {\n",
              "      background-color: #E2EBFA;\n",
              "      box-shadow: 0px 1px 2px rgba(60, 64, 67, 0.3), 0px 1px 3px 1px rgba(60, 64, 67, 0.15);\n",
              "      fill: #174EA6;\n",
              "    }\n",
              "\n",
              "    .colab-df-buttons div {\n",
              "      margin-bottom: 4px;\n",
              "    }\n",
              "\n",
              "    [theme=dark] .colab-df-convert {\n",
              "      background-color: #3B4455;\n",
              "      fill: #D2E3FC;\n",
              "    }\n",
              "\n",
              "    [theme=dark] .colab-df-convert:hover {\n",
              "      background-color: #434B5C;\n",
              "      box-shadow: 0px 1px 3px 1px rgba(0, 0, 0, 0.15);\n",
              "      filter: drop-shadow(0px 1px 2px rgba(0, 0, 0, 0.3));\n",
              "      fill: #FFFFFF;\n",
              "    }\n",
              "  </style>\n",
              "\n",
              "    <script>\n",
              "      const buttonEl =\n",
              "        document.querySelector('#df-0579a21f-69ce-4924-86b1-5c4ea4e7c80f button.colab-df-convert');\n",
              "      buttonEl.style.display =\n",
              "        google.colab.kernel.accessAllowed ? 'block' : 'none';\n",
              "\n",
              "      async function convertToInteractive(key) {\n",
              "        const element = document.querySelector('#df-0579a21f-69ce-4924-86b1-5c4ea4e7c80f');\n",
              "        const dataTable =\n",
              "          await google.colab.kernel.invokeFunction('convertToInteractive',\n",
              "                                                    [key], {});\n",
              "        if (!dataTable) return;\n",
              "\n",
              "        const docLinkHtml = 'Like what you see? Visit the ' +\n",
              "          '<a target=\"_blank\" href=https://colab.research.google.com/notebooks/data_table.ipynb>data table notebook</a>'\n",
              "          + ' to learn more about interactive tables.';\n",
              "        element.innerHTML = '';\n",
              "        dataTable['output_type'] = 'display_data';\n",
              "        await google.colab.output.renderOutput(dataTable, element);\n",
              "        const docLink = document.createElement('div');\n",
              "        docLink.innerHTML = docLinkHtml;\n",
              "        element.appendChild(docLink);\n",
              "      }\n",
              "    </script>\n",
              "  </div>\n",
              "\n",
              "\n",
              "<div id=\"df-aeec0c1c-6d01-4f69-9890-cbeeec39a146\">\n",
              "  <button class=\"colab-df-quickchart\" onclick=\"quickchart('df-aeec0c1c-6d01-4f69-9890-cbeeec39a146')\"\n",
              "            title=\"Suggest charts\"\n",
              "            style=\"display:none;\">\n",
              "\n",
              "<svg xmlns=\"http://www.w3.org/2000/svg\" height=\"24px\"viewBox=\"0 0 24 24\"\n",
              "     width=\"24px\">\n",
              "    <g>\n",
              "        <path d=\"M19 3H5c-1.1 0-2 .9-2 2v14c0 1.1.9 2 2 2h14c1.1 0 2-.9 2-2V5c0-1.1-.9-2-2-2zM9 17H7v-7h2v7zm4 0h-2V7h2v10zm4 0h-2v-4h2v4z\"/>\n",
              "    </g>\n",
              "</svg>\n",
              "  </button>\n",
              "\n",
              "<style>\n",
              "  .colab-df-quickchart {\n",
              "      --bg-color: #E8F0FE;\n",
              "      --fill-color: #1967D2;\n",
              "      --hover-bg-color: #E2EBFA;\n",
              "      --hover-fill-color: #174EA6;\n",
              "      --disabled-fill-color: #AAA;\n",
              "      --disabled-bg-color: #DDD;\n",
              "  }\n",
              "\n",
              "  [theme=dark] .colab-df-quickchart {\n",
              "      --bg-color: #3B4455;\n",
              "      --fill-color: #D2E3FC;\n",
              "      --hover-bg-color: #434B5C;\n",
              "      --hover-fill-color: #FFFFFF;\n",
              "      --disabled-bg-color: #3B4455;\n",
              "      --disabled-fill-color: #666;\n",
              "  }\n",
              "\n",
              "  .colab-df-quickchart {\n",
              "    background-color: var(--bg-color);\n",
              "    border: none;\n",
              "    border-radius: 50%;\n",
              "    cursor: pointer;\n",
              "    display: none;\n",
              "    fill: var(--fill-color);\n",
              "    height: 32px;\n",
              "    padding: 0;\n",
              "    width: 32px;\n",
              "  }\n",
              "\n",
              "  .colab-df-quickchart:hover {\n",
              "    background-color: var(--hover-bg-color);\n",
              "    box-shadow: 0 1px 2px rgba(60, 64, 67, 0.3), 0 1px 3px 1px rgba(60, 64, 67, 0.15);\n",
              "    fill: var(--button-hover-fill-color);\n",
              "  }\n",
              "\n",
              "  .colab-df-quickchart-complete:disabled,\n",
              "  .colab-df-quickchart-complete:disabled:hover {\n",
              "    background-color: var(--disabled-bg-color);\n",
              "    fill: var(--disabled-fill-color);\n",
              "    box-shadow: none;\n",
              "  }\n",
              "\n",
              "  .colab-df-spinner {\n",
              "    border: 2px solid var(--fill-color);\n",
              "    border-color: transparent;\n",
              "    border-bottom-color: var(--fill-color);\n",
              "    animation:\n",
              "      spin 1s steps(1) infinite;\n",
              "  }\n",
              "\n",
              "  @keyframes spin {\n",
              "    0% {\n",
              "      border-color: transparent;\n",
              "      border-bottom-color: var(--fill-color);\n",
              "      border-left-color: var(--fill-color);\n",
              "    }\n",
              "    20% {\n",
              "      border-color: transparent;\n",
              "      border-left-color: var(--fill-color);\n",
              "      border-top-color: var(--fill-color);\n",
              "    }\n",
              "    30% {\n",
              "      border-color: transparent;\n",
              "      border-left-color: var(--fill-color);\n",
              "      border-top-color: var(--fill-color);\n",
              "      border-right-color: var(--fill-color);\n",
              "    }\n",
              "    40% {\n",
              "      border-color: transparent;\n",
              "      border-right-color: var(--fill-color);\n",
              "      border-top-color: var(--fill-color);\n",
              "    }\n",
              "    60% {\n",
              "      border-color: transparent;\n",
              "      border-right-color: var(--fill-color);\n",
              "    }\n",
              "    80% {\n",
              "      border-color: transparent;\n",
              "      border-right-color: var(--fill-color);\n",
              "      border-bottom-color: var(--fill-color);\n",
              "    }\n",
              "    90% {\n",
              "      border-color: transparent;\n",
              "      border-bottom-color: var(--fill-color);\n",
              "    }\n",
              "  }\n",
              "</style>\n",
              "\n",
              "  <script>\n",
              "    async function quickchart(key) {\n",
              "      const quickchartButtonEl =\n",
              "        document.querySelector('#' + key + ' button');\n",
              "      quickchartButtonEl.disabled = true;  // To prevent multiple clicks.\n",
              "      quickchartButtonEl.classList.add('colab-df-spinner');\n",
              "      try {\n",
              "        const charts = await google.colab.kernel.invokeFunction(\n",
              "            'suggestCharts', [key], {});\n",
              "      } catch (error) {\n",
              "        console.error('Error during call to suggestCharts:', error);\n",
              "      }\n",
              "      quickchartButtonEl.classList.remove('colab-df-spinner');\n",
              "      quickchartButtonEl.classList.add('colab-df-quickchart-complete');\n",
              "    }\n",
              "    (() => {\n",
              "      let quickchartButtonEl =\n",
              "        document.querySelector('#df-aeec0c1c-6d01-4f69-9890-cbeeec39a146 button');\n",
              "      quickchartButtonEl.style.display =\n",
              "        google.colab.kernel.accessAllowed ? 'block' : 'none';\n",
              "    })();\n",
              "  </script>\n",
              "</div>\n",
              "\n",
              "    </div>\n",
              "  </div>\n"
            ]
          },
          "metadata": {},
          "execution_count": 102
        }
      ]
    },
    {
      "cell_type": "markdown",
      "source": [
        "### Torque Column :\n",
        "### 38. Torque_Nm & 39. Torque_RPM"
      ],
      "metadata": {
        "id": "uM9XHSZ4Z060"
      }
    },
    {
      "cell_type": "code",
      "source": [
        "print(\"Data Type : \",data['Torque'].dtype)\n",
        "print()\n",
        "print(\"NaN values : \",data['Torque'].isna().sum())\n",
        "print()\n",
        "print(data['Torque'].head())"
      ],
      "metadata": {
        "colab": {
          "base_uri": "https://localhost:8080/"
        },
        "id": "GExXhszpaPzt",
        "outputId": "1d6fd10b-f3ee-4777-b8ea-1177d11f888d"
      },
      "execution_count": 103,
      "outputs": [
        {
          "output_type": "stream",
          "name": "stdout",
          "text": [
            "Data Type :  object\n",
            "\n",
            "NaN values :  2\n",
            "\n",
            "0    51Nm@4000rpm\n",
            "1    51Nm@4000rpm\n",
            "2    51Nm@4000rpm\n",
            "3    51Nm@4000rpm\n",
            "4    51Nm@4000rpm\n",
            "Name: Torque, dtype: object\n"
          ]
        }
      ]
    },
    {
      "cell_type": "markdown",
      "source": [
        "This code splits and extracts information from the 'Torque' column into 'Torque_Nm' (torque in Nm) and 'Torque_RPM' (torque at RPM) columns, displaying the first five rows for reference."
      ],
      "metadata": {
        "id": "fC5GQksuaaeD"
      }
    },
    {
      "cell_type": "code",
      "source": [
        "# Split and extract information from 'Torque' column into 'Torque_Nm' and 'Torque_RPM' columns\n",
        "data[['Torque_Nm', 'Torque_RPM']] =data['Torque'].str.split('@', n=1, expand=True)\n",
        "data[['Torque_Nm', 'Torque_RPM']].head()"
      ],
      "metadata": {
        "colab": {
          "base_uri": "https://localhost:8080/",
          "height": 0
        },
        "id": "-3qt2DlNaP8k",
        "outputId": "fa432043-7619-4843-9e3e-358d0b14e556"
      },
      "execution_count": 104,
      "outputs": [
        {
          "output_type": "execute_result",
          "data": {
            "text/plain": [
              "  Torque_Nm Torque_RPM\n",
              "0      51Nm    4000rpm\n",
              "1      51Nm    4000rpm\n",
              "2      51Nm    4000rpm\n",
              "3      51Nm    4000rpm\n",
              "4      51Nm    4000rpm"
            ],
            "text/html": [
              "\n",
              "  <div id=\"df-f8256074-b0f0-45e0-80e3-17287208b361\" class=\"colab-df-container\">\n",
              "    <div>\n",
              "<style scoped>\n",
              "    .dataframe tbody tr th:only-of-type {\n",
              "        vertical-align: middle;\n",
              "    }\n",
              "\n",
              "    .dataframe tbody tr th {\n",
              "        vertical-align: top;\n",
              "    }\n",
              "\n",
              "    .dataframe thead th {\n",
              "        text-align: right;\n",
              "    }\n",
              "</style>\n",
              "<table border=\"1\" class=\"dataframe\">\n",
              "  <thead>\n",
              "    <tr style=\"text-align: right;\">\n",
              "      <th></th>\n",
              "      <th>Torque_Nm</th>\n",
              "      <th>Torque_RPM</th>\n",
              "    </tr>\n",
              "  </thead>\n",
              "  <tbody>\n",
              "    <tr>\n",
              "      <th>0</th>\n",
              "      <td>51Nm</td>\n",
              "      <td>4000rpm</td>\n",
              "    </tr>\n",
              "    <tr>\n",
              "      <th>1</th>\n",
              "      <td>51Nm</td>\n",
              "      <td>4000rpm</td>\n",
              "    </tr>\n",
              "    <tr>\n",
              "      <th>2</th>\n",
              "      <td>51Nm</td>\n",
              "      <td>4000rpm</td>\n",
              "    </tr>\n",
              "    <tr>\n",
              "      <th>3</th>\n",
              "      <td>51Nm</td>\n",
              "      <td>4000rpm</td>\n",
              "    </tr>\n",
              "    <tr>\n",
              "      <th>4</th>\n",
              "      <td>51Nm</td>\n",
              "      <td>4000rpm</td>\n",
              "    </tr>\n",
              "  </tbody>\n",
              "</table>\n",
              "</div>\n",
              "    <div class=\"colab-df-buttons\">\n",
              "\n",
              "  <div class=\"colab-df-container\">\n",
              "    <button class=\"colab-df-convert\" onclick=\"convertToInteractive('df-f8256074-b0f0-45e0-80e3-17287208b361')\"\n",
              "            title=\"Convert this dataframe to an interactive table.\"\n",
              "            style=\"display:none;\">\n",
              "\n",
              "  <svg xmlns=\"http://www.w3.org/2000/svg\" height=\"24px\" viewBox=\"0 -960 960 960\">\n",
              "    <path d=\"M120-120v-720h720v720H120Zm60-500h600v-160H180v160Zm220 220h160v-160H400v160Zm0 220h160v-160H400v160ZM180-400h160v-160H180v160Zm440 0h160v-160H620v160ZM180-180h160v-160H180v160Zm440 0h160v-160H620v160Z\"/>\n",
              "  </svg>\n",
              "    </button>\n",
              "\n",
              "  <style>\n",
              "    .colab-df-container {\n",
              "      display:flex;\n",
              "      gap: 12px;\n",
              "    }\n",
              "\n",
              "    .colab-df-convert {\n",
              "      background-color: #E8F0FE;\n",
              "      border: none;\n",
              "      border-radius: 50%;\n",
              "      cursor: pointer;\n",
              "      display: none;\n",
              "      fill: #1967D2;\n",
              "      height: 32px;\n",
              "      padding: 0 0 0 0;\n",
              "      width: 32px;\n",
              "    }\n",
              "\n",
              "    .colab-df-convert:hover {\n",
              "      background-color: #E2EBFA;\n",
              "      box-shadow: 0px 1px 2px rgba(60, 64, 67, 0.3), 0px 1px 3px 1px rgba(60, 64, 67, 0.15);\n",
              "      fill: #174EA6;\n",
              "    }\n",
              "\n",
              "    .colab-df-buttons div {\n",
              "      margin-bottom: 4px;\n",
              "    }\n",
              "\n",
              "    [theme=dark] .colab-df-convert {\n",
              "      background-color: #3B4455;\n",
              "      fill: #D2E3FC;\n",
              "    }\n",
              "\n",
              "    [theme=dark] .colab-df-convert:hover {\n",
              "      background-color: #434B5C;\n",
              "      box-shadow: 0px 1px 3px 1px rgba(0, 0, 0, 0.15);\n",
              "      filter: drop-shadow(0px 1px 2px rgba(0, 0, 0, 0.3));\n",
              "      fill: #FFFFFF;\n",
              "    }\n",
              "  </style>\n",
              "\n",
              "    <script>\n",
              "      const buttonEl =\n",
              "        document.querySelector('#df-f8256074-b0f0-45e0-80e3-17287208b361 button.colab-df-convert');\n",
              "      buttonEl.style.display =\n",
              "        google.colab.kernel.accessAllowed ? 'block' : 'none';\n",
              "\n",
              "      async function convertToInteractive(key) {\n",
              "        const element = document.querySelector('#df-f8256074-b0f0-45e0-80e3-17287208b361');\n",
              "        const dataTable =\n",
              "          await google.colab.kernel.invokeFunction('convertToInteractive',\n",
              "                                                    [key], {});\n",
              "        if (!dataTable) return;\n",
              "\n",
              "        const docLinkHtml = 'Like what you see? Visit the ' +\n",
              "          '<a target=\"_blank\" href=https://colab.research.google.com/notebooks/data_table.ipynb>data table notebook</a>'\n",
              "          + ' to learn more about interactive tables.';\n",
              "        element.innerHTML = '';\n",
              "        dataTable['output_type'] = 'display_data';\n",
              "        await google.colab.output.renderOutput(dataTable, element);\n",
              "        const docLink = document.createElement('div');\n",
              "        docLink.innerHTML = docLinkHtml;\n",
              "        element.appendChild(docLink);\n",
              "      }\n",
              "    </script>\n",
              "  </div>\n",
              "\n",
              "\n",
              "<div id=\"df-c0c8a1aa-b277-4b70-b6ba-2400ebec9a5f\">\n",
              "  <button class=\"colab-df-quickchart\" onclick=\"quickchart('df-c0c8a1aa-b277-4b70-b6ba-2400ebec9a5f')\"\n",
              "            title=\"Suggest charts\"\n",
              "            style=\"display:none;\">\n",
              "\n",
              "<svg xmlns=\"http://www.w3.org/2000/svg\" height=\"24px\"viewBox=\"0 0 24 24\"\n",
              "     width=\"24px\">\n",
              "    <g>\n",
              "        <path d=\"M19 3H5c-1.1 0-2 .9-2 2v14c0 1.1.9 2 2 2h14c1.1 0 2-.9 2-2V5c0-1.1-.9-2-2-2zM9 17H7v-7h2v7zm4 0h-2V7h2v10zm4 0h-2v-4h2v4z\"/>\n",
              "    </g>\n",
              "</svg>\n",
              "  </button>\n",
              "\n",
              "<style>\n",
              "  .colab-df-quickchart {\n",
              "      --bg-color: #E8F0FE;\n",
              "      --fill-color: #1967D2;\n",
              "      --hover-bg-color: #E2EBFA;\n",
              "      --hover-fill-color: #174EA6;\n",
              "      --disabled-fill-color: #AAA;\n",
              "      --disabled-bg-color: #DDD;\n",
              "  }\n",
              "\n",
              "  [theme=dark] .colab-df-quickchart {\n",
              "      --bg-color: #3B4455;\n",
              "      --fill-color: #D2E3FC;\n",
              "      --hover-bg-color: #434B5C;\n",
              "      --hover-fill-color: #FFFFFF;\n",
              "      --disabled-bg-color: #3B4455;\n",
              "      --disabled-fill-color: #666;\n",
              "  }\n",
              "\n",
              "  .colab-df-quickchart {\n",
              "    background-color: var(--bg-color);\n",
              "    border: none;\n",
              "    border-radius: 50%;\n",
              "    cursor: pointer;\n",
              "    display: none;\n",
              "    fill: var(--fill-color);\n",
              "    height: 32px;\n",
              "    padding: 0;\n",
              "    width: 32px;\n",
              "  }\n",
              "\n",
              "  .colab-df-quickchart:hover {\n",
              "    background-color: var(--hover-bg-color);\n",
              "    box-shadow: 0 1px 2px rgba(60, 64, 67, 0.3), 0 1px 3px 1px rgba(60, 64, 67, 0.15);\n",
              "    fill: var(--button-hover-fill-color);\n",
              "  }\n",
              "\n",
              "  .colab-df-quickchart-complete:disabled,\n",
              "  .colab-df-quickchart-complete:disabled:hover {\n",
              "    background-color: var(--disabled-bg-color);\n",
              "    fill: var(--disabled-fill-color);\n",
              "    box-shadow: none;\n",
              "  }\n",
              "\n",
              "  .colab-df-spinner {\n",
              "    border: 2px solid var(--fill-color);\n",
              "    border-color: transparent;\n",
              "    border-bottom-color: var(--fill-color);\n",
              "    animation:\n",
              "      spin 1s steps(1) infinite;\n",
              "  }\n",
              "\n",
              "  @keyframes spin {\n",
              "    0% {\n",
              "      border-color: transparent;\n",
              "      border-bottom-color: var(--fill-color);\n",
              "      border-left-color: var(--fill-color);\n",
              "    }\n",
              "    20% {\n",
              "      border-color: transparent;\n",
              "      border-left-color: var(--fill-color);\n",
              "      border-top-color: var(--fill-color);\n",
              "    }\n",
              "    30% {\n",
              "      border-color: transparent;\n",
              "      border-left-color: var(--fill-color);\n",
              "      border-top-color: var(--fill-color);\n",
              "      border-right-color: var(--fill-color);\n",
              "    }\n",
              "    40% {\n",
              "      border-color: transparent;\n",
              "      border-right-color: var(--fill-color);\n",
              "      border-top-color: var(--fill-color);\n",
              "    }\n",
              "    60% {\n",
              "      border-color: transparent;\n",
              "      border-right-color: var(--fill-color);\n",
              "    }\n",
              "    80% {\n",
              "      border-color: transparent;\n",
              "      border-right-color: var(--fill-color);\n",
              "      border-bottom-color: var(--fill-color);\n",
              "    }\n",
              "    90% {\n",
              "      border-color: transparent;\n",
              "      border-bottom-color: var(--fill-color);\n",
              "    }\n",
              "  }\n",
              "</style>\n",
              "\n",
              "  <script>\n",
              "    async function quickchart(key) {\n",
              "      const quickchartButtonEl =\n",
              "        document.querySelector('#' + key + ' button');\n",
              "      quickchartButtonEl.disabled = true;  // To prevent multiple clicks.\n",
              "      quickchartButtonEl.classList.add('colab-df-spinner');\n",
              "      try {\n",
              "        const charts = await google.colab.kernel.invokeFunction(\n",
              "            'suggestCharts', [key], {});\n",
              "      } catch (error) {\n",
              "        console.error('Error during call to suggestCharts:', error);\n",
              "      }\n",
              "      quickchartButtonEl.classList.remove('colab-df-spinner');\n",
              "      quickchartButtonEl.classList.add('colab-df-quickchart-complete');\n",
              "    }\n",
              "    (() => {\n",
              "      let quickchartButtonEl =\n",
              "        document.querySelector('#df-c0c8a1aa-b277-4b70-b6ba-2400ebec9a5f button');\n",
              "      quickchartButtonEl.style.display =\n",
              "        google.colab.kernel.accessAllowed ? 'block' : 'none';\n",
              "    })();\n",
              "  </script>\n",
              "</div>\n",
              "\n",
              "    </div>\n",
              "  </div>\n"
            ]
          },
          "metadata": {},
          "execution_count": 104
        }
      ]
    },
    {
      "cell_type": "markdown",
      "source": [
        "In this code, the 'Torque_Nm' column is cleaned by removing non-numeric characters and then converted to float type. The unique values in the cleaned 'Torque_Nm' column are displayed."
      ],
      "metadata": {
        "id": "njvS1SCCamG6"
      }
    },
    {
      "cell_type": "code",
      "source": [
        "# Clean and convert 'Torque_Nm' column to float type\n",
        "data['Torque_Nm'] = data['Torque_Nm'].replace(r'[A-Za-z]', '', regex=True)\n",
        "data['Torque_Nm'] = data['Torque_Nm'].astype(float)\n",
        "\n",
        "# Display unique values in the cleaned 'Torque_Nm' column of the 'car' DataFrame\n",
        "data['Torque_Nm'].unique()"
      ],
      "metadata": {
        "colab": {
          "base_uri": "https://localhost:8080/"
        },
        "id": "AGv-irgkaP_k",
        "outputId": "50f97ad6-e017-45bd-ca7c-d6cbf1e6ae7a"
      },
      "execution_count": 105,
      "outputs": [
        {
          "output_type": "execute_result",
          "data": {
            "text/plain": [
              "array([  51.  ,   72.  ,   91.  ,  101.  ,   85.  ,   90.  ,   78.  ,\n",
              "        104.  ,   99.04,   10.1 ,    8.3 ,  114.  ,  113.  ,   96.  ,\n",
              "        103.9 ,  152.  ,  183.  ,  170.  ,  190.  ,  140.  ,  115.  ,\n",
              "        220.  ,   95.  ,  172.  ,  230.  ,  175.  ,  250.  ,  215.  ,\n",
              "        120.  ,  132.  ,  160.  ,  209.  ,  210.  ,  110.  ,  200.  ,\n",
              "        350.  ,  380.  ,  420.  ,  340.  ,  189.  ,  300.  ,  320.  ,\n",
              "        270.  ,  280.  ,  400.  ,  365.  ,  430.  ,  370.  ,  500.  ,\n",
              "        620.  ,  450.  ,  515.  ,  570.  ,  624.  ,  347.  ,  480.  ,\n",
              "        550.  ,  619.  ,  760.  ,  410.  ,  335.  ,  600.  ,  850.  ,\n",
              "        900.  ,  580.  ,  520.  , 1000.  ,  700.  ,  770.  ,  650.  ,\n",
              "        560.  ,  720.  ,  755.  ,  540.  ,  780.  ,  800.  , 1020.  ,\n",
              "       1600.  , 1479.  ,   18.9 ,   16.1 ,   69.  ,   16.3 ,  240.  ,\n",
              "        103.  ,  112.7 , 1712.  ,   22.4 ,  260.  ,  207.  ,  195.  ,\n",
              "           nan,  150.  ,  205.  ,  142.  ,  245.  ,  151.  ,  155.  ,\n",
              "        133.  ,  153.  ,   70.  ,  105.  ,  145.  ,  247.  ,  321.  ,\n",
              "        138.  ,  330.  ,  360.  ,  343.  ,  173.  ,  174.  ,  353.  ,\n",
              "        440.  ,  470.  ,  385.  ,  640.  ,  625.  ,  740.  ,  689.  ,\n",
              "        510.  ,  630.  ,  697.  ,  690.  ,   59.  ,  197.  ,  134.  ,\n",
              "        130.  ,  180.  ,  225.  ,  218.  ,  144.  ,  242.  ,  248.  ,\n",
              "        196.  ,  192.  ,  221.  ,  369.  ,  530.  ,  637.  ,  685.  ,\n",
              "        718.  ,  212.  ,  222.  ,  475.  ,  680.  ,  750.  ,  546.  ,\n",
              "       1130.  ,  395.  ,  660.  ,  441.  ])"
            ]
          },
          "metadata": {},
          "execution_count": 105
        }
      ]
    },
    {
      "cell_type": "markdown",
      "source": [
        "This code snippet cleans the 'Torque_RPM' column by removing non-numeric characters, replaces specific values, and converts the column to float type. The unique values in the cleaned 'Torque_RPM' column are then displayed."
      ],
      "metadata": {
        "id": "3KXjOH0paxlp"
      }
    },
    {
      "cell_type": "code",
      "source": [
        "# Clean and convert 'Torque_RPM' column to float type\n",
        "data['Torque_RPM'] = data['Torque_RPM'].replace(r'[A-Za-z]', '', regex=True)\n",
        "\n",
        "# Redatace specific values and convert to float type\n",
        "data.loc[data['Torque_RPM'].str.contains('-1', case=False, na=False), 'Torque_RPM'] = '1000'\n",
        "data.loc[data['Torque_RPM'].str.contains('-2', case=False, na=False), 'Torque_RPM'] = '2000'\n",
        "data.loc[data['Torque_RPM'].str.contains('-3|- 3', case=False, na=False), 'Torque_RPM'] = '3000'\n",
        "data.loc[data['Torque_RPM'].str.contains('-4|- 4', case=False, na=False), 'Torque_RPM'] = '4000'\n",
        "data.loc[data['Torque_RPM'].str.contains('-5|- 5', case=False, na=False), 'Torque_RPM'] = '5000'\n",
        "data.loc[data['Torque_RPM'].str.contains('-6', case=False, na=False), 'Torque_RPM'] = '6000'\n",
        "\n",
        "data['Torque_RPM'] = data['Torque_RPM'].astype(float)\n",
        "\n",
        "# Display unique values in the cleaned 'Torque_RPM' column of the 'car' DataFrame\n",
        "data['Torque_RPM'].unique()"
      ],
      "metadata": {
        "colab": {
          "base_uri": "https://localhost:8080/"
        },
        "id": "-ZRaoH4NaQDD",
        "outputId": "966a2df1-78b3-421c-eaee-b6cd47961803"
      },
      "execution_count": 106,
      "outputs": [
        {
          "output_type": "execute_result",
          "data": {
            "text/plain": [
              "array([4000., 4386., 4250., 3000., 3500., 4500., 3300., 4200., 2500.,\n",
              "       2250., 2000., 3100., 6000., 1500., 4400., 4800., 1750., 4300.,\n",
              "       5000.,   nan, 1250., 1450., 4100., 5250., 4600., 1370., 4750.,\n",
              "       5100., 6500., 1800., 1350., 1700., 1600., 6700., 2200., 4850.,\n",
              "       1900., 3800., 1000., 1550., 2400., 1740., 5300., 5500., 5506.,\n",
              "       3750., 3600., 3200., 7000., 1360.])"
            ]
          },
          "metadata": {},
          "execution_count": 106
        }
      ]
    },
    {
      "cell_type": "markdown",
      "source": [
        "This code reorders and renames columns in the 'data' DataFrame, placing 'Torque_Nm' and 'Torque_RPM' in front for better organization. The original 'Torque' column is dropped."
      ],
      "metadata": {
        "id": "4aQa604GbG-n"
      }
    },
    {
      "cell_type": "code",
      "source": [
        "# Reorder and rename columns in 'car' DataFrame for better organization\n",
        "index_of_Torque_RPM = data.columns.get_loc('Torque_RPM')\n",
        "index_of_Torque_Nm = data.columns.get_loc('Torque_Nm')\n",
        "index_of_Torque = data.columns.get_loc('Torque')\n",
        "\n",
        "# Move the columns to the desired positions\n",
        "column_to_move = data.pop('Torque_Nm')\n",
        "data.insert(index_of_Torque, 'Torque_Nm', column_to_move)\n",
        "\n",
        "column_to_move = data.pop('Torque_RPM')\n",
        "data.insert(index_of_Torque, 'Torque_RPM', column_to_move)\n",
        "\n",
        "# Drop the original 'Torque' column\n",
        "data.drop(columns=['Torque'], inplace=True)\n",
        "\n",
        "# Display the first five rows of 'Torque_Nm' and 'Torque_RPM' columns in 'car' DataFrame\n",
        "data[['Torque_Nm', 'Torque_RPM']].head()"
      ],
      "metadata": {
        "colab": {
          "base_uri": "https://localhost:8080/",
          "height": 0
        },
        "id": "72q9d5DHbK4y",
        "outputId": "d5e12cca-2ecd-4ee8-f989-36b16dc58c47"
      },
      "execution_count": 107,
      "outputs": [
        {
          "output_type": "execute_result",
          "data": {
            "text/plain": [
              "   Torque_Nm  Torque_RPM\n",
              "0       51.0      4000.0\n",
              "1       51.0      4000.0\n",
              "2       51.0      4000.0\n",
              "3       51.0      4000.0\n",
              "4       51.0      4000.0"
            ],
            "text/html": [
              "\n",
              "  <div id=\"df-70bef378-4df1-4dda-a87e-9d4e19ac755e\" class=\"colab-df-container\">\n",
              "    <div>\n",
              "<style scoped>\n",
              "    .dataframe tbody tr th:only-of-type {\n",
              "        vertical-align: middle;\n",
              "    }\n",
              "\n",
              "    .dataframe tbody tr th {\n",
              "        vertical-align: top;\n",
              "    }\n",
              "\n",
              "    .dataframe thead th {\n",
              "        text-align: right;\n",
              "    }\n",
              "</style>\n",
              "<table border=\"1\" class=\"dataframe\">\n",
              "  <thead>\n",
              "    <tr style=\"text-align: right;\">\n",
              "      <th></th>\n",
              "      <th>Torque_Nm</th>\n",
              "      <th>Torque_RPM</th>\n",
              "    </tr>\n",
              "  </thead>\n",
              "  <tbody>\n",
              "    <tr>\n",
              "      <th>0</th>\n",
              "      <td>51.0</td>\n",
              "      <td>4000.0</td>\n",
              "    </tr>\n",
              "    <tr>\n",
              "      <th>1</th>\n",
              "      <td>51.0</td>\n",
              "      <td>4000.0</td>\n",
              "    </tr>\n",
              "    <tr>\n",
              "      <th>2</th>\n",
              "      <td>51.0</td>\n",
              "      <td>4000.0</td>\n",
              "    </tr>\n",
              "    <tr>\n",
              "      <th>3</th>\n",
              "      <td>51.0</td>\n",
              "      <td>4000.0</td>\n",
              "    </tr>\n",
              "    <tr>\n",
              "      <th>4</th>\n",
              "      <td>51.0</td>\n",
              "      <td>4000.0</td>\n",
              "    </tr>\n",
              "  </tbody>\n",
              "</table>\n",
              "</div>\n",
              "    <div class=\"colab-df-buttons\">\n",
              "\n",
              "  <div class=\"colab-df-container\">\n",
              "    <button class=\"colab-df-convert\" onclick=\"convertToInteractive('df-70bef378-4df1-4dda-a87e-9d4e19ac755e')\"\n",
              "            title=\"Convert this dataframe to an interactive table.\"\n",
              "            style=\"display:none;\">\n",
              "\n",
              "  <svg xmlns=\"http://www.w3.org/2000/svg\" height=\"24px\" viewBox=\"0 -960 960 960\">\n",
              "    <path d=\"M120-120v-720h720v720H120Zm60-500h600v-160H180v160Zm220 220h160v-160H400v160Zm0 220h160v-160H400v160ZM180-400h160v-160H180v160Zm440 0h160v-160H620v160ZM180-180h160v-160H180v160Zm440 0h160v-160H620v160Z\"/>\n",
              "  </svg>\n",
              "    </button>\n",
              "\n",
              "  <style>\n",
              "    .colab-df-container {\n",
              "      display:flex;\n",
              "      gap: 12px;\n",
              "    }\n",
              "\n",
              "    .colab-df-convert {\n",
              "      background-color: #E8F0FE;\n",
              "      border: none;\n",
              "      border-radius: 50%;\n",
              "      cursor: pointer;\n",
              "      display: none;\n",
              "      fill: #1967D2;\n",
              "      height: 32px;\n",
              "      padding: 0 0 0 0;\n",
              "      width: 32px;\n",
              "    }\n",
              "\n",
              "    .colab-df-convert:hover {\n",
              "      background-color: #E2EBFA;\n",
              "      box-shadow: 0px 1px 2px rgba(60, 64, 67, 0.3), 0px 1px 3px 1px rgba(60, 64, 67, 0.15);\n",
              "      fill: #174EA6;\n",
              "    }\n",
              "\n",
              "    .colab-df-buttons div {\n",
              "      margin-bottom: 4px;\n",
              "    }\n",
              "\n",
              "    [theme=dark] .colab-df-convert {\n",
              "      background-color: #3B4455;\n",
              "      fill: #D2E3FC;\n",
              "    }\n",
              "\n",
              "    [theme=dark] .colab-df-convert:hover {\n",
              "      background-color: #434B5C;\n",
              "      box-shadow: 0px 1px 3px 1px rgba(0, 0, 0, 0.15);\n",
              "      filter: drop-shadow(0px 1px 2px rgba(0, 0, 0, 0.3));\n",
              "      fill: #FFFFFF;\n",
              "    }\n",
              "  </style>\n",
              "\n",
              "    <script>\n",
              "      const buttonEl =\n",
              "        document.querySelector('#df-70bef378-4df1-4dda-a87e-9d4e19ac755e button.colab-df-convert');\n",
              "      buttonEl.style.display =\n",
              "        google.colab.kernel.accessAllowed ? 'block' : 'none';\n",
              "\n",
              "      async function convertToInteractive(key) {\n",
              "        const element = document.querySelector('#df-70bef378-4df1-4dda-a87e-9d4e19ac755e');\n",
              "        const dataTable =\n",
              "          await google.colab.kernel.invokeFunction('convertToInteractive',\n",
              "                                                    [key], {});\n",
              "        if (!dataTable) return;\n",
              "\n",
              "        const docLinkHtml = 'Like what you see? Visit the ' +\n",
              "          '<a target=\"_blank\" href=https://colab.research.google.com/notebooks/data_table.ipynb>data table notebook</a>'\n",
              "          + ' to learn more about interactive tables.';\n",
              "        element.innerHTML = '';\n",
              "        dataTable['output_type'] = 'display_data';\n",
              "        await google.colab.output.renderOutput(dataTable, element);\n",
              "        const docLink = document.createElement('div');\n",
              "        docLink.innerHTML = docLinkHtml;\n",
              "        element.appendChild(docLink);\n",
              "      }\n",
              "    </script>\n",
              "  </div>\n",
              "\n",
              "\n",
              "<div id=\"df-446976fa-d6e3-4303-8384-19d21aeba4da\">\n",
              "  <button class=\"colab-df-quickchart\" onclick=\"quickchart('df-446976fa-d6e3-4303-8384-19d21aeba4da')\"\n",
              "            title=\"Suggest charts\"\n",
              "            style=\"display:none;\">\n",
              "\n",
              "<svg xmlns=\"http://www.w3.org/2000/svg\" height=\"24px\"viewBox=\"0 0 24 24\"\n",
              "     width=\"24px\">\n",
              "    <g>\n",
              "        <path d=\"M19 3H5c-1.1 0-2 .9-2 2v14c0 1.1.9 2 2 2h14c1.1 0 2-.9 2-2V5c0-1.1-.9-2-2-2zM9 17H7v-7h2v7zm4 0h-2V7h2v10zm4 0h-2v-4h2v4z\"/>\n",
              "    </g>\n",
              "</svg>\n",
              "  </button>\n",
              "\n",
              "<style>\n",
              "  .colab-df-quickchart {\n",
              "      --bg-color: #E8F0FE;\n",
              "      --fill-color: #1967D2;\n",
              "      --hover-bg-color: #E2EBFA;\n",
              "      --hover-fill-color: #174EA6;\n",
              "      --disabled-fill-color: #AAA;\n",
              "      --disabled-bg-color: #DDD;\n",
              "  }\n",
              "\n",
              "  [theme=dark] .colab-df-quickchart {\n",
              "      --bg-color: #3B4455;\n",
              "      --fill-color: #D2E3FC;\n",
              "      --hover-bg-color: #434B5C;\n",
              "      --hover-fill-color: #FFFFFF;\n",
              "      --disabled-bg-color: #3B4455;\n",
              "      --disabled-fill-color: #666;\n",
              "  }\n",
              "\n",
              "  .colab-df-quickchart {\n",
              "    background-color: var(--bg-color);\n",
              "    border: none;\n",
              "    border-radius: 50%;\n",
              "    cursor: pointer;\n",
              "    display: none;\n",
              "    fill: var(--fill-color);\n",
              "    height: 32px;\n",
              "    padding: 0;\n",
              "    width: 32px;\n",
              "  }\n",
              "\n",
              "  .colab-df-quickchart:hover {\n",
              "    background-color: var(--hover-bg-color);\n",
              "    box-shadow: 0 1px 2px rgba(60, 64, 67, 0.3), 0 1px 3px 1px rgba(60, 64, 67, 0.15);\n",
              "    fill: var(--button-hover-fill-color);\n",
              "  }\n",
              "\n",
              "  .colab-df-quickchart-complete:disabled,\n",
              "  .colab-df-quickchart-complete:disabled:hover {\n",
              "    background-color: var(--disabled-bg-color);\n",
              "    fill: var(--disabled-fill-color);\n",
              "    box-shadow: none;\n",
              "  }\n",
              "\n",
              "  .colab-df-spinner {\n",
              "    border: 2px solid var(--fill-color);\n",
              "    border-color: transparent;\n",
              "    border-bottom-color: var(--fill-color);\n",
              "    animation:\n",
              "      spin 1s steps(1) infinite;\n",
              "  }\n",
              "\n",
              "  @keyframes spin {\n",
              "    0% {\n",
              "      border-color: transparent;\n",
              "      border-bottom-color: var(--fill-color);\n",
              "      border-left-color: var(--fill-color);\n",
              "    }\n",
              "    20% {\n",
              "      border-color: transparent;\n",
              "      border-left-color: var(--fill-color);\n",
              "      border-top-color: var(--fill-color);\n",
              "    }\n",
              "    30% {\n",
              "      border-color: transparent;\n",
              "      border-left-color: var(--fill-color);\n",
              "      border-top-color: var(--fill-color);\n",
              "      border-right-color: var(--fill-color);\n",
              "    }\n",
              "    40% {\n",
              "      border-color: transparent;\n",
              "      border-right-color: var(--fill-color);\n",
              "      border-top-color: var(--fill-color);\n",
              "    }\n",
              "    60% {\n",
              "      border-color: transparent;\n",
              "      border-right-color: var(--fill-color);\n",
              "    }\n",
              "    80% {\n",
              "      border-color: transparent;\n",
              "      border-right-color: var(--fill-color);\n",
              "      border-bottom-color: var(--fill-color);\n",
              "    }\n",
              "    90% {\n",
              "      border-color: transparent;\n",
              "      border-bottom-color: var(--fill-color);\n",
              "    }\n",
              "  }\n",
              "</style>\n",
              "\n",
              "  <script>\n",
              "    async function quickchart(key) {\n",
              "      const quickchartButtonEl =\n",
              "        document.querySelector('#' + key + ' button');\n",
              "      quickchartButtonEl.disabled = true;  // To prevent multiple clicks.\n",
              "      quickchartButtonEl.classList.add('colab-df-spinner');\n",
              "      try {\n",
              "        const charts = await google.colab.kernel.invokeFunction(\n",
              "            'suggestCharts', [key], {});\n",
              "      } catch (error) {\n",
              "        console.error('Error during call to suggestCharts:', error);\n",
              "      }\n",
              "      quickchartButtonEl.classList.remove('colab-df-spinner');\n",
              "      quickchartButtonEl.classList.add('colab-df-quickchart-complete');\n",
              "    }\n",
              "    (() => {\n",
              "      let quickchartButtonEl =\n",
              "        document.querySelector('#df-446976fa-d6e3-4303-8384-19d21aeba4da button');\n",
              "      quickchartButtonEl.style.display =\n",
              "        google.colab.kernel.accessAllowed ? 'block' : 'none';\n",
              "    })();\n",
              "  </script>\n",
              "</div>\n",
              "\n",
              "    </div>\n",
              "  </div>\n"
            ]
          },
          "metadata": {},
          "execution_count": 107
        }
      ]
    },
    {
      "cell_type": "markdown",
      "source": [
        "### 40. Odometer column"
      ],
      "metadata": {
        "id": "uLVRiwLScAs3"
      }
    },
    {
      "cell_type": "code",
      "source": [
        "\n",
        "print(\"Data Type : \",data['Odometer'].dtype)\n",
        "print()\n",
        "print(\"Types of Odometer\",data['Odometer'].nunique())\n",
        "print()\n",
        "print(\"NaN values : \",data['Odometer'].isna().sum())\n",
        "print()\n",
        "print(data['Odometer'].value_counts())"
      ],
      "metadata": {
        "colab": {
          "base_uri": "https://localhost:8080/"
        },
        "id": "W1h2Z_yQbK8w",
        "outputId": "d16ad889-1f51-408d-a23c-6babbf16944b"
      },
      "execution_count": 108,
      "outputs": [
        {
          "output_type": "stream",
          "name": "stdout",
          "text": [
            "Data Type :  object\n",
            "\n",
            "Types of Odometer 4\n",
            "\n",
            "NaN values :  42\n",
            "\n",
            "Digital            1051\n",
            "Analog               90\n",
            "Yes                  83\n",
            "Digital, Analog       1\n",
            "Name: Odometer, dtype: int64\n"
          ]
        }
      ]
    },
    {
      "cell_type": "code",
      "source": [
        "data['Odometer'] = data['Odometer'].replace({'Digital, Analog':'Digi-Analog','Yes':'Unspecified'})"
      ],
      "metadata": {
        "id": "L7P3JfWUdLHz"
      },
      "execution_count": 109,
      "outputs": []
    },
    {
      "cell_type": "code",
      "source": [
        "print(data['Odometer'].value_counts())"
      ],
      "metadata": {
        "colab": {
          "base_uri": "https://localhost:8080/"
        },
        "id": "_6SgmVUDcyAB",
        "outputId": "4eac592a-44e4-458a-8bc8-59c923fdc383"
      },
      "execution_count": 110,
      "outputs": [
        {
          "output_type": "stream",
          "name": "stdout",
          "text": [
            "Digital        1051\n",
            "Analog           90\n",
            "Unspecified      83\n",
            "Digi-Analog       1\n",
            "Name: Odometer, dtype: int64\n"
          ]
        }
      ]
    },
    {
      "cell_type": "markdown",
      "source": [
        "### 41. Speedometer column"
      ],
      "metadata": {
        "id": "rDM3wlWcrFTW"
      }
    },
    {
      "cell_type": "code",
      "source": [
        "print(\"Data Type : \",data['Speedometer'].dtype)\n",
        "print()\n",
        "print(\"Types of Speedometer\",data['Speedometer'].nunique())\n",
        "print()\n",
        "print(\"NaN values : \",data['Speedometer'].isna().sum())\n",
        "print()\n",
        "print(data['Speedometer'].value_counts())"
      ],
      "metadata": {
        "colab": {
          "base_uri": "https://localhost:8080/"
        },
        "id": "3vSuqLXCq3V2",
        "outputId": "aee0dd91-5e1f-4ecf-aec8-b37784070b17"
      },
      "execution_count": 111,
      "outputs": [
        {
          "output_type": "stream",
          "name": "stdout",
          "text": [
            "Data Type :  object\n",
            "\n",
            "Types of Speedometer 5\n",
            "\n",
            "NaN values :  44\n",
            "\n",
            "Analog             974\n",
            "Digital            111\n",
            "Yes                 79\n",
            "Analog, Digital     57\n",
            "Digital, Analog      2\n",
            "Name: Speedometer, dtype: int64\n"
          ]
        }
      ]
    },
    {
      "cell_type": "code",
      "source": [
        "data['Speedometer'] = data['Speedometer'].replace({'Digital, Analog':'Digi-Analog','Analog, Digital':'Digi-Analog','Yes':'Unspecified'})"
      ],
      "metadata": {
        "id": "oEsjIJ3xq3aN"
      },
      "execution_count": 112,
      "outputs": []
    },
    {
      "cell_type": "code",
      "source": [
        "print(data['Speedometer'].value_counts())"
      ],
      "metadata": {
        "colab": {
          "base_uri": "https://localhost:8080/"
        },
        "id": "-yC3xRgPq3eb",
        "outputId": "f79b9e9a-5223-4e2c-86e6-20c53c9c6527"
      },
      "execution_count": 113,
      "outputs": [
        {
          "output_type": "stream",
          "name": "stdout",
          "text": [
            "Analog         974\n",
            "Digital        111\n",
            "Unspecified     79\n",
            "Digi-Analog     59\n",
            "Name: Speedometer, dtype: int64\n"
          ]
        }
      ]
    },
    {
      "cell_type": "markdown",
      "source": [
        "### 42. Tachometer column"
      ],
      "metadata": {
        "id": "wMA_zKd-b73y"
      }
    },
    {
      "cell_type": "code",
      "source": [
        "print(\"Data Type : \",data['Tachometer'].dtype)\n",
        "print()\n",
        "print(\"Types of Tachometer\",data['Tachometer'].nunique())\n",
        "print()\n",
        "print(\"NaN values : \",data['Tachometer'].isna().sum())\n",
        "print()\n",
        "print(data['Tachometer'].value_counts())"
      ],
      "metadata": {
        "colab": {
          "base_uri": "https://localhost:8080/"
        },
        "id": "H0eUrs-VcBpV",
        "outputId": "6a983186-c91c-4276-9e8b-953850efa99d"
      },
      "execution_count": 114,
      "outputs": [
        {
          "output_type": "stream",
          "name": "stdout",
          "text": [
            "Data Type :  object\n",
            "\n",
            "Types of Tachometer 7\n",
            "\n",
            "NaN values :  13\n",
            "\n",
            "Analog                  933\n",
            "Digital                 112\n",
            "Yes                     109\n",
            "Not on offer             72\n",
            "Analog, Digital          22\n",
            "Digital, Analog           5\n",
            "Analog, Not on offer      1\n",
            "Name: Tachometer, dtype: int64\n"
          ]
        }
      ]
    },
    {
      "cell_type": "code",
      "source": [
        "data['Tachometer'] = data['Tachometer'].replace({'Digital, Analog':'Digi-Analog','Analog, Digital':'Digi-Analog','Yes':'Unspecified','Analog, Not on offer':'Analog','Not on offer':'Unknown',np.nan:'Unknown'})"
      ],
      "metadata": {
        "id": "ZJh3RbJBcBtJ"
      },
      "execution_count": 115,
      "outputs": []
    },
    {
      "cell_type": "markdown",
      "source": [
        "* After Cleanning."
      ],
      "metadata": {
        "id": "vm1u0yf9dBcC"
      }
    },
    {
      "cell_type": "code",
      "source": [
        "print(\"Data Type : \",data['Tachometer'].dtype)\n",
        "print()\n",
        "print(\"Types of Tachometer\",data['Tachometer'].nunique())\n",
        "print()\n",
        "print(\"NaN values : \",data['Tachometer'].isna().sum())\n",
        "print()\n",
        "print(data['Tachometer'].value_counts())"
      ],
      "metadata": {
        "colab": {
          "base_uri": "https://localhost:8080/"
        },
        "id": "4BuHeN57cB0n",
        "outputId": "c1e41368-98bd-418b-bd4a-7db50092599c"
      },
      "execution_count": 116,
      "outputs": [
        {
          "output_type": "stream",
          "name": "stdout",
          "text": [
            "Data Type :  object\n",
            "\n",
            "Types of Tachometer 5\n",
            "\n",
            "NaN values :  0\n",
            "\n",
            "Analog         934\n",
            "Digital        112\n",
            "Unspecified    109\n",
            "Unknown         85\n",
            "Digi-Analog     27\n",
            "Name: Tachometer, dtype: int64\n"
          ]
        }
      ]
    },
    {
      "cell_type": "markdown",
      "source": [
        "### 43. Tripmeter column"
      ],
      "metadata": {
        "id": "FrMQUjC0rwSy"
      }
    },
    {
      "cell_type": "code",
      "source": [
        "print(\"Data Type : \",data['Tripmeter'].dtype)\n",
        "print()\n",
        "print(\"Types of Tripmeter\",data['Tripmeter'].nunique())\n",
        "print()\n",
        "print(\"NaN values : \",data['Tripmeter'].isna().sum())\n",
        "print()\n",
        "print(data['Tripmeter'].value_counts())"
      ],
      "metadata": {
        "colab": {
          "base_uri": "https://localhost:8080/"
        },
        "id": "UYfaLgEdq3g-",
        "outputId": "eb38b6e1-fb5a-45fc-e827-f6dbc6ef055c"
      },
      "execution_count": 117,
      "outputs": [
        {
          "output_type": "stream",
          "name": "stdout",
          "text": [
            "Data Type :  object\n",
            "\n",
            "Types of Tripmeter 4\n",
            "\n",
            "NaN values :  59\n",
            "\n",
            "Yes     978\n",
            "2       197\n",
            "1        26\n",
            "1, 2      7\n",
            "Name: Tripmeter, dtype: int64\n"
          ]
        }
      ]
    },
    {
      "cell_type": "code",
      "source": [
        "data['Tripmeter'] = data['Tripmeter'].fillna('Unknown')\n",
        "data['Tripmeter'] = data['Tripmeter'].replace({\"2\":\"Multiple\",\"1, 2\":\"Multiple\",\"1\":\"Yes\"})"
      ],
      "metadata": {
        "id": "shrRB1Cus35a"
      },
      "execution_count": 118,
      "outputs": []
    },
    {
      "cell_type": "code",
      "source": [
        "print(\"Data Type : \",data['Tripmeter'].dtype)\n",
        "print()\n",
        "print(\"Types of Tripmeter\",data['Tripmeter'].nunique())\n",
        "print()\n",
        "print(\"NaN values : \",data['Tripmeter'].isna().sum())\n",
        "print()\n",
        "print(data['Tripmeter'].value_counts())"
      ],
      "metadata": {
        "colab": {
          "base_uri": "https://localhost:8080/"
        },
        "id": "6tfnX4CQCFqv",
        "outputId": "1935145a-c9cf-4837-ca7f-9f07400d1900"
      },
      "execution_count": 119,
      "outputs": [
        {
          "output_type": "stream",
          "name": "stdout",
          "text": [
            "Data Type :  object\n",
            "\n",
            "Types of Tripmeter 3\n",
            "\n",
            "NaN values :  0\n",
            "\n",
            "Yes         1004\n",
            "Multiple     204\n",
            "Unknown       59\n",
            "Name: Tripmeter, dtype: int64\n"
          ]
        }
      ]
    },
    {
      "cell_type": "markdown",
      "source": [
        "### 44. Seating_Capacity column"
      ],
      "metadata": {
        "id": "n-_qt7C6CJqw"
      }
    },
    {
      "cell_type": "code",
      "source": [
        "print(\"Data Type : \",data['Seating_Capacity'].dtype)\n",
        "print()\n",
        "print(\"Different seating types\",data['Seating_Capacity'].nunique())\n",
        "print()\n",
        "print(\"NaN values : \",data['Seating_Capacity'].isna().sum())\n",
        "print()\n",
        "print(data['Seating_Capacity'].value_counts())"
      ],
      "metadata": {
        "colab": {
          "base_uri": "https://localhost:8080/"
        },
        "id": "UzR6gch5CRIg",
        "outputId": "d3e8eb97-3706-4ab8-f81d-6506d82d3b36"
      },
      "execution_count": 120,
      "outputs": [
        {
          "output_type": "stream",
          "name": "stdout",
          "text": [
            "Data Type :  float64\n",
            "\n",
            "Different seating types 8\n",
            "\n",
            "NaN values :  6\n",
            "\n",
            "5.0     915\n",
            "7.0     174\n",
            "4.0      70\n",
            "2.0      39\n",
            "6.0      26\n",
            "9.0      19\n",
            "8.0      17\n",
            "16.0      1\n",
            "Name: Seating_Capacity, dtype: int64\n"
          ]
        }
      ]
    },
    {
      "cell_type": "markdown",
      "source": [
        "* Replacing NaN values with mode"
      ],
      "metadata": {
        "id": "uQW6y002Ck-l"
      }
    },
    {
      "cell_type": "code",
      "source": [
        "mode = data['Seating_Capacity'].mode().round().astype(float)\n",
        "mode"
      ],
      "metadata": {
        "colab": {
          "base_uri": "https://localhost:8080/"
        },
        "id": "5bFRodqfCRVm",
        "outputId": "4b37704e-d1ec-485b-e15c-a675673cf835"
      },
      "execution_count": 121,
      "outputs": [
        {
          "output_type": "execute_result",
          "data": {
            "text/plain": [
              "0    5.0\n",
              "Name: Seating_Capacity, dtype: float64"
            ]
          },
          "metadata": {},
          "execution_count": 121
        }
      ]
    },
    {
      "cell_type": "code",
      "source": [
        "data['Seating_Capacity'] = data['Seating_Capacity'].fillna(5.0)"
      ],
      "metadata": {
        "id": "vXbK2CmpDl1g"
      },
      "execution_count": 122,
      "outputs": []
    },
    {
      "cell_type": "code",
      "source": [
        "print(\"Data Type : \",data['Seating_Capacity'].dtype)\n",
        "print()\n",
        "print(\"Different seating types\",data['Seating_Capacity'].nunique())\n",
        "print()\n",
        "print(\"NaN values : \",data['Seating_Capacity'].isna().sum())\n",
        "print()\n",
        "print(data['Seating_Capacity'].value_counts())"
      ],
      "metadata": {
        "colab": {
          "base_uri": "https://localhost:8080/"
        },
        "id": "_lH7F2YaCRZ9",
        "outputId": "15471578-ede8-4770-8eef-b07238b6b0b8"
      },
      "execution_count": 123,
      "outputs": [
        {
          "output_type": "stream",
          "name": "stdout",
          "text": [
            "Data Type :  float64\n",
            "\n",
            "Different seating types 8\n",
            "\n",
            "NaN values :  0\n",
            "\n",
            "5.0     921\n",
            "7.0     174\n",
            "4.0      70\n",
            "2.0      39\n",
            "6.0      26\n",
            "9.0      19\n",
            "8.0      17\n",
            "16.0      1\n",
            "Name: Seating_Capacity, dtype: int64\n"
          ]
        }
      ]
    },
    {
      "cell_type": "markdown",
      "source": [
        "### 45. Seats_Material column"
      ],
      "metadata": {
        "id": "txVBm_CZEuwX"
      }
    },
    {
      "cell_type": "code",
      "source": [
        "print(\"Data Type : \",data['Seats_Material'].dtype)\n",
        "print()\n",
        "print(\"Different seat materials\",data['Seats_Material'].nunique())\n",
        "print()\n",
        "print(\"NaN values : \",data['Seats_Material'].isna().sum())\n",
        "print()\n",
        "print(data['Seats_Material'].value_counts())"
      ],
      "metadata": {
        "colab": {
          "base_uri": "https://localhost:8080/"
        },
        "id": "-oTcSSPICRdK",
        "outputId": "d6d7f63b-21e1-4827-fe3a-c1fac61088b9"
      },
      "execution_count": 124,
      "outputs": [
        {
          "output_type": "stream",
          "name": "stdout",
          "text": [
            "Data Type :  object\n",
            "\n",
            "Different seat materials 4\n",
            "\n",
            "NaN values :  12\n",
            "\n",
            "Fabric          737\n",
            "Leather         505\n",
            "Vinyl             9\n",
            "Polyurethene      4\n",
            "Name: Seats_Material, dtype: int64\n"
          ]
        }
      ]
    },
    {
      "cell_type": "markdown",
      "source": [
        "* filling NaN values with unknown."
      ],
      "metadata": {
        "id": "H_SHo8LwFFwV"
      }
    },
    {
      "cell_type": "code",
      "source": [
        "data['Seats_Material'] = data['Seats_Material'].fillna('Unknown')"
      ],
      "metadata": {
        "id": "k-NRBkCYE57c"
      },
      "execution_count": 125,
      "outputs": []
    },
    {
      "cell_type": "markdown",
      "source": [
        "* view column after replacement."
      ],
      "metadata": {
        "id": "HJ1JIhQWFV0n"
      }
    },
    {
      "cell_type": "code",
      "source": [
        "print(\"Data Type : \",data['Seats_Material'].dtype)\n",
        "print()\n",
        "print(\"Different seat materials\",data['Seats_Material'].nunique())\n",
        "print()\n",
        "print(\"NaN values : \",data['Seats_Material'].isna().sum())\n",
        "print()\n",
        "print(data['Seats_Material'].value_counts())"
      ],
      "metadata": {
        "colab": {
          "base_uri": "https://localhost:8080/"
        },
        "id": "rbUjCXscE6AX",
        "outputId": "21385ba9-c712-42a5-e1dc-4a1756ac82ac"
      },
      "execution_count": 126,
      "outputs": [
        {
          "output_type": "stream",
          "name": "stdout",
          "text": [
            "Data Type :  object\n",
            "\n",
            "Different seat materials 5\n",
            "\n",
            "NaN values :  0\n",
            "\n",
            "Fabric          737\n",
            "Leather         505\n",
            "Unknown          12\n",
            "Vinyl             9\n",
            "Polyurethene      4\n",
            "Name: Seats_Material, dtype: int64\n"
          ]
        }
      ]
    },
    {
      "cell_type": "markdown",
      "source": [
        "### 46. Type column"
      ],
      "metadata": {
        "id": "mp0My304Xhmt"
      }
    },
    {
      "cell_type": "code",
      "source": [
        "print(\"Data Type : \",data['Type'].dtype)\n",
        "print()\n",
        "print(\"NaN values : \",data['Type'].isna().sum())\n",
        "print()\n",
        "print(data['Type'].value_counts())"
      ],
      "metadata": {
        "colab": {
          "base_uri": "https://localhost:8080/"
        },
        "id": "Dul-r8icE6Da",
        "outputId": "cd1aae05-d0fb-44fc-b980-a9e313ba3cf7"
      },
      "execution_count": 127,
      "outputs": [
        {
          "output_type": "stream",
          "name": "stdout",
          "text": [
            "Data Type :  object\n",
            "\n",
            "NaN values :  1\n",
            "\n",
            "Manual       721\n",
            "Automatic    517\n",
            "AMT           18\n",
            "DCT            7\n",
            "CVT            3\n",
            "Name: Type, dtype: int64\n"
          ]
        }
      ]
    },
    {
      "cell_type": "markdown",
      "source": [
        "* In this column we can see here is one NaN value so we are goint to replace it with \"unknown\".\n",
        "* Change column name to Transmission_Type."
      ],
      "metadata": {
        "id": "7c2GRKRQYBiz"
      }
    },
    {
      "cell_type": "code",
      "source": [
        "data['Type'] = data['Type'].fillna(\"Unknown\")\n",
        "data.rename(columns={'Type':'Transmission_Type'},inplace=True)"
      ],
      "metadata": {
        "id": "S-b9RMNNYPhT"
      },
      "execution_count": 128,
      "outputs": []
    },
    {
      "cell_type": "code",
      "source": [
        "print(\"Data Type : \",data['Transmission_Type'].dtype)\n",
        "print()\n",
        "print(\"NaN values : \",data['Transmission_Type'].isna().sum())\n",
        "print()\n",
        "print(data['Transmission_Type'].value_counts())"
      ],
      "metadata": {
        "colab": {
          "base_uri": "https://localhost:8080/"
        },
        "id": "USjkzR4iY4DG",
        "outputId": "2fb67e1d-d251-4f36-aecc-f331cc895371"
      },
      "execution_count": 129,
      "outputs": [
        {
          "output_type": "stream",
          "name": "stdout",
          "text": [
            "Data Type :  object\n",
            "\n",
            "NaN values :  0\n",
            "\n",
            "Manual       721\n",
            "Automatic    517\n",
            "AMT           18\n",
            "DCT            7\n",
            "CVT            3\n",
            "Unknown        1\n",
            "Name: Transmission_Type, dtype: int64\n"
          ]
        }
      ]
    },
    {
      "cell_type": "markdown",
      "source": [
        "### 47. Wheelbase Column."
      ],
      "metadata": {
        "id": "68LRGFMIY_qk"
      }
    },
    {
      "cell_type": "code",
      "source": [
        "print(\"Data Type : \",data['Wheelbase'].dtype)\n",
        "print()\n",
        "print(\"NaN values : \",data['Wheelbase'].isna().sum())\n",
        "print()\n",
        "print(data['Wheelbase'].unique())"
      ],
      "metadata": {
        "colab": {
          "base_uri": "https://localhost:8080/"
        },
        "id": "hqNMaR31ZGu3",
        "outputId": "b22ee38c-c457-4542-d750-bc08348b1b58"
      },
      "execution_count": 130,
      "outputs": [
        {
          "output_type": "stream",
          "name": "stdout",
          "text": [
            "Data Type :  object\n",
            "\n",
            "NaN values :  20\n",
            "\n",
            "['2230 mm' '2348 mm' '2422 mm' '2442 mm' '2350 mm' '2360 mm' '2450 mm'\n",
            " '2425 mm' '2400 mm' '2435 mm' '2636 mm' '2420 mm' '2460 mm' '2470 mm'\n",
            " '2430 mm' '2525 mm' '2570 mm' '2469 mm' '2490 mm' '2550 mm' '2630 mm'\n",
            " '2510 mm' '2520 mm' '2530 mm' '2845 mm' '2865 mm' '2677 mm' '2660 mm'\n",
            " '2841 mm' '2637 mm' '2699 mm' '2700 mm' '2603 mm' nan '2702 mm' '2670 mm'\n",
            " '2820 mm' '2495 mm' '2835 mm' '2960 mm' '3157 mm' '2595 mm' '2912 mm'\n",
            " '2810 mm' '2741 mm' '2941 mm' '2811 mm' '2575 mm' '2720 mm' '2915 mm'\n",
            " '2760 mm' '2693 mm' '2475 mm' '3075 mm' '2790 mm' '3210 mm' '3110 mm'\n",
            " '2994 mm' '3035 mm' '3165 mm' '2945 mm' '3004 mm' '2850 mm' '2890 mm'\n",
            " '3128 mm' '2942 mm' '3171 mm' '2870 mm' '3365 mm' '2950 mm' '3100 mm'\n",
            " '2650 mm' '3003 mm' '2746 mm' '2669 mm' '2992 mm' '2995 mm' '2600 mm'\n",
            " '3295 mm' '3112 mm' '3266 mm' '3320 mm' '2710 mm' '1925 mm' '2380 mm'\n",
            " '2385 mm' '2501 mm' '2541 mm' '2375 mm' '2500 mm' '2498 mm' '2680 mm'\n",
            " '2794 mm' '2519 mm' '2579 mm' '2673 mm' '2553 mm' '2258 mm' '2662 mm'\n",
            " '2750 mm' '2740 mm' '3040 mm' '2552 mm' '2585 mm' '3060 mm' '2647 mm'\n",
            " '2745 mm' '2791 mm' '2776 mm' '2774 mm' '2807 mm' '2681 mm' '3079 mm'\n",
            " '2874 mm' '2864 mm' '3008 mm' '2840 mm' '3430 mm' '3200 mm' '2984 mm'\n",
            " '2923 mm' '2895 mm' '2998 mm' '2922 mm' '3120 mm' '2951 mm' '2620 mm'\n",
            " '2990 mm' '3570 mm' '1840 mm' '2555 mm' '2610 mm' '2786 mm' '2646 mm'\n",
            " '3105 mm' '2812 mm' '2780 mm' '2704 mm' '2989 mm' '2590 mm' '3095 mm'\n",
            " '2968 mm' '2855 mm' '3070 mm' '2622 mm' '2964 mm' '3488 mm' '2825 mm'\n",
            " '3125 mm' '3820 mm' '2688 mm' '2873 mm' '2800 mm' '3066 mm']\n"
          ]
        }
      ]
    },
    {
      "cell_type": "markdown",
      "source": [
        "* Remove non-numeric characters from string.\n",
        "* Convert datatype to int\n",
        "* replace null values with mean.\n",
        "* change column name to Wheelbase_mm."
      ],
      "metadata": {
        "id": "iBtqTFNxZXv-"
      }
    },
    {
      "cell_type": "code",
      "source": [
        "# Extract numeric characters from value and convert it into integer\n",
        "data['Wheelbase'] = data['Wheelbase'].str.replace(\" mm\",\"\").astype(float).astype(\"Int64\")\n",
        "# Replace null values with mean of the column itself.\n",
        "mean = data['Wheelbase'].mean().astype(int)\n",
        "data['Wheelbase'] = data['Wheelbase'].fillna(mean)\n",
        "# change column name to Wheelbase_mm\n",
        "data.rename(columns={'Wheelbase':'Wheelbase_mm'},inplace=True)"
      ],
      "metadata": {
        "id": "S5AAJ7vHZG6m"
      },
      "execution_count": 131,
      "outputs": []
    },
    {
      "cell_type": "markdown",
      "source": [
        "* Checking column after cleanning."
      ],
      "metadata": {
        "id": "RIbtC1Lca80r"
      }
    },
    {
      "cell_type": "code",
      "source": [
        "print(\"Data Type : \",data['Wheelbase_mm'].dtype)\n",
        "print()\n",
        "print(\"NaN values : \",data['Wheelbase_mm'].isna().sum())\n",
        "print()\n",
        "print(data['Wheelbase_mm'].unique())"
      ],
      "metadata": {
        "colab": {
          "base_uri": "https://localhost:8080/"
        },
        "id": "gK969cDPZG9o",
        "outputId": "4c1348ef-19ef-4bb7-bf50-fd2922b92dcc"
      },
      "execution_count": 132,
      "outputs": [
        {
          "output_type": "stream",
          "name": "stdout",
          "text": [
            "Data Type :  Int64\n",
            "\n",
            "NaN values :  0\n",
            "\n",
            "<IntegerArray>\n",
            "[2230, 2348, 2422, 2442, 2350, 2360, 2450, 2425, 2400, 2435,\n",
            " ...\n",
            " 2622, 2964, 3488, 2825, 3125, 3820, 2688, 2873, 2800, 3066]\n",
            "Length: 154, dtype: Int64\n"
          ]
        }
      ]
    },
    {
      "cell_type": "markdown",
      "source": [
        "### 48. Wheels_Size column"
      ],
      "metadata": {
        "id": "05dn8_o9bX27"
      }
    },
    {
      "cell_type": "code",
      "source": [
        "print(\"Data Type : \",data['Wheels_Size'].dtype)\n",
        "print()\n",
        "print(\"NaN values : \",data['Wheels_Size'].isna().sum())\n",
        "print()\n",
        "print(data['Wheels_Size'].unique())"
      ],
      "metadata": {
        "colab": {
          "base_uri": "https://localhost:8080/"
        },
        "id": "kCTzQGMAdroS",
        "outputId": "d3c40b7f-b4c9-404b-d834-43f03b9fa4e5"
      },
      "execution_count": 133,
      "outputs": [
        {
          "output_type": "stream",
          "name": "stdout",
          "text": [
            "Data Type :  object\n",
            "\n",
            "NaN values :  56\n",
            "\n",
            "['4 B X 12' '80/155R13' '155/80R13' '165/70 R14' '155 R13 LT' '155/65R13'\n",
            " '155/70R13' '165/70R14' nan '155/80 R13' '175/65 R14' '175/65R 15'\n",
            " '185/65 R14' '185/65 R15' '205/70R15' 'R15' '175/65R14' '185/60R15'\n",
            " '13x4.5B Steel' '175/65 R15' '175/ 65 R14' '165/65R14' '165/80R14'\n",
            " '185/70R14' '195/55R16' '175/60 R15' '175/70R14' '185/60R16' '185/65R15'\n",
            " 'R16' '175/70 R14' '185/60 R15' '195 / 55 R16' '195/55R15' '175/70R15'\n",
            " '205/55R16' '175/65R15' '225 / 60 R17' '265 / 60 R17' '245/70R17'\n",
            " '255/60 R18' '215/65R17' '235/55R18' '235 / 65 R18' '215/55 R17'\n",
            " '205/55R17' '225/45R17' 'R20' '215/65R16' '235/55R17' '235/55 R17'\n",
            " '235/55 R19' '235/55 R18'\n",
            " '43.66 cm/17\" Light Alloy Wheels JCW Track Spoke, Black' '205 / 55 R17'\n",
            " '225/55 R18' '225/60R19' '235/60 R18' '245/45R18' '245/40R18' '255/50R19'\n",
            " '265 / 60 R18' '265/50 R20' '295/45R20' '255/35 R18' 'R19' '235/40 R18'\n",
            " '19' '21' '265/60R18' '235/60VR18' '265/35R19' '(245/50 R18' '275/40 R19'\n",
            " '275/35 R20' '275/50 R20' '245/45 R19' '285/40ZR19' '255/60 ZR18'\n",
            " '285/45R21' '265/60 R 18' '255/45 R19' 'ZR20' '245/40 R21' '245/40R20'\n",
            " '245/45R19' 'ZR19' '235/35 R19' '245/35 R19' '275/40R20' 'R21' 'ZR 20'\n",
            " '265/45R20' '285/30ZR20' 'R12' '145/80R12' '145/80 R13' '14' '185/65R14'\n",
            " '165/80 R14' '185/80R14' '15' '195 / 65 R15' '215 / 60 R16'\n",
            " '195 / 65 R15 Steel' '195/60 R16' '195/60R15' '215/75R15' '16'\n",
            " '215 / 75 R 15' '205/60R16' '215/60R16' '195/65R15' '205/50R17'\n",
            " '205/65 R16' '185/65 R16' 'R14' '235/70R16' 'P235/70 R16' '245 / 70 R16'\n",
            " '205/55 R16' '215/70R15' '215 65 R16' '215/60 R17' 'P215/75R15'\n",
            " '245/75R16' 'P235/65R17' '235/65R17' '17' 'P235/65R15' 'P235/60 R18'\n",
            " 'P235/65 R17' '235/70 R16' '205/65R16' '215/55R17' '265 / 60 R16'\n",
            " '215/55 R16' '215/50 R17' '115/90R17' 'R17' '265/65R17' 'R18' '265/65R18'\n",
            " '225/55R17' '225/50 R18' '225/40R18' '235/40R18' '225/50 R17' '215/50R17'\n",
            " '235/60R18' '245/45 R17' '245/35 R17' '18' '245/50 R19' '245/75R15'\n",
            " '255 / 335 R19' '255/60R18' '255/55R19' '255/60R19' '155/85R18'\n",
            " '235/65R20' '21 Inch' '275/45 R21' '20' '255/55 ZR 19' '285 / 40 ZR21'\n",
            " '285/60R18' '275/35R20' '22' '355/25 ZR21' '195/55 R15' '205/60/R16'\n",
            " '205/65R15' '225/55 R17' '115/90R16' '205 / 55 R18' '225/50R17'\n",
            " '245/35R19' '235/45 R18' '225/60R18' '245/45R20' '245/40 R18'\n",
            " '265/45 R20' '255/50 R20' '225 / 45 R18' 'ZR21' '255/35 R20'\n",
            " '315/35 ZR20' '175/60R15' '15x5.5j Alloy' '14x5.5j Steel' '215/60R17'\n",
            " '235/65 R17' '235/50R18' '235/45R19' '225/60R17' '255/55R18' '19 inches'\n",
            " '20 inches' '155/65R14' '145/80R13' '195 R15 LT, 8PR Radial' '235/45R18'\n",
            " '255/55 R20' '255/55 R19' '245/45RF20' '235/55R19' 'ZR 21' '275/40R19'\n",
            " '185/55R16']\n"
          ]
        }
      ]
    },
    {
      "cell_type": "markdown",
      "source": [
        "* Remove space from values."
      ],
      "metadata": {
        "id": "QLuJlhh8e_ZJ"
      }
    },
    {
      "cell_type": "code",
      "source": [
        "data['Wheels_Size'] = data['Wheels_Size'].str.replace(\" \",\"\")"
      ],
      "metadata": {
        "id": "5CeRykoIfHp7"
      },
      "execution_count": 134,
      "outputs": []
    },
    {
      "cell_type": "markdown",
      "source": [
        "### 49. Start_/_Stop_Button column"
      ],
      "metadata": {
        "id": "mmQDQXNBdZLt"
      }
    },
    {
      "cell_type": "code",
      "source": [
        "print(\"Data Type : \",data['Start_/_Stop_Button'].dtype)\n",
        "print()\n",
        "print(\"NaN values : \",data['Start_/_Stop_Button'].isna().sum())\n",
        "print()\n",
        "print(data['Start_/_Stop_Button'].value_counts())"
      ],
      "metadata": {
        "colab": {
          "base_uri": "https://localhost:8080/"
        },
        "id": "UnVsLfGfZHDf",
        "outputId": "ca8c3bd1-5e70-404c-a02a-cb3aa6751b95"
      },
      "execution_count": 135,
      "outputs": [
        {
          "output_type": "stream",
          "name": "stdout",
          "text": [
            "Data Type :  object\n",
            "\n",
            "NaN values :  676\n",
            "\n",
            "Yes    591\n",
            "Name: Start_/_Stop_Button, dtype: int64\n"
          ]
        }
      ]
    },
    {
      "cell_type": "markdown",
      "source": [
        "* Here we can replace NaN values with No.\n",
        "* change column name to Start/Stop_Button"
      ],
      "metadata": {
        "id": "HiNTL5G-d1rw"
      }
    },
    {
      "cell_type": "code",
      "source": [
        "data['Start_/_Stop_Button'] = data['Start_/_Stop_Button'].fillna('No')\n",
        "data.rename(columns={'Start_/_Stop_Button':'Start/Stop_Button'},inplace=True)"
      ],
      "metadata": {
        "id": "7CtJ6i5abXQQ"
      },
      "execution_count": 136,
      "outputs": []
    },
    {
      "cell_type": "markdown",
      "source": [
        "* Reviewing after cleanning."
      ],
      "metadata": {
        "id": "bS50iSe6eiAt"
      }
    },
    {
      "cell_type": "code",
      "source": [
        "print(\"Data Type : \",data['Start/Stop_Button'].dtype)\n",
        "print()\n",
        "print(\"NaN values : \",data['Start/Stop_Button'].isna().sum())\n",
        "print()\n",
        "print(data['Start/Stop_Button'].value_counts())"
      ],
      "metadata": {
        "colab": {
          "base_uri": "https://localhost:8080/"
        },
        "id": "OWRcsKNzbXTT",
        "outputId": "d2f43681-c316-4437-f602-9b01f1f69f48"
      },
      "execution_count": 137,
      "outputs": [
        {
          "output_type": "stream",
          "name": "stdout",
          "text": [
            "Data Type :  object\n",
            "\n",
            "NaN values :  0\n",
            "\n",
            "No     676\n",
            "Yes    591\n",
            "Name: Start/Stop_Button, dtype: int64\n"
          ]
        }
      ]
    },
    {
      "cell_type": "markdown",
      "source": [
        "### 50. 12v_Power_Outlet column"
      ],
      "metadata": {
        "id": "6B_uLKXAfa4r"
      }
    },
    {
      "cell_type": "code",
      "source": [
        "print(\"Data Type : \",data['12v_Power_Outlet'].dtype)\n",
        "print()\n",
        "print(\"NaN values : \",data['12v_Power_Outlet'].isna().sum())\n",
        "print()\n",
        "print(data['12v_Power_Outlet'].value_counts())"
      ],
      "metadata": {
        "colab": {
          "base_uri": "https://localhost:8080/"
        },
        "id": "0AJ-Nm7cfaSp",
        "outputId": "13caffe0-deb1-484d-d97f-fb15cb299f30"
      },
      "execution_count": 138,
      "outputs": [
        {
          "output_type": "stream",
          "name": "stdout",
          "text": [
            "Data Type :  object\n",
            "\n",
            "NaN values :  153\n",
            "\n",
            "Yes    883\n",
            "2      133\n",
            "1       58\n",
            "3       34\n",
            "4        6\n",
            "Name: 12v_Power_Outlet, dtype: int64\n"
          ]
        }
      ]
    },
    {
      "cell_type": "code",
      "source": [
        "data['12v_Power_Outlet'] = data['12v_Power_Outlet'].replace({\"2\":\"Yes\",\"1\":\"Yes\",'3':'Yes','4':'Yes',np.nan:\"No\"})"
      ],
      "metadata": {
        "id": "yl24bneNfaWR"
      },
      "execution_count": 139,
      "outputs": []
    },
    {
      "cell_type": "markdown",
      "source": [
        "* After data cleanning."
      ],
      "metadata": {
        "id": "28gvCooalWk-"
      }
    },
    {
      "cell_type": "code",
      "source": [
        "print(\"Data Type : \",data['12v_Power_Outlet'].dtype)\n",
        "print()\n",
        "print(\"NaN values : \",data['12v_Power_Outlet'].isna().sum())\n",
        "print()\n",
        "print(data['12v_Power_Outlet'].value_counts())"
      ],
      "metadata": {
        "colab": {
          "base_uri": "https://localhost:8080/"
        },
        "id": "2oy7Eh1pfaY8",
        "outputId": "32aff1d8-2f63-4bd3-f6aa-4e06d4a84065"
      },
      "execution_count": 140,
      "outputs": [
        {
          "output_type": "stream",
          "name": "stdout",
          "text": [
            "Data Type :  object\n",
            "\n",
            "NaN values :  0\n",
            "\n",
            "Yes    1114\n",
            "No      153\n",
            "Name: 12v_Power_Outlet, dtype: int64\n"
          ]
        }
      ]
    },
    {
      "cell_type": "markdown",
      "source": [
        "### 51. Audiosystem column"
      ],
      "metadata": {
        "id": "8XxC8kDHlaUD"
      }
    },
    {
      "cell_type": "code",
      "source": [
        "print(\"Data Type : \",data['Audiosystem'].dtype)\n",
        "print()\n",
        "print(\"Audio systm types : \",data['Audiosystem'].nunique())\n",
        "print()\n",
        "print(\"NaN values : \",data['Audiosystem'].isna().sum())\n",
        "print()\n",
        "print(data['Audiosystem'].value_counts())"
      ],
      "metadata": {
        "colab": {
          "base_uri": "https://localhost:8080/"
        },
        "id": "G1AsYDpfbXXC",
        "outputId": "de09e60c-f567-4575-ae38-74d9464011c0"
      },
      "execution_count": 141,
      "outputs": [
        {
          "output_type": "stream",
          "name": "stdout",
          "text": [
            "Data Type :  object\n",
            "\n",
            "Audio systm types :  8\n",
            "\n",
            "NaN values :  44\n",
            "\n",
            "CD Player with USB & Aux-in            435\n",
            "CD/MP3/DVD Player with USB & Aux-in    367\n",
            "Not on offer                           213\n",
            "DVD Player with USB & Aux-in           101\n",
            "USB & Aux-in                            84\n",
            "CD/MP3 Player                           20\n",
            "CD Player with Aux-in                    2\n",
            "CD Player with USB Only                  1\n",
            "Name: Audiosystem, dtype: int64\n"
          ]
        }
      ]
    },
    {
      "cell_type": "code",
      "source": [
        "data['Audiosystem'] = data['Audiosystem'].replace({np.nan:\"Unknown\",\"Not on offer\":\"No\"})"
      ],
      "metadata": {
        "id": "01lewdUUlkqu"
      },
      "execution_count": 142,
      "outputs": []
    },
    {
      "cell_type": "markdown",
      "source": [
        "* After Cleanning"
      ],
      "metadata": {
        "id": "MoYkXwy2m9U2"
      }
    },
    {
      "cell_type": "code",
      "source": [
        "print(\"Data Type : \",data['Audiosystem'].dtype)\n",
        "print()\n",
        "print(\"Audio systm types : \",data['Audiosystem'].nunique())\n",
        "print()\n",
        "print(\"NaN values : \",data['Audiosystem'].isna().sum())\n",
        "print()\n",
        "print(data['Audiosystem'].value_counts())"
      ],
      "metadata": {
        "colab": {
          "base_uri": "https://localhost:8080/"
        },
        "id": "z8DsP09yljhr",
        "outputId": "9866587b-60e8-43ca-cb39-b358cf388789"
      },
      "execution_count": 143,
      "outputs": [
        {
          "output_type": "stream",
          "name": "stdout",
          "text": [
            "Data Type :  object\n",
            "\n",
            "Audio systm types :  9\n",
            "\n",
            "NaN values :  0\n",
            "\n",
            "CD Player with USB & Aux-in            435\n",
            "CD/MP3/DVD Player with USB & Aux-in    367\n",
            "No                                     213\n",
            "DVD Player with USB & Aux-in           101\n",
            "USB & Aux-in                            84\n",
            "Unknown                                 44\n",
            "CD/MP3 Player                           20\n",
            "CD Player with Aux-in                    2\n",
            "CD Player with USB Only                  1\n",
            "Name: Audiosystem, dtype: int64\n"
          ]
        }
      ]
    },
    {
      "cell_type": "markdown",
      "source": [
        "### 52. Aux-in_Compatibility column"
      ],
      "metadata": {
        "id": "IDKJBODynCCT"
      }
    },
    {
      "cell_type": "code",
      "source": [
        "\n",
        "print(\"Data Type : \",data['Aux-in_Compatibility'].dtype)\n",
        "print()\n",
        "\n",
        "print(\"NaN values : \",data['Aux-in_Compatibility'].isna().sum())\n",
        "print()\n",
        "print(data['Aux-in_Compatibility'].value_counts())"
      ],
      "metadata": {
        "colab": {
          "base_uri": "https://localhost:8080/"
        },
        "id": "VwbqtJ9SljlB",
        "outputId": "4d157be7-2cf7-4d79-ad38-6c41fda50cfb"
      },
      "execution_count": 144,
      "outputs": [
        {
          "output_type": "stream",
          "name": "stdout",
          "text": [
            "Data Type :  object\n",
            "\n",
            "NaN values :  284\n",
            "\n",
            "Yes    983\n",
            "Name: Aux-in_Compatibility, dtype: int64\n"
          ]
        }
      ]
    },
    {
      "cell_type": "markdown",
      "source": [
        "* Replace NaN values with No"
      ],
      "metadata": {
        "id": "evagODM5nnJR"
      }
    },
    {
      "cell_type": "code",
      "source": [
        "data['Aux-in_Compatibility'] = data['Aux-in_Compatibility'].replace(np.nan,'No')"
      ],
      "metadata": {
        "id": "uVP0aZ7uZHGx"
      },
      "execution_count": 145,
      "outputs": []
    },
    {
      "cell_type": "code",
      "source": [
        "print(\"Data Type : \",data['Aux-in_Compatibility'].dtype)\n",
        "print()\n",
        "print(\"NaN values : \",data['Aux-in_Compatibility'].isna().sum())\n",
        "print()\n",
        "print(data['Aux-in_Compatibility'].value_counts())"
      ],
      "metadata": {
        "colab": {
          "base_uri": "https://localhost:8080/"
        },
        "id": "SNZglSG1nl3U",
        "outputId": "8e9b13b4-a41e-4b3e-de46-27fddddb0599"
      },
      "execution_count": 146,
      "outputs": [
        {
          "output_type": "stream",
          "name": "stdout",
          "text": [
            "Data Type :  object\n",
            "\n",
            "NaN values :  0\n",
            "\n",
            "Yes    983\n",
            "No     284\n",
            "Name: Aux-in_Compatibility, dtype: int64\n"
          ]
        }
      ]
    },
    {
      "cell_type": "markdown",
      "source": [
        "### 53. Basic_Warranty column"
      ],
      "metadata": {
        "id": "85093iZmnvP1"
      }
    },
    {
      "cell_type": "code",
      "source": [
        "print(\"Data Type : \",data['Basic_Warranty'].dtype)\n",
        "print()\n",
        "print(\"NaN values : \",data['Basic_Warranty'].isna().sum())\n",
        "print()\n",
        "print(data['Basic_Warranty'].value_counts())"
      ],
      "metadata": {
        "colab": {
          "base_uri": "https://localhost:8080/"
        },
        "id": "sK5V5pIJn5ce",
        "outputId": "68a74c73-1845-4cf9-f2f1-5c051e7f4887"
      },
      "execution_count": 147,
      "outputs": [
        {
          "output_type": "stream",
          "name": "stdout",
          "text": [
            "Data Type :  object\n",
            "\n",
            "NaN values :  440\n",
            "\n",
            "2 years / Unlimited Kms                                            132\n",
            "3 years / Unlimited Kms                                            118\n",
            "2 years /40000 Kms (years/distance whichever comes first)          110\n",
            "3 Years/1,00,000 Kms (Whichever comes earlier)                      77\n",
            "3 years /100000 Kms (years/distance whichever comes first)          76\n",
            "2 Years / 40,000 Kms (Whichever comes earlier)                      54\n",
            "2 Years / 100,000 Kms (whichever comes first)                       51\n",
            "2 years /75000 Kms (years/distance whichever comes first)           31\n",
            "2 years /1,00,000 Kms (years/distance whichever comes first)        30\n",
            "24 months /50000 Kms (whichever comes first)                        20\n",
            "2 years /50000 Kms (years/distance whichever comes first)           18\n",
            "2 Years / 75,000 KM (whichever is earlier)                          17\n",
            "2 Years / 50,000 Kms (Whichever comes earlier)                      16\n",
            "3 Years / 100000 km (whichever comes first)                         11\n",
            "3 years / 100,000 Km of warranty**                                  10\n",
            "3 years / 100,000 Kms                                               10\n",
            "3rd years /Unlimited Kms (years/distance whichever comes first)      7\n",
            "4 years /Unlimited Kms (years/distance whichever comes first)        7\n",
            "4 years / 80000 Kms (years/distance whichever comes first)           5\n",
            "3 Years Warranty                                                     5\n",
            "3 years/1 lakh kms (whichever is earlier)                            4\n",
            "8 yrs/1.6L kmBattery Warranty                                        3\n",
            "1 Year /Unlimited KMs                                                3\n",
            "3 years/40,000 km                                                    3\n",
            "2 Years Unlimited Kilometres                                         3\n",
            "3 years 60000 kms                                                    2\n",
            "2 Years Warranty                                                     2\n",
            "2 years without mileage limit                                        2\n",
            "Name: Basic_Warranty, dtype: int64\n"
          ]
        }
      ]
    },
    {
      "cell_type": "markdown",
      "source": [
        "Here we updates the 'Basic_Warranty' column in the 'data' DataFrame based on specified conditions, renames it to 'Basic_Warranty_Years' and converts the value to float."
      ],
      "metadata": {
        "id": "mNoy35HB6ts5"
      }
    },
    {
      "cell_type": "code",
      "source": [
        "# Update the 'Basic_Warranty' column in the 'car' DataFrame based on the specified conditions\n",
        "data.loc[data['Basic_Warranty'].str.contains('1 Year', na=False), 'Basic_Warranty'] = '1'\n",
        "data.loc[data['Basic_Warranty'].str.contains('2 years|2 Years|24 months', na=False), 'Basic_Warranty'] = '2'\n",
        "data.loc[data['Basic_Warranty'].str.contains('3 years|3 Years|3rd years', na=False), 'Basic_Warranty'] = '3'\n",
        "data.loc[data['Basic_Warranty'].str.contains('4 years', na=False), 'Basic_Warranty'] = '4'\n",
        "data.loc[data['Basic_Warranty'].str.contains('8 yrs', na=False), 'Basic_Warranty'] = '8'\n",
        "\n",
        "# Rename the 'Basic_Warranty' column to 'Basic_Warranty_years' and convert to float\n",
        "data.rename(columns={'Basic_Warranty': 'Basic_Warranty_years'}, inplace=True)\n",
        "data['Basic_Warranty_years'] = data['Basic_Warranty_years'].astype(float)"
      ],
      "metadata": {
        "id": "iw30B06Un7Wr"
      },
      "execution_count": 148,
      "outputs": []
    },
    {
      "cell_type": "markdown",
      "source": [
        "This code snippet will show the value counts for the 'Basic_Warranty_years' column in the 'car' DataFrame, indicating how many occurrences there are for each unique value in that column."
      ],
      "metadata": {
        "id": "Te0bmKzi7nif"
      }
    },
    {
      "cell_type": "code",
      "source": [
        "print(\"Data Type : \",data['Basic_Warranty_years'].dtype)\n",
        "print()\n",
        "print(data['Basic_Warranty_years'].value_counts())"
      ],
      "metadata": {
        "colab": {
          "base_uri": "https://localhost:8080/"
        },
        "id": "G14GsIkDn7kH",
        "outputId": "d63f2093-b5a3-45a4-ade4-6636888f4805"
      },
      "execution_count": 149,
      "outputs": [
        {
          "output_type": "stream",
          "name": "stdout",
          "text": [
            "Data Type :  float64\n",
            "\n",
            "2.0    486\n",
            "3.0    323\n",
            "4.0     12\n",
            "1.0      3\n",
            "8.0      3\n",
            "Name: Basic_Warranty_years, dtype: int64\n"
          ]
        }
      ]
    },
    {
      "cell_type": "markdown",
      "source": [
        "### 54. Bluetooth column"
      ],
      "metadata": {
        "id": "6_krf5c276zt"
      }
    },
    {
      "cell_type": "code",
      "source": [
        "print(\"Data Type : \",data['Bluetooth'].dtype)\n",
        "print()\n",
        "print(\"NaN values : \",data['Bluetooth'].isna().sum())\n",
        "print()\n",
        "print(data['Bluetooth'].value_counts())"
      ],
      "metadata": {
        "colab": {
          "base_uri": "https://localhost:8080/"
        },
        "id": "g-4QUZEPn7zo",
        "outputId": "657e8e56-01b8-4465-9c7f-ab1eca74c705"
      },
      "execution_count": 150,
      "outputs": [
        {
          "output_type": "stream",
          "name": "stdout",
          "text": [
            "Data Type :  object\n",
            "\n",
            "NaN values :  292\n",
            "\n",
            "Yes    975\n",
            "Name: Bluetooth, dtype: int64\n"
          ]
        }
      ]
    },
    {
      "cell_type": "markdown",
      "source": [
        "* Replace null values with no"
      ],
      "metadata": {
        "id": "tbmELRTB8Rf_"
      }
    },
    {
      "cell_type": "code",
      "source": [
        "data['Bluetooth'] = data['Bluetooth'].fillna('No')"
      ],
      "metadata": {
        "id": "yZpGFiPAn79S"
      },
      "execution_count": 151,
      "outputs": []
    },
    {
      "cell_type": "code",
      "source": [
        "print(\"Data Type : \",data['Bluetooth'].dtype)\n",
        "print()\n",
        "print(\"NaN values : \",data['Bluetooth'].isna().sum())\n",
        "print()\n",
        "print(data['Bluetooth'].value_counts())"
      ],
      "metadata": {
        "colab": {
          "base_uri": "https://localhost:8080/"
        },
        "id": "yInMTzRGn8Gq",
        "outputId": "73711a9d-332d-4418-a856-98e1812c17c7"
      },
      "execution_count": 152,
      "outputs": [
        {
          "output_type": "stream",
          "name": "stdout",
          "text": [
            "Data Type :  object\n",
            "\n",
            "NaN values :  0\n",
            "\n",
            "Yes    975\n",
            "No     292\n",
            "Name: Bluetooth, dtype: int64\n"
          ]
        }
      ]
    },
    {
      "cell_type": "markdown",
      "source": [
        "### 55. Boot-lid_Opener column"
      ],
      "metadata": {
        "id": "HN9Z_pSz8iuy"
      }
    },
    {
      "cell_type": "code",
      "source": [
        "print(\"Data Type : \",data['Boot-lid_Opener'].dtype)\n",
        "print()\n",
        "print(\"NaN values : \",data['Boot-lid_Opener'].isna().sum())\n",
        "print()\n",
        "print(data['Boot-lid_Opener'].value_counts())"
      ],
      "metadata": {
        "colab": {
          "base_uri": "https://localhost:8080/"
        },
        "id": "PwX4MFOV8jYp",
        "outputId": "f39cbd36-df61-453b-a402-d4c939b537c3"
      },
      "execution_count": 153,
      "outputs": [
        {
          "output_type": "stream",
          "name": "stdout",
          "text": [
            "Data Type :  object\n",
            "\n",
            "NaN values :  14\n",
            "\n",
            "Internal                         535\n",
            "With Remote, Internal            212\n",
            "Internal, With Remote            204\n",
            "Manual                           171\n",
            "With Remote                       63\n",
            "Manual, With Remote               26\n",
            "Manual, Internal                  22\n",
            "With Remote, Manual               12\n",
            "With Remote, Manual, Internal      3\n",
            "Internal, Manual                   3\n",
            "Manual, Internal, With Remote      1\n",
            "Manual, With Remote, Internal      1\n",
            "Name: Boot-lid_Opener, dtype: int64\n"
          ]
        }
      ]
    },
    {
      "cell_type": "markdown",
      "source": [
        "* This column includes some repeatative values so we are going to replace it with singular value."
      ],
      "metadata": {
        "id": "TPCLbioA-MH_"
      }
    },
    {
      "cell_type": "code",
      "source": [
        "data['Boot-lid_Opener'] = data['Boot-lid_Opener'].replace({\"With Remote, Internal\":\"Internal, With Remote\", \"With Remote, Manual\":\"Manual, With Remote\", \"Internal, Manual\":\"Manual, Internal\", \"Manual, Internal, With Remote\":\"Manual, With Remote, Internal\", \"With Remote, Manual, Internal\":\"Manual, With Remote, Internal\", np.nan:\"Unknown\"})"
      ],
      "metadata": {
        "id": "5VKVmaa58jco"
      },
      "execution_count": 154,
      "outputs": []
    },
    {
      "cell_type": "markdown",
      "source": [
        "* column after replacing values."
      ],
      "metadata": {
        "id": "0MQ_OJKG-H9V"
      }
    },
    {
      "cell_type": "markdown",
      "source": [
        "### 56. Boot_Space Column"
      ],
      "metadata": {
        "id": "Ik-bl_On-W2d"
      }
    },
    {
      "cell_type": "code",
      "source": [
        "print(\"Data Type : \",data['Boot_Space'].dtype)\n",
        "print()\n",
        "print(\"NaN values : \",data['Boot_Space'].isna().sum())\n",
        "print()\n",
        "print(data['Boot_Space'].unique())"
      ],
      "metadata": {
        "colab": {
          "base_uri": "https://localhost:8080/"
        },
        "id": "tcfQH_CW8jgN",
        "outputId": "0758fbce-ea3c-4e1e-cfb4-23c411a21fb3"
      },
      "execution_count": 155,
      "outputs": [
        {
          "output_type": "stream",
          "name": "stdout",
          "text": [
            "Data Type :  object\n",
            "\n",
            "NaN values :  248\n",
            "\n",
            "['110 litres' '94 litres' '222 litres' '300 litres' '400 litres'\n",
            " '250 litres' '177 litres' '265 litres' '235 litres' nan '242 litres'\n",
            " '240 litres' '260 litres' '625 litres' '454 litres' '251 litres'\n",
            " '210 litres' '407 litres' '320 litres' '316 litres' '285 litres'\n",
            " '280 litres' '378 litres' '257 litres' '330 litres' '592 litres'\n",
            " '339 litres' '354 litres' '438 litres' '615 litres' '522 litres'\n",
            " '150 litres' '425 litres' '488 litres' '470 litres' '460 litres'\n",
            " '278 litres' '215 litres' '432 litres' '360 litres' '480 litres'\n",
            " '455 litres' '505 litres' '520 litres' '560 litres' '550 litres'\n",
            " '650 litres' '1025 litres' '540 litres' '465 litres' '515 litres'\n",
            " '500 litres' '605 litres' '530 litres' '510 litres' '580 litres'\n",
            " '261 litres' '133 litres' '616 litres' '358 litres' '430 litres'\n",
            " '230 litres' '490 litres' '443 litres' '395 litres' '20 litres'\n",
            " '256 litres' '243 litres' '268 litres' '345 litres' '419 litres'\n",
            " '390 litres' '420 litres' '350 litres' '1702 litres' '328 litres'\n",
            " '352 litres' '475 litres' '259 litres' '207 litres' '759 litres'\n",
            " '494 litres' '135 litres' '255 litres' '223 litres' '600 litres'\n",
            " '209 litres' '384 litres' '96 litres' '128 litres' '448 litres'\n",
            " '324 litres' '296 litres' '211 litres' '270 litres' '380 litres'\n",
            " '495 litres' '1400 litres' '281 litres' '295 litres' '909 litres'\n",
            " '1761 litres' '478 litres' '645 litres' '745 litres' '770 litres'\n",
            " '621 litres' '535 litres' '173 litres' '165 litres' '70 litres'\n",
            " '450 litres' '525 litres' '347 litres'\n",
            " '209(All3RowsUp).550(3rdRowFolded)&803(2ndRowand3rdRowFolded) litres'\n",
            " '363 litres' '375 litres' '392 litres' '433 litres' '981 litres'\n",
            " '586 litres' '341 litres' '435 litres' '825 litres' '326 litres'\n",
            " '368 litres' '132 litres' '249 litres' '421 litres' '610 litres'\n",
            " '200.5 litres' '310 litres' '412 litres' '54 litres' '258 litres'\n",
            " '476 litres' '590 litres' '598 litres' '1050 litres']\n"
          ]
        }
      ]
    },
    {
      "cell_type": "markdown",
      "source": [
        "* Extract Numeric charaters from values.\n",
        "* change datatype to float.\n",
        "* change column name to Boot_Space_Lr"
      ],
      "metadata": {
        "id": "zM02y-uDB11N"
      }
    },
    {
      "cell_type": "code",
      "source": [
        "data['Boot_Space'] = data['Boot_Space'].str.replace(\" litres\",\"\")\n",
        "data['Boot_Space'] = data['Boot_Space'].replace(r\"\\(\\w+\\.?\\w*\\)\",\"\",regex=True)\n",
        "data['Boot_Space'] = data['Boot_Space'].str.replace(\".550&803\",\"\")\n",
        "data['Boot_Space'] = data['Boot_Space'].astype(float)\n",
        "data.rename(columns={'Boot_Space':'Boot_Space_Lr'}, inplace = True)"
      ],
      "metadata": {
        "colab": {
          "base_uri": "https://localhost:8080/"
        },
        "id": "CSqPRsI98jjW",
        "outputId": "d8607dde-4f4a-420c-8a2f-1ef82b90f4e3"
      },
      "execution_count": 156,
      "outputs": [
        {
          "output_type": "stream",
          "name": "stderr",
          "text": [
            "<ipython-input-156-10011764199c>:3: FutureWarning: The default value of regex will change from True to False in a future version.\n",
            "  data['Boot_Space'] = data['Boot_Space'].str.replace(\".550&803\",\"\")\n"
          ]
        }
      ]
    },
    {
      "cell_type": "markdown",
      "source": [
        "* Overview after cleanning."
      ],
      "metadata": {
        "id": "F-MTnS_fCB0-"
      }
    },
    {
      "cell_type": "code",
      "source": [
        "print(\"Data Type : \",data['Boot_Space_Lr'].dtype)\n",
        "print()\n",
        "print(\"NaN values : \",data['Boot_Space_Lr'].isna().sum())\n",
        "print()\n",
        "print(data['Boot_Space_Lr'].unique())"
      ],
      "metadata": {
        "colab": {
          "base_uri": "https://localhost:8080/"
        },
        "id": "jMbY-MZin8RK",
        "outputId": "a6edbfee-111c-4f29-fb4e-02f2cc8bb7d6"
      },
      "execution_count": 157,
      "outputs": [
        {
          "output_type": "stream",
          "name": "stdout",
          "text": [
            "Data Type :  float64\n",
            "\n",
            "NaN values :  248\n",
            "\n",
            "[ 110.    94.   222.   300.   400.   250.   177.   265.   235.     nan\n",
            "  242.   240.   260.   625.   454.   251.   210.   407.   320.   316.\n",
            "  285.   280.   378.   257.   330.   592.   339.   354.   438.   615.\n",
            "  522.   150.   425.   488.   470.   460.   278.   215.   432.   360.\n",
            "  480.   455.   505.   520.   560.   550.   650.  1025.   540.   465.\n",
            "  515.   500.   605.   530.   510.   580.   261.   133.   616.   358.\n",
            "  430.   230.   490.   443.   395.    20.   256.   243.   268.   345.\n",
            "  419.   390.   420.   350.  1702.   328.   352.   475.   259.   207.\n",
            "  759.   494.   135.   255.   223.   600.   209.   384.    96.   128.\n",
            "  448.   324.   296.   211.   270.   380.   495.  1400.   281.   295.\n",
            "  909.  1761.   478.   645.   745.   770.   621.   535.   173.   165.\n",
            "   70.   450.   525.   347.   363.   375.   392.   433.   981.   586.\n",
            "  341.   435.   825.   326.   368.   132.   249.   421.   610.   200.5\n",
            "  310.   412.    54.   258.   476.   590.   598.  1050. ]\n"
          ]
        }
      ]
    },
    {
      "cell_type": "markdown",
      "source": [
        "### 57. CD_/_MP3_/_DVD_Player column"
      ],
      "metadata": {
        "id": "prUV5ICtCH55"
      }
    },
    {
      "cell_type": "code",
      "source": [
        "print(\"Data Type : \",data['CD_/_MP3_/_DVD_Player'].dtype)\n",
        "print()\n",
        "print(\"NaN values : \",data['CD_/_MP3_/_DVD_Player'].isna().sum())\n",
        "print()\n",
        "print(data['CD_/_MP3_/_DVD_Player'].value_counts())"
      ],
      "metadata": {
        "colab": {
          "base_uri": "https://localhost:8080/"
        },
        "id": "czaIOPb4CIHe",
        "outputId": "d5ed0d7d-b1bb-4abb-91af-16903e8aeb16"
      },
      "execution_count": 158,
      "outputs": [
        {
          "output_type": "stream",
          "name": "stdout",
          "text": [
            "Data Type :  object\n",
            "\n",
            "NaN values :  309\n",
            "\n",
            "Yes    958\n",
            "Name: CD_/_MP3_/_DVD_Player, dtype: int64\n"
          ]
        }
      ]
    },
    {
      "cell_type": "markdown",
      "source": [
        "* replace NaN values with No\n",
        "* change column name to 'CD/MP3/DVD_Player'"
      ],
      "metadata": {
        "id": "uNDgYIx9C2_P"
      }
    },
    {
      "cell_type": "code",
      "source": [
        "data['CD_/_MP3_/_DVD_Player'] = data['CD_/_MP3_/_DVD_Player'].fillna(\"No\")\n",
        "data.rename(columns={\"CD_/_MP3_/_DVD_Player\":\"CD/MP3/DVD_Player\"},inplace=True)"
      ],
      "metadata": {
        "id": "qhGO0HzVCIM2"
      },
      "execution_count": 159,
      "outputs": []
    },
    {
      "cell_type": "code",
      "source": [
        "print(\"Data Type : \",data['CD/MP3/DVD_Player'].dtype)\n",
        "print()\n",
        "print(\"NaN values : \",data['CD/MP3/DVD_Player'].isna().sum())\n",
        "print()\n",
        "print(data['CD/MP3/DVD_Player'].value_counts())"
      ],
      "metadata": {
        "colab": {
          "base_uri": "https://localhost:8080/"
        },
        "id": "rLTtzgKICIQf",
        "outputId": "78944f04-933a-48df-86a1-5b85dcdf34bf"
      },
      "execution_count": 160,
      "outputs": [
        {
          "output_type": "stream",
          "name": "stdout",
          "text": [
            "Data Type :  object\n",
            "\n",
            "NaN values :  0\n",
            "\n",
            "Yes    958\n",
            "No     309\n",
            "Name: CD/MP3/DVD_Player, dtype: int64\n"
          ]
        }
      ]
    },
    {
      "cell_type": "markdown",
      "source": [
        "### 58. Central_Locking column"
      ],
      "metadata": {
        "id": "HcACSxiRDq3n"
      }
    },
    {
      "cell_type": "code",
      "source": [
        "print(\"Data Type : \",data['Central_Locking'].dtype)\n",
        "print()\n",
        "print(\"NaN values : \",data['Central_Locking'].isna().sum())\n",
        "print()\n",
        "print(data['Central_Locking'].value_counts())"
      ],
      "metadata": {
        "colab": {
          "base_uri": "https://localhost:8080/"
        },
        "id": "zT3p3r85CIUh",
        "outputId": "8566d701-d9d1-49bb-c2fd-d11fae55423c"
      },
      "execution_count": 161,
      "outputs": [
        {
          "output_type": "stream",
          "name": "stdout",
          "text": [
            "Data Type :  object\n",
            "\n",
            "NaN values :  148\n",
            "\n",
            "Yes    1119\n",
            "Name: Central_Locking, dtype: int64\n"
          ]
        }
      ]
    },
    {
      "cell_type": "markdown",
      "source": [
        "* Replace NaN values with No"
      ],
      "metadata": {
        "id": "9prL7XAiD5QO"
      }
    },
    {
      "cell_type": "code",
      "source": [
        "data['Central_Locking'] = data['Central_Locking'].fillna('No')"
      ],
      "metadata": {
        "id": "k7RXR6qPCIYL"
      },
      "execution_count": 162,
      "outputs": []
    },
    {
      "cell_type": "markdown",
      "source": [
        "* Column after replacing."
      ],
      "metadata": {
        "id": "7kPoXeO7EJkU"
      }
    },
    {
      "cell_type": "code",
      "source": [
        "print(\"Data Type : \",data['Central_Locking'].dtype)\n",
        "print()\n",
        "print(\"NaN values : \",data['Central_Locking'].isna().sum())\n",
        "print()\n",
        "print(data['Central_Locking'].value_counts())"
      ],
      "metadata": {
        "colab": {
          "base_uri": "https://localhost:8080/"
        },
        "id": "DTBwMC0wCIbs",
        "outputId": "bfd6760f-fcd1-44c5-cba1-0192b13676d1"
      },
      "execution_count": 163,
      "outputs": [
        {
          "output_type": "stream",
          "name": "stdout",
          "text": [
            "Data Type :  object\n",
            "\n",
            "NaN values :  0\n",
            "\n",
            "Yes    1119\n",
            "No      148\n",
            "Name: Central_Locking, dtype: int64\n"
          ]
        }
      ]
    },
    {
      "cell_type": "markdown",
      "source": [
        "### 59. Child_Safety_Locks column"
      ],
      "metadata": {
        "id": "hQQc9vFJER7_"
      }
    },
    {
      "cell_type": "code",
      "source": [
        "print(\"Data Type : \",data['Child_Safety_Locks'].dtype)\n",
        "print()\n",
        "print(\"NaN values : \",data['Child_Safety_Locks'].isna().sum())\n",
        "print()\n",
        "print(data['Child_Safety_Locks'].value_counts())"
      ],
      "metadata": {
        "colab": {
          "base_uri": "https://localhost:8080/"
        },
        "id": "x4j6iC1qESYy",
        "outputId": "245c0bdf-c537-43bc-bcbb-df497dfb65cc"
      },
      "execution_count": 164,
      "outputs": [
        {
          "output_type": "stream",
          "name": "stdout",
          "text": [
            "Data Type :  object\n",
            "\n",
            "NaN values :  75\n",
            "\n",
            "Yes    1192\n",
            "Name: Child_Safety_Locks, dtype: int64\n"
          ]
        }
      ]
    },
    {
      "cell_type": "markdown",
      "source": [
        "* Replace NaN values with \"No\""
      ],
      "metadata": {
        "id": "SbM23aT3EjVD"
      }
    },
    {
      "cell_type": "code",
      "source": [
        "data['Child_Safety_Locks'] = data['Child_Safety_Locks'].fillna(\"No\")"
      ],
      "metadata": {
        "id": "2oW7FAD3ESd0"
      },
      "execution_count": 165,
      "outputs": []
    },
    {
      "cell_type": "markdown",
      "source": [
        "* Values after replacing."
      ],
      "metadata": {
        "id": "k-qjNv16ExAV"
      }
    },
    {
      "cell_type": "code",
      "source": [
        "print(\"Data Type : \",data['Child_Safety_Locks'].dtype)\n",
        "print()\n",
        "print(\"NaN values : \",data['Child_Safety_Locks'].isna().sum())\n",
        "print()\n",
        "print(data['Child_Safety_Locks'].value_counts())"
      ],
      "metadata": {
        "colab": {
          "base_uri": "https://localhost:8080/"
        },
        "id": "L35JgWADEShW",
        "outputId": "cd56591c-e1e1-4f0e-f03e-2d7f6809cdfd"
      },
      "execution_count": 166,
      "outputs": [
        {
          "output_type": "stream",
          "name": "stdout",
          "text": [
            "Data Type :  object\n",
            "\n",
            "NaN values :  0\n",
            "\n",
            "Yes    1192\n",
            "No       75\n",
            "Name: Child_Safety_Locks, dtype: int64\n"
          ]
        }
      ]
    },
    {
      "cell_type": "markdown",
      "source": [
        "### 60. Clock column"
      ],
      "metadata": {
        "id": "gomaipiBE5qd"
      }
    },
    {
      "cell_type": "code",
      "source": [
        "print(\"Data Type : \",data['Clock'].dtype)\n",
        "print()\n",
        "print(\"NaN values : \",data['Clock'].isna().sum())\n",
        "print()\n",
        "print(data['Clock'].value_counts())"
      ],
      "metadata": {
        "colab": {
          "base_uri": "https://localhost:8080/"
        },
        "id": "G1uAvqdZESkw",
        "outputId": "2daa00f4-40d3-4d45-c0b3-465cec8ff556"
      },
      "execution_count": 167,
      "outputs": [
        {
          "output_type": "stream",
          "name": "stdout",
          "text": [
            "Data Type :  object\n",
            "\n",
            "NaN values :  134\n",
            "\n",
            "Digital            1049\n",
            "Analog               41\n",
            "Yes                  39\n",
            "Digital, Analog       4\n",
            "Name: Clock, dtype: int64\n"
          ]
        }
      ]
    },
    {
      "cell_type": "code",
      "source": [
        "data['Clock']=data['Clock'].replace({\"Digital, Analog\":\"Digital-Analog\",np.nan:\"No\"})"
      ],
      "metadata": {
        "id": "1UcKOvBfESoq"
      },
      "execution_count": 168,
      "outputs": []
    },
    {
      "cell_type": "markdown",
      "source": [
        "* After Cleanning"
      ],
      "metadata": {
        "id": "7bRQpCYBFhf3"
      }
    },
    {
      "cell_type": "code",
      "source": [
        "print(\"Data Type : \",data['Clock'].dtype)\n",
        "print()\n",
        "print(\"NaN values : \",data['Clock'].isna().sum())\n",
        "print()\n",
        "print(data['Clock'].value_counts())"
      ],
      "metadata": {
        "colab": {
          "base_uri": "https://localhost:8080/"
        },
        "id": "TKNPiqeXESr_",
        "outputId": "065909ca-af23-4253-b02b-d1929aea562a"
      },
      "execution_count": 169,
      "outputs": [
        {
          "output_type": "stream",
          "name": "stdout",
          "text": [
            "Data Type :  object\n",
            "\n",
            "NaN values :  0\n",
            "\n",
            "Digital           1049\n",
            "No                 134\n",
            "Analog              41\n",
            "Yes                 39\n",
            "Digital-Analog       4\n",
            "Name: Clock, dtype: int64\n"
          ]
        }
      ]
    },
    {
      "cell_type": "markdown",
      "source": [
        "### 61. Cup_Holders column"
      ],
      "metadata": {
        "id": "trenpsNeO4MO"
      }
    },
    {
      "cell_type": "code",
      "source": [
        "print(\"Data Type : \",data['Cup_Holders'].dtype)\n",
        "print()\n",
        "print(\"Types of cup holder : \",data['Cup_Holders'].nunique())\n",
        "print()\n",
        "print(\"NaN values : \",data['Cup_Holders'].isna().sum())\n",
        "print()\n",
        "print(data['Cup_Holders'].value_counts())"
      ],
      "metadata": {
        "colab": {
          "base_uri": "https://localhost:8080/"
        },
        "id": "ugF0ItzBESvg",
        "outputId": "0c7108d3-705d-4100-f1b3-859368c745d4"
      },
      "execution_count": 185,
      "outputs": [
        {
          "output_type": "stream",
          "name": "stdout",
          "text": [
            "Data Type :  object\n",
            "\n",
            "Types of cup holder :  9\n",
            "\n",
            "NaN values :  41\n",
            "\n",
            "Front & Rear                  583\n",
            "Front                         459\n",
            "Yes                           111\n",
            "Not on offer                   51\n",
            "Centre                         14\n",
            "Front, Front & Rear             4\n",
            "Front & Rear, Centre            2\n",
            "Centre, Front & Rear            1\n",
            "Not on offer, Front & Rear      1\n",
            "Name: Cup_Holders, dtype: int64\n"
          ]
        }
      ]
    },
    {
      "cell_type": "markdown",
      "source": [
        "* Replacing repitative values."
      ],
      "metadata": {
        "id": "wvcUTlsXRUO0"
      }
    },
    {
      "cell_type": "code",
      "source": [
        "data['Cup_Holders'] = data['Cup_Holders'].replace({'Not on offer':'No','Front, Front & Rear':'Front & Rear','Not on offer, Front & Rear':'Front & Rear','Centre, Front & Rear':'Front & Rear, Centre'})\n",
        "data['Cup_Holders'] = data['Cup_Holders'].replace({'Front & Rear, Centre':'Front, Rear & Centre'})"
      ],
      "metadata": {
        "id": "zPPxowAsESys"
      },
      "execution_count": 190,
      "outputs": []
    },
    {
      "cell_type": "code",
      "source": [
        "print(\"Data Type : \",data['Cup_Holders'].dtype)\n",
        "print()\n",
        "print(\"Types of cup holder : \",data['Cup_Holders'].nunique())\n",
        "print()\n",
        "print(\"NaN values : \",data['Cup_Holders'].isna().sum())\n",
        "print()\n",
        "print(data['Cup_Holders'].value_counts())"
      ],
      "metadata": {
        "colab": {
          "base_uri": "https://localhost:8080/"
        },
        "id": "SeINljpGES2b",
        "outputId": "9398fbb7-87bf-456b-d9da-bc53f2af6b80"
      },
      "execution_count": 191,
      "outputs": [
        {
          "output_type": "stream",
          "name": "stdout",
          "text": [
            "Data Type :  object\n",
            "\n",
            "Types of cup holder :  6\n",
            "\n",
            "NaN values :  41\n",
            "\n",
            "Front & Rear            588\n",
            "Front                   459\n",
            "Yes                     111\n",
            "No                       51\n",
            "Centre                   14\n",
            "Front, Rear & Centre      3\n",
            "Name: Cup_Holders, dtype: int64\n"
          ]
        }
      ]
    },
    {
      "cell_type": "markdown",
      "source": [
        "### 62. Door_Pockets column"
      ],
      "metadata": {
        "id": "iStMz8DeRe7Y"
      }
    },
    {
      "cell_type": "code",
      "source": [
        "print(\"Data Type : \",data['Door_Pockets'].dtype)\n",
        "print()\n",
        "print(\"Types of door pockets : \",data['Door_Pockets'].nunique())\n",
        "print()\n",
        "print(\"NaN values : \",data['Door_Pockets'].isna().sum())\n",
        "print()\n",
        "print(data['Door_Pockets'].value_counts())"
      ],
      "metadata": {
        "colab": {
          "base_uri": "https://localhost:8080/"
        },
        "id": "YKOTuSmQRfUI",
        "outputId": "d75a922d-d35c-482a-ae85-6e80684c953a"
      },
      "execution_count": 203,
      "outputs": [
        {
          "output_type": "stream",
          "name": "stdout",
          "text": [
            "Data Type :  object\n",
            "\n",
            "Types of cup holder :  4\n",
            "\n",
            "NaN values :  117\n",
            "\n",
            "Front & Rear           689\n",
            "Front                  309\n",
            "Yes                    144\n",
            "Front, Front & Rear      8\n",
            "Name: Door_Pockets, dtype: int64\n"
          ]
        }
      ]
    },
    {
      "cell_type": "code",
      "source": [
        "data['Door_Pockets'] = data['Door_Pockets'].replace({\"Front, Front & Rear\":\"Front & Rear\",np.nan:\"Unknown\"})"
      ],
      "metadata": {
        "id": "FoBDwBLZRfe0"
      },
      "execution_count": 204,
      "outputs": []
    },
    {
      "cell_type": "code",
      "source": [
        "print(\"Data Type : \",data['Door_Pockets'].dtype)\n",
        "print()\n",
        "print(\"Types of door pockets : \",data['Door_Pockets'].nunique())\n",
        "print()\n",
        "print(\"NaN values : \",data['Door_Pockets'].isna().sum())\n",
        "print()\n",
        "print(data['Door_Pockets'].value_counts())"
      ],
      "metadata": {
        "colab": {
          "base_uri": "https://localhost:8080/"
        },
        "id": "bGapL0WuRfpn",
        "outputId": "5d701a01-db24-447f-c370-3b3a5013a2f5"
      },
      "execution_count": 205,
      "outputs": [
        {
          "output_type": "stream",
          "name": "stdout",
          "text": [
            "Data Type :  object\n",
            "\n",
            "Types of cup holder :  4\n",
            "\n",
            "NaN values :  0\n",
            "\n",
            "Front & Rear    697\n",
            "Front           309\n",
            "Yes             144\n",
            "Unknown         117\n",
            "Name: Door_Pockets, dtype: int64\n"
          ]
        }
      ]
    },
    {
      "cell_type": "markdown",
      "source": [
        "### 63. Engine_Malfunction_Light column"
      ],
      "metadata": {
        "id": "QoN4667NTcWp"
      }
    },
    {
      "cell_type": "code",
      "source": [
        "print(\"Data Type : \",data['Engine_Malfunction_Light'].dtype)\n",
        "print()\n",
        "print(\"NaN values : \",data['Engine_Malfunction_Light'].isna().sum())\n",
        "print()\n",
        "print(data['Engine_Malfunction_Light'].value_counts())"
      ],
      "metadata": {
        "colab": {
          "base_uri": "https://localhost:8080/"
        },
        "id": "1wvZXjdyRf3O",
        "outputId": "7e7eed52-52f5-4cf1-e4f5-263e80c875cb"
      },
      "execution_count": 207,
      "outputs": [
        {
          "output_type": "stream",
          "name": "stdout",
          "text": [
            "Data Type :  object\n",
            "\n",
            "NaN values :  116\n",
            "\n",
            "Yes    1151\n",
            "Name: Engine_Malfunction_Light, dtype: int64\n"
          ]
        }
      ]
    },
    {
      "cell_type": "code",
      "source": [
        "data['Engine_Malfunction_Light'] = data['Engine_Malfunction_Light'].replace(np.nan,'No')"
      ],
      "metadata": {
        "id": "-KkjQRHxRf63"
      },
      "execution_count": 210,
      "outputs": []
    },
    {
      "cell_type": "code",
      "source": [
        "print(\"Data Type : \",data['Engine_Malfunction_Light'].dtype)\n",
        "print()\n",
        "print(\"NaN values : \",data['Engine_Malfunction_Light'].isna().sum())\n",
        "print()\n",
        "print(data['Engine_Malfunction_Light'].value_counts())"
      ],
      "metadata": {
        "colab": {
          "base_uri": "https://localhost:8080/"
        },
        "id": "jGAJi5OERf-D",
        "outputId": "709d286b-1fb6-47e2-89f2-2ed58ebefa88"
      },
      "execution_count": 211,
      "outputs": [
        {
          "output_type": "stream",
          "name": "stdout",
          "text": [
            "Data Type :  object\n",
            "\n",
            "NaN values :  0\n",
            "\n",
            "Yes    1151\n",
            "No      116\n",
            "Name: Engine_Malfunction_Light, dtype: int64\n"
          ]
        }
      ]
    },
    {
      "cell_type": "markdown",
      "source": [
        "### 64. FM_Radio column"
      ],
      "metadata": {
        "id": "od2BIRgrUiIk"
      }
    },
    {
      "cell_type": "code",
      "source": [
        "print(\"Data Type : \",data['FM_Radio'].dtype)\n",
        "print()\n",
        "print(\"NaN values : \",data['FM_Radio'].isna().sum())\n",
        "print()\n",
        "print(data['FM_Radio'].value_counts())"
      ],
      "metadata": {
        "colab": {
          "base_uri": "https://localhost:8080/"
        },
        "id": "IH4KH2FGRgBJ",
        "outputId": "9e7578d4-41d7-451e-bcc9-15de1f43488d"
      },
      "execution_count": 223,
      "outputs": [
        {
          "output_type": "stream",
          "name": "stdout",
          "text": [
            "Data Type :  object\n",
            "\n",
            "NaN values :  249\n",
            "\n",
            "Yes    1018\n",
            "Name: FM_Radio, dtype: int64\n"
          ]
        }
      ]
    },
    {
      "cell_type": "markdown",
      "source": [
        "* replace null values with unknown"
      ],
      "metadata": {
        "id": "P5I7UT8FWZcL"
      }
    },
    {
      "cell_type": "code",
      "source": [
        "data['FM_Radio'] = data['FM_Radio'].replace(np.nan,\"Unknown\")"
      ],
      "metadata": {
        "id": "OLLdm0edRgEJ"
      },
      "execution_count": 224,
      "outputs": []
    },
    {
      "cell_type": "markdown",
      "source": [
        "* After replacing null values."
      ],
      "metadata": {
        "id": "-ydP1YulW4dx"
      }
    },
    {
      "cell_type": "code",
      "source": [
        "print(\"Data Type : \",data['FM_Radio'].dtype)\n",
        "print()\n",
        "print(\"NaN values : \",data['FM_Radio'].isna().sum())\n",
        "print()\n",
        "print(data['FM_Radio'].value_counts())"
      ],
      "metadata": {
        "colab": {
          "base_uri": "https://localhost:8080/"
        },
        "id": "RofQlFk5n8cC",
        "outputId": "7fbf0040-8784-4706-f4e8-56c728d33c3a"
      },
      "execution_count": 225,
      "outputs": [
        {
          "output_type": "stream",
          "name": "stdout",
          "text": [
            "Data Type :  object\n",
            "\n",
            "NaN values :  0\n",
            "\n",
            "Yes        1018\n",
            "Unknown     249\n",
            "Name: FM_Radio, dtype: int64\n"
          ]
        }
      ]
    },
    {
      "cell_type": "markdown",
      "source": [
        "### 65. Fuel-lid_Opener column"
      ],
      "metadata": {
        "id": "KSQZyXhUW-E6"
      }
    },
    {
      "cell_type": "code",
      "source": [
        "print(\"Data Type : \",data['Fuel-lid_Opener'].dtype)\n",
        "print()\n",
        "print(\"NaN values : \",data['Fuel-lid_Opener'].isna().sum())\n",
        "print()\n",
        "print(data['Fuel-lid_Opener'].value_counts())"
      ],
      "metadata": {
        "colab": {
          "base_uri": "https://localhost:8080/"
        },
        "id": "URsoLv8mW8Co",
        "outputId": "42142b72-6da6-4150-d6a3-bd34f7408da0"
      },
      "execution_count": 227,
      "outputs": [
        {
          "output_type": "stream",
          "name": "stdout",
          "text": [
            "Data Type :  object\n",
            "\n",
            "NaN values :  14\n",
            "\n",
            "Internal                               915\n",
            "Internal, With Remote                   92\n",
            "With Remote                             77\n",
            "Manual                                  62\n",
            "With Remote, Internal                   51\n",
            "Push to Open                            27\n",
            "Internal, Manual                        15\n",
            "With Remote, Manual                      7\n",
            "Manual, Internal                         3\n",
            "With Remote, Push to Open, Internal      2\n",
            "Push to Open, Internal                   1\n",
            "With Remote, Push to Open                1\n",
            "Name: Fuel-lid_Opener, dtype: int64\n"
          ]
        }
      ]
    },
    {
      "cell_type": "code",
      "source": [
        "data['Fuel-lid_Opener'] = data['Fuel-lid_Opener'].replace({'With Remote, Internal':'Internal, With Remote','Manual, Internal':'Internal, Manual',np.nan:\"Unknown\"})"
      ],
      "metadata": {
        "id": "LtMP_JBSW8GH"
      },
      "execution_count": 230,
      "outputs": []
    },
    {
      "cell_type": "code",
      "source": [
        "print(\"Data Type : \",data['Fuel-lid_Opener'].dtype)\n",
        "print()\n",
        "print(\"NaN values : \",data['Fuel-lid_Opener'].isna().sum())\n",
        "print()\n",
        "print(data['Fuel-lid_Opener'].value_counts())"
      ],
      "metadata": {
        "colab": {
          "base_uri": "https://localhost:8080/"
        },
        "id": "B8U5QFiqW8JY",
        "outputId": "6c295979-c2fd-4c61-b164-0362a6fe6069"
      },
      "execution_count": 231,
      "outputs": [
        {
          "output_type": "stream",
          "name": "stdout",
          "text": [
            "Data Type :  object\n",
            "\n",
            "NaN values :  0\n",
            "\n",
            "Internal                               915\n",
            "Internal, With Remote                  143\n",
            "With Remote                             77\n",
            "Manual                                  62\n",
            "Push to Open                            27\n",
            "Internal, Manual                        18\n",
            "Unknown                                 14\n",
            "With Remote, Manual                      7\n",
            "With Remote, Push to Open, Internal      2\n",
            "Push to Open, Internal                   1\n",
            "With Remote, Push to Open                1\n",
            "Name: Fuel-lid_Opener, dtype: int64\n"
          ]
        }
      ]
    },
    {
      "cell_type": "markdown",
      "source": [
        "### 66. Fuel_Gauge column"
      ],
      "metadata": {
        "id": "hV4NYg0kYOlK"
      }
    },
    {
      "cell_type": "code",
      "source": [
        "\n",
        "print(\"Data Type : \",data['Fuel_Gauge'].dtype)\n",
        "print()\n",
        "print(\"NaN values : \",data['Fuel_Gauge'].isna().sum())\n",
        "print()\n",
        "print(data['Fuel_Gauge'].value_counts())"
      ],
      "metadata": {
        "colab": {
          "base_uri": "https://localhost:8080/"
        },
        "id": "DPDSm_6YW8Ml",
        "outputId": "cbb4d0d3-7810-4edd-ac9a-7ca0a6766f1d"
      },
      "execution_count": 232,
      "outputs": [
        {
          "output_type": "stream",
          "name": "stdout",
          "text": [
            "Data Type :  object\n",
            "\n",
            "NaN values :  38\n",
            "\n",
            "Digital            701\n",
            "Analog             443\n",
            "Yes                 81\n",
            "Digital, Analog      3\n",
            "Analog, Digital      1\n",
            "Name: Fuel_Gauge, dtype: int64\n"
          ]
        }
      ]
    },
    {
      "cell_type": "code",
      "source": [],
      "metadata": {
        "id": "is9tU2vuW8QT"
      },
      "execution_count": null,
      "outputs": []
    },
    {
      "cell_type": "code",
      "source": [],
      "metadata": {
        "id": "qC-XDgZGW8i6"
      },
      "execution_count": null,
      "outputs": []
    },
    {
      "cell_type": "code",
      "source": [],
      "metadata": {
        "id": "yTvEOEskW8mi"
      },
      "execution_count": null,
      "outputs": []
    },
    {
      "cell_type": "markdown",
      "source": [
        "# Data"
      ],
      "metadata": {
        "id": "2LQt5rREYSSu"
      }
    },
    {
      "cell_type": "code",
      "source": [
        "data.info(verbose=True,null_counts=True)"
      ],
      "metadata": {
        "colab": {
          "base_uri": "https://localhost:8080/"
        },
        "id": "6jbalWGL8fDb",
        "outputId": "07662cf1-30ae-4330-9695-c6df7a2bd5d8"
      },
      "execution_count": 222,
      "outputs": [
        {
          "output_type": "stream",
          "name": "stdout",
          "text": [
            "<class 'pandas.core.frame.DataFrame'>\n",
            "Int64Index: 1267 entries, 0 to 1275\n",
            "Data columns (total 112 columns):\n",
            " #    Column                                     Non-Null Count  Dtype  \n",
            "---   ------                                     --------------  -----  \n",
            " 0    Make                                       1192 non-null   object \n",
            " 1    Model                                      1267 non-null   object \n",
            " 2    Variant                                    1267 non-null   object \n",
            " 3    Ex-Showroom_Price                          1267 non-null   object \n",
            " 4    Displacement                               1255 non-null   object \n",
            " 5    Cylinders                                  1201 non-null   float64\n",
            " 6    Valves_Per_Cylinder                        1165 non-null   float64\n",
            " 7    Drivetrain                                 1260 non-null   object \n",
            " 8    Cylinder_Configuration                     1254 non-null   object \n",
            " 9    Emission_Norm                              1256 non-null   object \n",
            " 10   Engine_Location                            1224 non-null   object \n",
            " 11   Fuel_System                                1259 non-null   object \n",
            " 12   Fuel_Tank_Capacity                         1198 non-null   object \n",
            " 13   Fuel_Type                                  1267 non-null   object \n",
            " 14   Height                                     1266 non-null   object \n",
            " 15   Length                                     1267 non-null   object \n",
            " 16   Width                                      1255 non-null   object \n",
            " 17   Body_Type                                  1261 non-null   object \n",
            " 18   Doors                                      1263 non-null   float64\n",
            " 19   City_Mileage                               713 non-null    object \n",
            " 20   Highway_Mileage                            475 non-null    object \n",
            " 21   ARAI_Certified_Mileage                     1153 non-null   object \n",
            " 22   Kerb_Weight                                902 non-null    object \n",
            " 23   Gears                                      1162 non-null   object \n",
            " 24   Ground_Clearance                           978 non-null    object \n",
            " 25   Front_Brakes                               1242 non-null   object \n",
            " 26   Rear_Brakes                                1242 non-null   object \n",
            " 27   Front_Suspension                           1208 non-null   object \n",
            " 28   Rear_Suspension                            1221 non-null   object \n",
            " 29   Front_Track                                600 non-null    object \n",
            " 30   Rear_Track                                 591 non-null    object \n",
            " 31   Front_Tyre_&_Rim                           1218 non-null   object \n",
            " 32   Rear_Tyre_&_Rim                            1219 non-null   object \n",
            " 33   Power_Steering                             1210 non-null   object \n",
            " 34   Power_Windows                              1170 non-null   object \n",
            " 35   Power_Seats                                382 non-null    object \n",
            " 36   Keyless_Entry                              993 non-null    object \n",
            " 37   Power                                      1267 non-null   object \n",
            " 38   Torque                                     1265 non-null   object \n",
            " 39   Odometer                                   1225 non-null   object \n",
            " 40   Speedometer                                1223 non-null   object \n",
            " 41   Tachometer                                 1254 non-null   object \n",
            " 42   Tripmeter                                  1208 non-null   object \n",
            " 43   Seating_Capacity                           1261 non-null   float64\n",
            " 44   Seats_Material                             1255 non-null   object \n",
            " 45   Type                                       1266 non-null   object \n",
            " 46   Wheelbase                                  1247 non-null   object \n",
            " 47   Wheels_Size                                1211 non-null   object \n",
            " 48   Start_/_Stop_Button                        591 non-null    object \n",
            " 49   12v_Power_Outlet                           1114 non-null   object \n",
            " 50   Audiosystem                                1223 non-null   object \n",
            " 51   Aux-in_Compatibility                       983 non-null    object \n",
            " 52   Basic_Warranty                             827 non-null    object \n",
            " 53   Bluetooth                                  975 non-null    object \n",
            " 54   Boot-lid_Opener                            1253 non-null   object \n",
            " 55   Boot_Space                                 1019 non-null   object \n",
            " 56   CD_/_MP3_/_DVD_Player                      958 non-null    object \n",
            " 57   Central_Locking                            1119 non-null   object \n",
            " 58   Child_Safety_Locks                         1192 non-null   object \n",
            " 59   Clock                                      1133 non-null   object \n",
            " 60   Cup_Holders                                1226 non-null   object \n",
            " 61   Door_Pockets                               1150 non-null   object \n",
            " 62   Engine_Malfunction_Light                   1151 non-null   object \n",
            " 63   FM_Radio                                   1018 non-null   object \n",
            " 64   Fuel-lid_Opener                            1253 non-null   object \n",
            " 65   Fuel_Gauge                                 1229 non-null   object \n",
            " 66   Handbrake                                  1210 non-null   object \n",
            " 67   Instrument_Console                         1253 non-null   object \n",
            " 68   Low_Fuel_Warning                           1231 non-null   object \n",
            " 69   Minimum_Turning_Radius                     886 non-null    object \n",
            " 70   Multifunction_Display                      1178 non-null   object \n",
            " 71   Sun_Visor                                  1205 non-null   object \n",
            " 72   Third_Row_AC_Vents                         901 non-null    object \n",
            " 73   Ventilation_System                         1232 non-null   object \n",
            " 74   Auto-Dimming_Rear-View_Mirror              651 non-null    object \n",
            " 75   Hill_Assist                                472 non-null    object \n",
            " 76   Gear_Indicator                             769 non-null    object \n",
            " 77   Engine_Immobilizer                         1207 non-null   object \n",
            " 78   Seat_Back_Pockets                          824 non-null    object \n",
            " 79   ABS_(Anti-lock_Braking_System)             1136 non-null   object \n",
            " 80   Headlight_Reminder                         1010 non-null   object \n",
            " 81   Adjustable_Headrests                       1017 non-null   object \n",
            " 82   Gross_Vehicle_Weight                       672 non-null    object \n",
            " 83   Airbags                                    1135 non-null   object \n",
            " 84   Door_Ajar_Warning                          1124 non-null   object \n",
            " 85   EBD_(Electronic_Brake-force_Distribution)  1067 non-null   object \n",
            " 86   Fasten_Seat_Belt_Warning                   1077 non-null   object \n",
            " 87   Gear_Shift_Reminder                        725 non-null    object \n",
            " 88   Number_of_Airbags                          1132 non-null   float64\n",
            " 89   Adjustable_Steering_Column                 1076 non-null   object \n",
            " 90   Parking_Assistance                         978 non-null    object \n",
            " 91   Key_Off_Reminder                           928 non-null    object \n",
            " 92   USB_Compatibility                          1000 non-null   object \n",
            " 93   Cigarette_Lighter                          594 non-null    object \n",
            " 94   Infotainment_Screen                        805 non-null    object \n",
            " 95   Multifunction_Steering_Wheel               916 non-null    object \n",
            " 96   Average_Speed                              760 non-null    object \n",
            " 97   EBA_(Electronic_Brake_Assist)              578 non-null    object \n",
            " 98   Seat_Height_Adjustment                     941 non-null    object \n",
            " 99   Navigation_System                          674 non-null    object \n",
            " 100  Second_Row_AC_Vents                        665 non-null    object \n",
            " 101  Rear_Center_Armrest                        709 non-null    object \n",
            " 102  iPod_Compatibility                         604 non-null    object \n",
            " 103  ESP_(Electronic_Stability_Program)         489 non-null    object \n",
            " 104  Cooled_Glove_Box                           622 non-null    object \n",
            " 105  Turbocharger                               649 non-null    object \n",
            " 106  ISOFIX_(Child-Seat_Mount)                  610 non-null    object \n",
            " 107  Rain_Sensing_Wipers                        469 non-null    object \n",
            " 108  Leather_Wrapped_Steering                   579 non-null    object \n",
            " 109  Automatic_Headlamps                        494 non-null    object \n",
            " 110  ASR_/_Traction_Control                     434 non-null    object \n",
            " 111  Cruise_Control                             540 non-null    object \n",
            "dtypes: float64(5), object(107)\n",
            "memory usage: 1.1+ MB\n"
          ]
        },
        {
          "output_type": "stream",
          "name": "stderr",
          "text": [
            "<ipython-input-222-83ed814146b6>:1: FutureWarning: null_counts is deprecated. Use show_counts instead\n",
            "  data.info(verbose=True,null_counts=True)\n"
          ]
        }
      ]
    },
    {
      "cell_type": "code",
      "source": [],
      "metadata": {
        "id": "QBfa9N9laEZ3"
      },
      "execution_count": 113,
      "outputs": []
    }
  ]
}